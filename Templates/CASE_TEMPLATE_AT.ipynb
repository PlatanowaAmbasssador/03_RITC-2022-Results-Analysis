{
 "cells": [
  {
   "cell_type": "code",
   "execution_count": 1,
   "id": "9560509d-ea10-4acd-baf9-63bd508b55e5",
   "metadata": {},
   "outputs": [],
   "source": [
    "import pandas as pd\n",
    "import numpy as np\n",
    "import plotly.graph_objects as go\n",
    "import matplotlib.pyplot as plt\n",
    "from sklearn.cluster import KMeans\n",
    "from IPython.display import Markdown as md\n",
    "from pathlib import Path"
   ]
  },
  {
   "cell_type": "code",
   "execution_count": 2,
   "id": "7b32705d-55c1-4ab5-8df0-67efd572cb94",
   "metadata": {
    "tags": [
     "parameters"
    ]
   },
   "outputs": [],
   "source": [
    "# case_name = ''\n",
    "\n",
    "# file_name = ''\n",
    "\n",
    "# sheet_name_all = ''\n",
    "\n",
    "# subheats_list = ''\n",
    "\n",
    "case_name = 'Algorithmic_Trading_Case'\n",
    "\n",
    "file_name = './Final_Resuts_from_RITC_2022'\n",
    "\n",
    "sheet_name_all = 'AT'\n",
    "\n",
    "subheats_list = [\"AT-1\",\"AT-2\",\"AT-3\",\"AT-4\", \"AT-5\",\"AT-6\",\"AT-7\",\"AT-8\",\"AT-9\",\"AT-10\"]"
   ]
  },
  {
   "cell_type": "code",
   "execution_count": 3,
   "id": "d92a531b-8ec5-42dc-ad33-6d1858b6297f",
   "metadata": {},
   "outputs": [],
   "source": [
    "def df_User(df_DF_SUBHEATS, user):\n",
    "    df = pd.DataFrame([list(pd.DataFrame(df_DF_SUBHEATS.loc[df_DF_SUBHEATS.loc[:,\"User\"]==user,].groupby([\"Team2\"])[\"NLV\"].mean()).loc[:,\"NLV\"])])\n",
    "    columns = list(pd.DataFrame(df_DF_SUBHEATS.loc[df_DF_SUBHEATS.loc[:,\"User\"]==user,].groupby([\"Team2\"])[\"NLV\"].mean()).index)\n",
    "    return df, columns"
   ]
  },
  {
   "cell_type": "code",
   "execution_count": 4,
   "id": "13f7984f-6f57-41d9-bb6d-12331643eb10",
   "metadata": {},
   "outputs": [
    {
     "data": {
      "text/markdown": [
       "<font size = 5> Welcome to the analysis of the <b>Algorithmic_Trading_Case</b>!</font>"
      ],
      "text/plain": [
       "<IPython.core.display.Markdown object>"
      ]
     },
     "execution_count": 4,
     "metadata": {},
     "output_type": "execute_result"
    }
   ],
   "source": [
    "md(f\"<font size = 5> Welcome to the analysis of the <b>{case_name}</b>!</font>\")  "
   ]
  },
  {
   "cell_type": "code",
   "execution_count": 5,
   "id": "a22fd256-19b3-4fdd-af47-872208eece08",
   "metadata": {},
   "outputs": [],
   "source": [
    "# import file\n",
    "DF_ALL = pd.read_excel(f\"{file_name}.xlsx\", sheet_name=sheet_name_all)"
   ]
  },
  {
   "cell_type": "code",
   "execution_count": 6,
   "id": "e2c91593-0794-45be-9cbf-6dcb6aca98cd",
   "metadata": {
    "scrolled": true
   },
   "outputs": [
    {
     "data": {
      "text/markdown": [
       "<font size = 4> In this case we have <b>10</b> Heats. </font>"
      ],
      "text/plain": [
       "<IPython.core.display.Markdown object>"
      ]
     },
     "execution_count": 6,
     "metadata": {},
     "output_type": "execute_result"
    }
   ],
   "source": [
    "cols = [i for i in list(DF_ALL.columns) if \"Subheat\" in i]\n",
    "\n",
    "md(f\"<font size = 4> In this case we have <b>{len(cols)}</b> Heats. </font>\")  "
   ]
  },
  {
   "cell_type": "code",
   "execution_count": 7,
   "id": "00a759af-edf6-4fa4-ab75-77d64cc5afe1",
   "metadata": {
    "scrolled": true
   },
   "outputs": [],
   "source": [
    "%%capture\n",
    "\n",
    "# formatting the file to rmeove uneccesary columns\n",
    "DF_ALL.loc[:,\"Team2\"] = DF_ALL[\"Team\"].str[0:4]\n",
    "DF_ALL = DF_ALL.loc[0:52,:]\n",
    "\n",
    "# calculating basic descriptive statistics\n",
    "DF_ALL.loc[:,\"Mean\"] = DF_ALL.loc[:,cols].mean(axis=1)\n",
    "DF_ALL.loc[:,\"Min\"] = DF_ALL.loc[:,cols].min(axis=1)\n",
    "DF_ALL.loc[:,\"Max\"] = DF_ALL.loc[:,cols].max(axis=1)"
   ]
  },
  {
   "cell_type": "code",
   "execution_count": 8,
   "id": "3d9b5a80-7bc9-494a-8d61-c13a60a52b50",
   "metadata": {},
   "outputs": [
    {
     "data": {
      "text/markdown": [
       "<font size = 4> We have calculated the Mean, Min, and Max for each Team of the university based on the Subheats. Check out the top 10:</font>"
      ],
      "text/plain": [
       "<IPython.core.display.Markdown object>"
      ]
     },
     "execution_count": 8,
     "metadata": {},
     "output_type": "execute_result"
    }
   ],
   "source": [
    "md(f\"<font size = 4> We have calculated the Mean, Min, and Max for each Team of the university based on the Subheats. Check out the top 10:</font>\")  "
   ]
  },
  {
   "cell_type": "code",
   "execution_count": 9,
   "id": "7f1e1d91-2c4d-4eda-bcf0-ba2f5c44ab10",
   "metadata": {},
   "outputs": [
    {
     "data": {
      "text/html": [
       "<div>\n",
       "<style scoped>\n",
       "    .dataframe tbody tr th:only-of-type {\n",
       "        vertical-align: middle;\n",
       "    }\n",
       "\n",
       "    .dataframe tbody tr th {\n",
       "        vertical-align: top;\n",
       "    }\n",
       "\n",
       "    .dataframe thead th {\n",
       "        text-align: right;\n",
       "    }\n",
       "</style>\n",
       "<table border=\"1\" class=\"dataframe\">\n",
       "  <thead>\n",
       "    <tr style=\"text-align: right;\">\n",
       "      <th></th>\n",
       "      <th>Team</th>\n",
       "      <th>Subheat 1-1Details</th>\n",
       "      <th>Subheat 1-2Details</th>\n",
       "      <th>Subheat 1-3Details</th>\n",
       "      <th>Subheat 1-4Details</th>\n",
       "      <th>Subheat 1-5Details</th>\n",
       "      <th>Subheat 1-6Details</th>\n",
       "      <th>Subheat 1-7Details</th>\n",
       "      <th>Subheat 1-8Details</th>\n",
       "      <th>Subheat 1-9Details</th>\n",
       "      <th>Subheat 1-10Details</th>\n",
       "      <th>Heat 1</th>\n",
       "      <th>Rank</th>\n",
       "      <th>Score</th>\n",
       "      <th>Unnamed: 14</th>\n",
       "      <th>Team2</th>\n",
       "      <th>Mean</th>\n",
       "      <th>Min</th>\n",
       "      <th>Max</th>\n",
       "    </tr>\n",
       "  </thead>\n",
       "  <tbody>\n",
       "    <tr>\n",
       "      <th>0</th>\n",
       "      <td>RZQO - University of Warsaw, Faculty of Econom...</td>\n",
       "      <td>6</td>\n",
       "      <td>12</td>\n",
       "      <td>7</td>\n",
       "      <td>15</td>\n",
       "      <td>16.0</td>\n",
       "      <td>6.0</td>\n",
       "      <td>8.0</td>\n",
       "      <td>5.0</td>\n",
       "      <td>17.0</td>\n",
       "      <td>10.0</td>\n",
       "      <td>1.0</td>\n",
       "      <td>1.0</td>\n",
       "      <td>53.0</td>\n",
       "      <td>102.0</td>\n",
       "      <td>RZQO</td>\n",
       "      <td>10.2</td>\n",
       "      <td>5.0</td>\n",
       "      <td>17.0</td>\n",
       "    </tr>\n",
       "    <tr>\n",
       "      <th>1</th>\n",
       "      <td>KLYZ - University College Dublin - Team A</td>\n",
       "      <td>51</td>\n",
       "      <td>51</td>\n",
       "      <td>2</td>\n",
       "      <td>1</td>\n",
       "      <td>1.0</td>\n",
       "      <td>1.0</td>\n",
       "      <td>1.0</td>\n",
       "      <td>1.0</td>\n",
       "      <td>8.0</td>\n",
       "      <td>2.0</td>\n",
       "      <td>2.0</td>\n",
       "      <td>2.0</td>\n",
       "      <td>52.0</td>\n",
       "      <td>119.0</td>\n",
       "      <td>KLYZ</td>\n",
       "      <td>11.9</td>\n",
       "      <td>1</td>\n",
       "      <td>51</td>\n",
       "    </tr>\n",
       "    <tr>\n",
       "      <th>2</th>\n",
       "      <td>MUKW - Southwestern University of Finance and ...</td>\n",
       "      <td>1</td>\n",
       "      <td>9</td>\n",
       "      <td>10</td>\n",
       "      <td>10</td>\n",
       "      <td>42.0</td>\n",
       "      <td>2.0</td>\n",
       "      <td>3.0</td>\n",
       "      <td>7.0</td>\n",
       "      <td>47.0</td>\n",
       "      <td>7.0</td>\n",
       "      <td>3.0</td>\n",
       "      <td>3.0</td>\n",
       "      <td>51.0</td>\n",
       "      <td>138.0</td>\n",
       "      <td>MUKW</td>\n",
       "      <td>13.8</td>\n",
       "      <td>1</td>\n",
       "      <td>47.0</td>\n",
       "    </tr>\n",
       "    <tr>\n",
       "      <th>3</th>\n",
       "      <td>SZEI - Baruch College - Team B</td>\n",
       "      <td>3</td>\n",
       "      <td>21</td>\n",
       "      <td>16</td>\n",
       "      <td>13</td>\n",
       "      <td>3.0</td>\n",
       "      <td>16.0</td>\n",
       "      <td>4.0</td>\n",
       "      <td>37.0</td>\n",
       "      <td>5.0</td>\n",
       "      <td>21.0</td>\n",
       "      <td>4.0</td>\n",
       "      <td>4.0</td>\n",
       "      <td>50.0</td>\n",
       "      <td>139.0</td>\n",
       "      <td>SZEI</td>\n",
       "      <td>13.9</td>\n",
       "      <td>3</td>\n",
       "      <td>37.0</td>\n",
       "    </tr>\n",
       "    <tr>\n",
       "      <th>4</th>\n",
       "      <td>NCGQ - University of Calgary - Team B</td>\n",
       "      <td>8</td>\n",
       "      <td>24</td>\n",
       "      <td>4</td>\n",
       "      <td>42</td>\n",
       "      <td>15.0</td>\n",
       "      <td>11.0</td>\n",
       "      <td>11.0</td>\n",
       "      <td>35.0</td>\n",
       "      <td>2.0</td>\n",
       "      <td>9.0</td>\n",
       "      <td>5.0</td>\n",
       "      <td>5.0</td>\n",
       "      <td>49.0</td>\n",
       "      <td>161.0</td>\n",
       "      <td>NCGQ</td>\n",
       "      <td>16.1</td>\n",
       "      <td>2.0</td>\n",
       "      <td>42</td>\n",
       "    </tr>\n",
       "    <tr>\n",
       "      <th>5</th>\n",
       "      <td>IVPJ - Fairfield University - Team B</td>\n",
       "      <td>34</td>\n",
       "      <td>4</td>\n",
       "      <td>8</td>\n",
       "      <td>36</td>\n",
       "      <td>8.0</td>\n",
       "      <td>33.0</td>\n",
       "      <td>2.0</td>\n",
       "      <td>9.0</td>\n",
       "      <td>24.0</td>\n",
       "      <td>6.0</td>\n",
       "      <td>6.0</td>\n",
       "      <td>6.0</td>\n",
       "      <td>48.0</td>\n",
       "      <td>164.0</td>\n",
       "      <td>IVPJ</td>\n",
       "      <td>16.4</td>\n",
       "      <td>2.0</td>\n",
       "      <td>36</td>\n",
       "    </tr>\n",
       "    <tr>\n",
       "      <th>6</th>\n",
       "      <td>TCZM - Hong Kong University of Science and Tec...</td>\n",
       "      <td>2</td>\n",
       "      <td>3</td>\n",
       "      <td>21</td>\n",
       "      <td>43</td>\n",
       "      <td>9.0</td>\n",
       "      <td>7.0</td>\n",
       "      <td>27.0</td>\n",
       "      <td>15.0</td>\n",
       "      <td>14.0</td>\n",
       "      <td>34.0</td>\n",
       "      <td>7.0</td>\n",
       "      <td>7.0</td>\n",
       "      <td>47.0</td>\n",
       "      <td>175.0</td>\n",
       "      <td>TCZM</td>\n",
       "      <td>17.5</td>\n",
       "      <td>2</td>\n",
       "      <td>43</td>\n",
       "    </tr>\n",
       "    <tr>\n",
       "      <th>7</th>\n",
       "      <td>OCFZ - University of Calgary - Team A</td>\n",
       "      <td>15</td>\n",
       "      <td>17</td>\n",
       "      <td>14</td>\n",
       "      <td>11</td>\n",
       "      <td>18.0</td>\n",
       "      <td>14.0</td>\n",
       "      <td>26.0</td>\n",
       "      <td>3.0</td>\n",
       "      <td>43.0</td>\n",
       "      <td>17.0</td>\n",
       "      <td>8.0</td>\n",
       "      <td>8.0</td>\n",
       "      <td>46.0</td>\n",
       "      <td>178.0</td>\n",
       "      <td>OCFZ</td>\n",
       "      <td>17.8</td>\n",
       "      <td>3.0</td>\n",
       "      <td>43.0</td>\n",
       "    </tr>\n",
       "    <tr>\n",
       "      <th>8</th>\n",
       "      <td>FQAR - University of Ottawa</td>\n",
       "      <td>26</td>\n",
       "      <td>8</td>\n",
       "      <td>25</td>\n",
       "      <td>6</td>\n",
       "      <td>33.0</td>\n",
       "      <td>3.0</td>\n",
       "      <td>35.0</td>\n",
       "      <td>27.0</td>\n",
       "      <td>16.0</td>\n",
       "      <td>3.0</td>\n",
       "      <td>9.0</td>\n",
       "      <td>9.0</td>\n",
       "      <td>45.0</td>\n",
       "      <td>182.0</td>\n",
       "      <td>FQAR</td>\n",
       "      <td>18.2</td>\n",
       "      <td>3.0</td>\n",
       "      <td>35.0</td>\n",
       "    </tr>\n",
       "    <tr>\n",
       "      <th>9</th>\n",
       "      <td>XAQY - Fordham University - Team A</td>\n",
       "      <td>35</td>\n",
       "      <td>31</td>\n",
       "      <td>3</td>\n",
       "      <td>8</td>\n",
       "      <td>6.0</td>\n",
       "      <td>17.0</td>\n",
       "      <td>24.0</td>\n",
       "      <td>30.0</td>\n",
       "      <td>9.0</td>\n",
       "      <td>19.0</td>\n",
       "      <td>9.0</td>\n",
       "      <td>9.0</td>\n",
       "      <td>45.0</td>\n",
       "      <td>182.0</td>\n",
       "      <td>XAQY</td>\n",
       "      <td>18.2</td>\n",
       "      <td>3</td>\n",
       "      <td>35</td>\n",
       "    </tr>\n",
       "  </tbody>\n",
       "</table>\n",
       "</div>"
      ],
      "text/plain": [
       "                                                Team Subheat 1-1Details  \\\n",
       "0  RZQO - University of Warsaw, Faculty of Econom...                  6   \n",
       "1          KLYZ - University College Dublin - Team A                 51   \n",
       "2  MUKW - Southwestern University of Finance and ...                  1   \n",
       "3                     SZEI - Baruch College - Team B                  3   \n",
       "4              NCGQ - University of Calgary - Team B                  8   \n",
       "5               IVPJ - Fairfield University - Team B                 34   \n",
       "6  TCZM - Hong Kong University of Science and Tec...                  2   \n",
       "7              OCFZ - University of Calgary - Team A                 15   \n",
       "8                        FQAR - University of Ottawa                 26   \n",
       "9                 XAQY - Fordham University - Team A                 35   \n",
       "\n",
       "  Subheat 1-2Details Subheat 1-3Details Subheat 1-4Details  \\\n",
       "0                 12                  7                 15   \n",
       "1                 51                  2                  1   \n",
       "2                  9                 10                 10   \n",
       "3                 21                 16                 13   \n",
       "4                 24                  4                 42   \n",
       "5                  4                  8                 36   \n",
       "6                  3                 21                 43   \n",
       "7                 17                 14                 11   \n",
       "8                  8                 25                  6   \n",
       "9                 31                  3                  8   \n",
       "\n",
       "   Subheat 1-5Details  Subheat 1-6Details  Subheat 1-7Details  \\\n",
       "0                16.0                 6.0                 8.0   \n",
       "1                 1.0                 1.0                 1.0   \n",
       "2                42.0                 2.0                 3.0   \n",
       "3                 3.0                16.0                 4.0   \n",
       "4                15.0                11.0                11.0   \n",
       "5                 8.0                33.0                 2.0   \n",
       "6                 9.0                 7.0                27.0   \n",
       "7                18.0                14.0                26.0   \n",
       "8                33.0                 3.0                35.0   \n",
       "9                 6.0                17.0                24.0   \n",
       "\n",
       "   Subheat 1-8Details  Subheat 1-9Details  Subheat 1-10Details  Heat 1  Rank  \\\n",
       "0                 5.0                17.0                 10.0     1.0   1.0   \n",
       "1                 1.0                 8.0                  2.0     2.0   2.0   \n",
       "2                 7.0                47.0                  7.0     3.0   3.0   \n",
       "3                37.0                 5.0                 21.0     4.0   4.0   \n",
       "4                35.0                 2.0                  9.0     5.0   5.0   \n",
       "5                 9.0                24.0                  6.0     6.0   6.0   \n",
       "6                15.0                14.0                 34.0     7.0   7.0   \n",
       "7                 3.0                43.0                 17.0     8.0   8.0   \n",
       "8                27.0                16.0                  3.0     9.0   9.0   \n",
       "9                30.0                 9.0                 19.0     9.0   9.0   \n",
       "\n",
       "   Score  Unnamed: 14 Team2  Mean  Min   Max  \n",
       "0   53.0        102.0  RZQO  10.2  5.0  17.0  \n",
       "1   52.0        119.0  KLYZ  11.9    1    51  \n",
       "2   51.0        138.0  MUKW  13.8    1  47.0  \n",
       "3   50.0        139.0  SZEI  13.9    3  37.0  \n",
       "4   49.0        161.0  NCGQ  16.1  2.0    42  \n",
       "5   48.0        164.0  IVPJ  16.4  2.0    36  \n",
       "6   47.0        175.0  TCZM  17.5    2    43  \n",
       "7   46.0        178.0  OCFZ  17.8  3.0  43.0  \n",
       "8   45.0        182.0  FQAR  18.2  3.0  35.0  \n",
       "9   45.0        182.0  XAQY  18.2    3    35  "
      ]
     },
     "execution_count": 9,
     "metadata": {},
     "output_type": "execute_result"
    }
   ],
   "source": [
    "DF_ALL.head(10)"
   ]
  },
  {
   "cell_type": "code",
   "execution_count": 10,
   "id": "71794021-a7b0-48f8-aa05-117ae58411e3",
   "metadata": {},
   "outputs": [
    {
     "data": {
      "text/markdown": [
       "<font size = 4> This plot presents for each team the important statistics for the <b>Algorithmic_Trading_Case</b></font>"
      ],
      "text/plain": [
       "<IPython.core.display.Markdown object>"
      ]
     },
     "execution_count": 10,
     "metadata": {},
     "output_type": "execute_result"
    }
   ],
   "source": [
    "md(f\"<font size = 4> This plot presents for each team the important statistics for the <b>{case_name}</b></font>\")  "
   ]
  },
  {
   "cell_type": "code",
   "execution_count": 11,
   "id": "6fda9c0e-38b9-41a2-b26b-0766259c5d34",
   "metadata": {},
   "outputs": [
    {
     "data": {
      "text/markdown": [
       "<font size = 3> <b>Red Dot</b> - Final Rank of the Team</font>"
      ],
      "text/plain": [
       "<IPython.core.display.Markdown object>"
      ]
     },
     "execution_count": 11,
     "metadata": {},
     "output_type": "execute_result"
    }
   ],
   "source": [
    "md(f\"<font size = 3> <b>Red Dot</b> - Final Rank of the Team</font>\")  "
   ]
  },
  {
   "cell_type": "code",
   "execution_count": 12,
   "id": "ddbec11e-bbb4-4640-88cc-bf2ca33a8a09",
   "metadata": {},
   "outputs": [
    {
     "data": {
      "text/markdown": [
       "<font size = 3> <b>Blue Dot</b> -  Mean of the ranks based on all Subheats</font>"
      ],
      "text/plain": [
       "<IPython.core.display.Markdown object>"
      ]
     },
     "execution_count": 12,
     "metadata": {},
     "output_type": "execute_result"
    }
   ],
   "source": [
    "md(f\"<font size = 3> <b>Blue Dot</b> -  Mean of the ranks based on all Subheats</font>\")  "
   ]
  },
  {
   "cell_type": "code",
   "execution_count": 13,
   "id": "a89eae9f-4141-4b91-b19b-922d59e418f4",
   "metadata": {},
   "outputs": [
    {
     "data": {
      "text/markdown": [
       "<font size = 3> <b>Green shaded area</b> -  the range between the minimum and the maximum rank taken based on all Subheats</font>"
      ],
      "text/plain": [
       "<IPython.core.display.Markdown object>"
      ]
     },
     "execution_count": 13,
     "metadata": {},
     "output_type": "execute_result"
    }
   ],
   "source": [
    "md(f\"<font size = 3> <b>Green shaded area</b> -  the range between the minimum and the maximum rank taken based on all Subheats</font>\")  "
   ]
  },
  {
   "cell_type": "code",
   "execution_count": 14,
   "id": "5fb9a3c0-0dd6-4bf1-b9a3-28199278186a",
   "metadata": {},
   "outputs": [
    {
     "data": {
      "image/png": "[encoded data removed]",
      "text/plain": [
       "<Figure size 800x1600 with 1 Axes>"
      ]
     },
     "metadata": {},
     "output_type": "display_data"
    }
   ],
   "source": [
    "fig = plt.figure(figsize=(8, 16))\n",
    "ax = fig.add_subplot(111)\n",
    "\n",
    "ax.plot(\n",
    "    DF_ALL.loc[:,\"Rank\"],\n",
    "    DF_ALL.loc[:,\"Team2\"],\n",
    "    marker = \"o\",\n",
    "    linestyle=\"\",\n",
    "    color = \"maroon\")\n",
    "\n",
    "ax.plot(\n",
    "    DF_ALL.loc[:,\"Mean\"],\n",
    "    DF_ALL.loc[:,\"Team2\"],\n",
    "    marker = \"o\",\n",
    "    linestyle=\"\",\n",
    "    color = \"blue\")\n",
    "\n",
    "ax.barh(\n",
    "    DF_ALL.loc[:,\"Team2\"],\n",
    "    DF_ALL.loc[:,\"Min\"],\n",
    "    align='center',\n",
    "    height=.25,\n",
    "    color='white',\n",
    "    label='min')\n",
    "\n",
    "ax.barh(DF_ALL.loc[:,\"Team2\"],\n",
    "        DF_ALL.loc[:,\"Max\"]-DF_ALL.loc[:,\"Min\"],\n",
    "        align='center', \n",
    "        height=.25,\n",
    "        left=DF_ALL.loc[:,\"Min\"],\n",
    "        color='green',\n",
    "        label='max')\n",
    "\n",
    "ax.set_yticks(DF_ALL.loc[:,\"Team2\"])\n",
    "\n",
    "ax.grid(True)\n",
    "plt.title(f\"Summary Of All Teams For the {case_name}\")\n",
    "\n",
    "plt.xlabel('Rank')\n",
    "plt.ylabel('Team Code')\n",
    "\n",
    "plt.tight_layout()\n",
    "plt.show()"
   ]
  },
  {
   "cell_type": "markdown",
   "id": "4f91802e-4cc0-41ae-bc2b-b4ca1c27df75",
   "metadata": {},
   "source": [
    "### Import Each Heat "
   ]
  },
  {
   "cell_type": "code",
   "execution_count": 15,
   "id": "622006db-a7c8-4d5c-b8bd-082d15d2f05e",
   "metadata": {},
   "outputs": [
    {
     "data": {
      "text/markdown": [
       "<font size = 4> Now we are going to import the data for each Subheat of the <b>Algorithmic_Trading_Case</b>. That data presents the Net Liquidation Value (NLV) for each time. For reference, we know that we have <b>10</b> heats in this case.</font>"
      ],
      "text/plain": [
       "<IPython.core.display.Markdown object>"
      ]
     },
     "execution_count": 15,
     "metadata": {},
     "output_type": "execute_result"
    }
   ],
   "source": [
    "md(f\"<font size = 4> Now we are going to import the data for each Subheat of the <b>{case_name}</b>. That data presents the Net Liquidation Value (NLV) for each time. For reference, we know that we have <b>{len(cols)}</b> heats in this case.</font>\")  "
   ]
  },
  {
   "cell_type": "code",
   "execution_count": 16,
   "id": "7f290031-b90e-41da-bb22-c691951098ca",
   "metadata": {},
   "outputs": [
    {
     "data": {
      "text/markdown": [
       "<font size = 3> <b> Net Liquidation Value (NLV) </b> - Indicated the value of the security if the current position is closed immediately at the best bid (for Long Positions) or best ask (for Short Positions).</font>"
      ],
      "text/plain": [
       "<IPython.core.display.Markdown object>"
      ]
     },
     "execution_count": 16,
     "metadata": {},
     "output_type": "execute_result"
    }
   ],
   "source": [
    "md(f\"<font size = 3> <b> Net Liquidation Value (NLV) </b> - Indicated the value of the security if the current position is closed immediately at the best bid (for Long Positions) or best ask (for Short Positions).</font>\")  "
   ]
  },
  {
   "cell_type": "code",
   "execution_count": 17,
   "id": "ab10d3a4-a053-4ede-81a8-52761149dd2d",
   "metadata": {},
   "outputs": [],
   "source": [
    "# import each heat to get NLV for each team and concatenate each DataFrame\n",
    "for i in subheats_list:\n",
    "    if i == subheats_list[0]:\n",
    "        DF_SUBHEATS = pd.read_excel(f\"{file_name}.xlsx\", sheet_name=i)\n",
    "        DF_SUBHEATS.columns = DF_SUBHEATS.loc[0,:]\n",
    "        DF_SUBHEATS = DF_SUBHEATS.loc[1:,:]\n",
    "        DF_SUBHEATS.loc[:,\"Heat\"] = i\n",
    "    else:\n",
    "        DF_SUBHEATS_W = pd.read_excel(f\"{file_name}.xlsx\", sheet_name=i)\n",
    "        \n",
    "        DF_SUBHEATS_W.columns = DF_SUBHEATS_W.loc[0,:]\n",
    "        DF_SUBHEATS_W = DF_SUBHEATS_W.loc[1:,:]\n",
    "        \n",
    "        DF_SUBHEATS_W.loc[:,\"Heat\"] = i\n",
    "        DF_SUBHEATS = pd.concat([DF_SUBHEATS,DF_SUBHEATS_W])\n",
    "\n",
    "# DF_SUBHEATS.columns = DF_SUBHEATS.columns.fillna('to_drop')\n",
    "# DF_SUBHEATS = DF_SUBHEATS.drop(['Comment', 'Adjustment', 'to_drop'], axis=1)\n",
    "\n",
    "DF_SUBHEATS = DF_SUBHEATS.drop(['Comment', 'Adjustment'], axis=1)\n",
    "\n",
    "DF_SUBHEATS.loc[:,'NLV'] = DF_SUBHEATS.loc[:,'NLV'].astype('float')\n",
    "DF_SUBHEATS.loc[:,\"Team2\"] = DF_SUBHEATS.loc[:,\"Team\"].str[0:4]"
   ]
  },
  {
   "cell_type": "code",
   "execution_count": 18,
   "metadata": {},
   "outputs": [
    {
     "data": {
      "text/markdown": [
       "<font size = 4> In order to check if the data has been imported correctly we can do this in the folowing way: We know that we have 1 Users and 10 Heats and we have 53 teams so multiplying them gives us 530 which is the same as the number of rows in our dataframe = 530. </font>"
      ],
      "text/plain": [
       "<IPython.core.display.Markdown object>"
      ]
     },
     "execution_count": 18,
     "metadata": {},
     "output_type": "execute_result"
    }
   ],
   "source": [
    "import warnings\n",
    "warnings.filterwarnings(\"ignore\", category=FutureWarning) \n",
    "\n",
    "md(f\"<font size = 4> In order to check if the data has been imported correctly we can do this in the folowing way: We know that we have {DF_SUBHEATS.loc[DF_SUBHEATS['Heat']==subheats_list[0], ['Team']].value_counts()[1]} Users and {len(np.unique(DF_SUBHEATS['Heat']))} Heats and we have {len(np.unique(DF_SUBHEATS['Team']))} teams so multiplying them gives us {DF_SUBHEATS.loc[DF_SUBHEATS['Heat']==subheats_list[0], ['Team']].value_counts()[1]*len(np.unique(DF_SUBHEATS['Heat']))*len(np.unique(DF_SUBHEATS['Team']))} which is the same as the number of rows in our dataframe = {len(DF_SUBHEATS)}. </font>\")  "
   ]
  },
  {
   "cell_type": "code",
   "execution_count": 19,
   "id": "4dadc67a-9379-4c4a-af69-e58d6afb43cc",
   "metadata": {},
   "outputs": [
    {
     "data": {
      "text/markdown": [
       "<font size = 4> For reference, check out the first 10 rows:</font>"
      ],
      "text/plain": [
       "<IPython.core.display.Markdown object>"
      ]
     },
     "execution_count": 19,
     "metadata": {},
     "output_type": "execute_result"
    }
   ],
   "source": [
    "md(f\"<font size = 4> For reference, check out the first 10 rows:</font>\")  "
   ]
  },
  {
   "cell_type": "code",
   "execution_count": 20,
   "id": "3446cc40-088e-460a-b3fe-1507e1788913",
   "metadata": {},
   "outputs": [
    {
     "data": {
      "text/html": [
       "<div>\n",
       "<style scoped>\n",
       "    .dataframe tbody tr th:only-of-type {\n",
       "        vertical-align: middle;\n",
       "    }\n",
       "\n",
       "    .dataframe tbody tr th {\n",
       "        vertical-align: top;\n",
       "    }\n",
       "\n",
       "    .dataframe thead th {\n",
       "        text-align: right;\n",
       "    }\n",
       "</style>\n",
       "<table border=\"1\" class=\"dataframe\">\n",
       "  <thead>\n",
       "    <tr style=\"text-align: right;\">\n",
       "      <th></th>\n",
       "      <th>Team</th>\n",
       "      <th>User</th>\n",
       "      <th>NLV</th>\n",
       "      <th>Heat</th>\n",
       "      <th>Team2</th>\n",
       "    </tr>\n",
       "  </thead>\n",
       "  <tbody>\n",
       "    <tr>\n",
       "      <th>1</th>\n",
       "      <td>MWYX - University of Illinois Urbana Champaign</td>\n",
       "      <td>3</td>\n",
       "      <td>-5000000.0</td>\n",
       "      <td>AT-1</td>\n",
       "      <td>MWYX</td>\n",
       "    </tr>\n",
       "    <tr>\n",
       "      <th>2</th>\n",
       "      <td>TEYP - University of California, Los Angeles -...</td>\n",
       "      <td>1</td>\n",
       "      <td>-5000000.0</td>\n",
       "      <td>AT-1</td>\n",
       "      <td>TEYP</td>\n",
       "    </tr>\n",
       "    <tr>\n",
       "      <th>3</th>\n",
       "      <td>KLYZ - University College Dublin - Team A</td>\n",
       "      <td>4</td>\n",
       "      <td>-158816.0</td>\n",
       "      <td>AT-1</td>\n",
       "      <td>KLYZ</td>\n",
       "    </tr>\n",
       "    <tr>\n",
       "      <th>4</th>\n",
       "      <td>IJJN - Oklahoma State University</td>\n",
       "      <td>2</td>\n",
       "      <td>-82010.578125</td>\n",
       "      <td>AT-1</td>\n",
       "      <td>IJJN</td>\n",
       "    </tr>\n",
       "    <tr>\n",
       "      <th>5</th>\n",
       "      <td>KJEM - Simon Fraser University, Beedie School ...</td>\n",
       "      <td>3</td>\n",
       "      <td>-52950.703125</td>\n",
       "      <td>AT-1</td>\n",
       "      <td>KJEM</td>\n",
       "    </tr>\n",
       "    <tr>\n",
       "      <th>6</th>\n",
       "      <td>EJYY - Charles University, Institute of Econom...</td>\n",
       "      <td>1</td>\n",
       "      <td>-28465.191406</td>\n",
       "      <td>AT-1</td>\n",
       "      <td>EJYY</td>\n",
       "    </tr>\n",
       "    <tr>\n",
       "      <th>7</th>\n",
       "      <td>BYSI - University College Dublin - Team B</td>\n",
       "      <td>3</td>\n",
       "      <td>-22581.285156</td>\n",
       "      <td>AT-1</td>\n",
       "      <td>BYSI</td>\n",
       "    </tr>\n",
       "    <tr>\n",
       "      <th>8</th>\n",
       "      <td>PKHV - Indian Institute of Management, Raipur</td>\n",
       "      <td>1</td>\n",
       "      <td>-14666.282227</td>\n",
       "      <td>AT-1</td>\n",
       "      <td>PKHV</td>\n",
       "    </tr>\n",
       "    <tr>\n",
       "      <th>9</th>\n",
       "      <td>OXIR - LUISS Guido Carli University of Rome - ...</td>\n",
       "      <td>1</td>\n",
       "      <td>-13398.657227</td>\n",
       "      <td>AT-1</td>\n",
       "      <td>OXIR</td>\n",
       "    </tr>\n",
       "    <tr>\n",
       "      <th>10</th>\n",
       "      <td>WDJT - University of Virginia</td>\n",
       "      <td>4</td>\n",
       "      <td>-9999.68457</td>\n",
       "      <td>AT-1</td>\n",
       "      <td>WDJT</td>\n",
       "    </tr>\n",
       "  </tbody>\n",
       "</table>\n",
       "</div>"
      ],
      "text/plain": [
       "0                                                Team User           NLV  \\\n",
       "1      MWYX - University of Illinois Urbana Champaign    3    -5000000.0   \n",
       "2   TEYP - University of California, Los Angeles -...    1    -5000000.0   \n",
       "3           KLYZ - University College Dublin - Team A    4     -158816.0   \n",
       "4                    IJJN - Oklahoma State University    2 -82010.578125   \n",
       "5   KJEM - Simon Fraser University, Beedie School ...    3 -52950.703125   \n",
       "6   EJYY - Charles University, Institute of Econom...    1 -28465.191406   \n",
       "7           BYSI - University College Dublin - Team B    3 -22581.285156   \n",
       "8       PKHV - Indian Institute of Management, Raipur    1 -14666.282227   \n",
       "9   OXIR - LUISS Guido Carli University of Rome - ...    1 -13398.657227   \n",
       "10                      WDJT - University of Virginia    4   -9999.68457   \n",
       "\n",
       "0   Heat Team2  \n",
       "1   AT-1  MWYX  \n",
       "2   AT-1  TEYP  \n",
       "3   AT-1  KLYZ  \n",
       "4   AT-1  IJJN  \n",
       "5   AT-1  KJEM  \n",
       "6   AT-1  EJYY  \n",
       "7   AT-1  BYSI  \n",
       "8   AT-1  PKHV  \n",
       "9   AT-1  OXIR  \n",
       "10  AT-1  WDJT  "
      ]
     },
     "execution_count": 20,
     "metadata": {},
     "output_type": "execute_result"
    }
   ],
   "source": [
    "DF_SUBHEATS.head(10)"
   ]
  },
  {
   "cell_type": "code",
   "execution_count": 21,
   "id": "29262c75-5a12-4cf2-bd66-a7754fa0e15b",
   "metadata": {},
   "outputs": [],
   "source": [
    "DF_ALL_CASES = pd.read_excel(f'{file_name}.xlsx', sheet_name=\"finalrank\")\n",
    "best_teams = DF_ALL_CASES.loc[0:5,\"Team\"]"
   ]
  },
  {
   "cell_type": "code",
   "execution_count": 22,
   "id": "2f63fcde-06d0-4948-ad1a-03da024ad112",
   "metadata": {},
   "outputs": [
    {
     "data": {
      "text/markdown": [
       "<font size = 4> Based on the data from all cases, the six top rank teams are:</font>"
      ],
      "text/plain": [
       "<IPython.core.display.Markdown object>"
      ]
     },
     "execution_count": 22,
     "metadata": {},
     "output_type": "execute_result"
    }
   ],
   "source": [
    "md(f\"<font size = 4> Based on the data from all cases, the six top rank teams are:</font>\")  "
   ]
  },
  {
   "cell_type": "code",
   "execution_count": 23,
   "id": "a203c57d-8698-474f-aefa-5f1bfbbb67c9",
   "metadata": {
    "scrolled": true
   },
   "outputs": [
    {
     "data": {
      "text/html": [
       "<div>\n",
       "<style scoped>\n",
       "    .dataframe tbody tr th:only-of-type {\n",
       "        vertical-align: middle;\n",
       "    }\n",
       "\n",
       "    .dataframe tbody tr th {\n",
       "        vertical-align: top;\n",
       "    }\n",
       "\n",
       "    .dataframe thead th {\n",
       "        text-align: right;\n",
       "    }\n",
       "</style>\n",
       "<table border=\"1\" class=\"dataframe\">\n",
       "  <thead>\n",
       "    <tr style=\"text-align: right;\">\n",
       "      <th></th>\n",
       "      <th>Team Names</th>\n",
       "      <th>Team Codes</th>\n",
       "    </tr>\n",
       "  </thead>\n",
       "  <tbody>\n",
       "    <tr>\n",
       "      <th>0</th>\n",
       "      <td>SZEI - Baruch College - Team B</td>\n",
       "      <td>SZEI</td>\n",
       "    </tr>\n",
       "    <tr>\n",
       "      <th>1</th>\n",
       "      <td>DDIO - Baruch College - Team C</td>\n",
       "      <td>DDIO</td>\n",
       "    </tr>\n",
       "    <tr>\n",
       "      <th>2</th>\n",
       "      <td>FQAR - University of Ottawa</td>\n",
       "      <td>FQAR</td>\n",
       "    </tr>\n",
       "    <tr>\n",
       "      <th>3</th>\n",
       "      <td>VRYK - Baruch College - Team A</td>\n",
       "      <td>VRYK</td>\n",
       "    </tr>\n",
       "    <tr>\n",
       "      <th>4</th>\n",
       "      <td>NCGQ - University of Calgary - Team B</td>\n",
       "      <td>NCGQ</td>\n",
       "    </tr>\n",
       "    <tr>\n",
       "      <th>5</th>\n",
       "      <td>RZQO - University of Warsaw, Faculty of Econom...</td>\n",
       "      <td>RZQO</td>\n",
       "    </tr>\n",
       "  </tbody>\n",
       "</table>\n",
       "</div>"
      ],
      "text/plain": [
       "                                          Team Names Team Codes\n",
       "0                     SZEI - Baruch College - Team B       SZEI\n",
       "1                     DDIO - Baruch College - Team C       DDIO\n",
       "2                        FQAR - University of Ottawa       FQAR\n",
       "3                     VRYK - Baruch College - Team A       VRYK\n",
       "4              NCGQ - University of Calgary - Team B       NCGQ\n",
       "5  RZQO - University of Warsaw, Faculty of Econom...       RZQO"
      ]
     },
     "execution_count": 23,
     "metadata": {},
     "output_type": "execute_result"
    }
   ],
   "source": [
    "DF_BEST_TEAMS = pd.DataFrame(data={\n",
    "    'Team Names': best_teams,\n",
    "    'Team Codes': best_teams.str[0:4]\n",
    "})\n",
    "\n",
    "DF_BEST_TEAMS"
   ]
  },
  {
   "cell_type": "code",
   "execution_count": 24,
   "id": "49581ba0-28ae-447d-a226-8fecec70cbd6",
   "metadata": {},
   "outputs": [
    {
     "data": {
      "text/markdown": [
       "<font size = 4> These are the top 10 rank team of the <b>Algorithmic_Trading_Case</b></font>"
      ],
      "text/plain": [
       "<IPython.core.display.Markdown object>"
      ]
     },
     "execution_count": 24,
     "metadata": {},
     "output_type": "execute_result"
    }
   ],
   "source": [
    "md(f\"<font size = 4> These are the top 10 rank team of the <b>{case_name}</b></font>\")  "
   ]
  },
  {
   "cell_type": "code",
   "execution_count": 25,
   "id": "a1350ba8-a8fb-43cd-99c2-e65e9e540f4b",
   "metadata": {},
   "outputs": [
    {
     "data": {
      "text/html": [
       "<div>\n",
       "<style scoped>\n",
       "    .dataframe tbody tr th:only-of-type {\n",
       "        vertical-align: middle;\n",
       "    }\n",
       "\n",
       "    .dataframe tbody tr th {\n",
       "        vertical-align: top;\n",
       "    }\n",
       "\n",
       "    .dataframe thead th {\n",
       "        text-align: right;\n",
       "    }\n",
       "</style>\n",
       "<table border=\"1\" class=\"dataframe\">\n",
       "  <thead>\n",
       "    <tr style=\"text-align: right;\">\n",
       "      <th>Heat</th>\n",
       "      <th>AT-1</th>\n",
       "      <th>AT-10</th>\n",
       "      <th>AT-2</th>\n",
       "      <th>AT-3</th>\n",
       "      <th>AT-4</th>\n",
       "      <th>AT-5</th>\n",
       "      <th>AT-6</th>\n",
       "      <th>AT-7</th>\n",
       "      <th>AT-8</th>\n",
       "      <th>AT-9</th>\n",
       "      <th>Rank</th>\n",
       "    </tr>\n",
       "    <tr>\n",
       "      <th>Team2</th>\n",
       "      <th></th>\n",
       "      <th></th>\n",
       "      <th></th>\n",
       "      <th></th>\n",
       "      <th></th>\n",
       "      <th></th>\n",
       "      <th></th>\n",
       "      <th></th>\n",
       "      <th></th>\n",
       "      <th></th>\n",
       "      <th></th>\n",
       "    </tr>\n",
       "  </thead>\n",
       "  <tbody>\n",
       "    <tr>\n",
       "      <th>RZQO</th>\n",
       "      <td>77187</td>\n",
       "      <td>67010</td>\n",
       "      <td>60115</td>\n",
       "      <td>73130</td>\n",
       "      <td>68541</td>\n",
       "      <td>54355</td>\n",
       "      <td>82649</td>\n",
       "      <td>71298</td>\n",
       "      <td>93425</td>\n",
       "      <td>51830</td>\n",
       "      <td>1.0</td>\n",
       "    </tr>\n",
       "    <tr>\n",
       "      <th>KLYZ</th>\n",
       "      <td>-158816</td>\n",
       "      <td>102986</td>\n",
       "      <td>-144622</td>\n",
       "      <td>90822</td>\n",
       "      <td>167357</td>\n",
       "      <td>183614</td>\n",
       "      <td>140434</td>\n",
       "      <td>151757</td>\n",
       "      <td>162500</td>\n",
       "      <td>67656</td>\n",
       "      <td>2.0</td>\n",
       "    </tr>\n",
       "    <tr>\n",
       "      <th>MUKW</th>\n",
       "      <td>197818</td>\n",
       "      <td>76414</td>\n",
       "      <td>71505</td>\n",
       "      <td>61077</td>\n",
       "      <td>75680</td>\n",
       "      <td>95</td>\n",
       "      <td>107863</td>\n",
       "      <td>113290</td>\n",
       "      <td>64517</td>\n",
       "      <td>-20599</td>\n",
       "      <td>3.0</td>\n",
       "    </tr>\n",
       "    <tr>\n",
       "      <th>SZEI</th>\n",
       "      <td>91490</td>\n",
       "      <td>40027</td>\n",
       "      <td>33288</td>\n",
       "      <td>36966</td>\n",
       "      <td>70234</td>\n",
       "      <td>87687</td>\n",
       "      <td>57657</td>\n",
       "      <td>111723</td>\n",
       "      <td>4372</td>\n",
       "      <td>75954</td>\n",
       "      <td>4.0</td>\n",
       "    </tr>\n",
       "    <tr>\n",
       "      <th>NCGQ</th>\n",
       "      <td>71073</td>\n",
       "      <td>68417</td>\n",
       "      <td>28327</td>\n",
       "      <td>87957</td>\n",
       "      <td>-16422</td>\n",
       "      <td>57149</td>\n",
       "      <td>66064</td>\n",
       "      <td>65394</td>\n",
       "      <td>9278</td>\n",
       "      <td>88832</td>\n",
       "      <td>5.0</td>\n",
       "    </tr>\n",
       "    <tr>\n",
       "      <th>IVPJ</th>\n",
       "      <td>11362</td>\n",
       "      <td>77462</td>\n",
       "      <td>98728</td>\n",
       "      <td>72834</td>\n",
       "      <td>12198</td>\n",
       "      <td>65311</td>\n",
       "      <td>22373</td>\n",
       "      <td>124140</td>\n",
       "      <td>53117</td>\n",
       "      <td>30989</td>\n",
       "      <td>6.0</td>\n",
       "    </tr>\n",
       "    <tr>\n",
       "      <th>TCZM</th>\n",
       "      <td>94074</td>\n",
       "      <td>21153</td>\n",
       "      <td>107109</td>\n",
       "      <td>32037</td>\n",
       "      <td>-20460</td>\n",
       "      <td>61868</td>\n",
       "      <td>79862</td>\n",
       "      <td>28261</td>\n",
       "      <td>39262</td>\n",
       "      <td>54013</td>\n",
       "      <td>7.0</td>\n",
       "    </tr>\n",
       "    <tr>\n",
       "      <th>OCFZ</th>\n",
       "      <td>50375</td>\n",
       "      <td>47438</td>\n",
       "      <td>41747</td>\n",
       "      <td>44276</td>\n",
       "      <td>73865</td>\n",
       "      <td>53777</td>\n",
       "      <td>61082</td>\n",
       "      <td>37246</td>\n",
       "      <td>108380</td>\n",
       "      <td>-8509</td>\n",
       "      <td>8.0</td>\n",
       "    </tr>\n",
       "    <tr>\n",
       "      <th>XAQY</th>\n",
       "      <td>9631</td>\n",
       "      <td>44781</td>\n",
       "      <td>14759</td>\n",
       "      <td>90361</td>\n",
       "      <td>79801</td>\n",
       "      <td>71984</td>\n",
       "      <td>57203</td>\n",
       "      <td>43856</td>\n",
       "      <td>20701</td>\n",
       "      <td>66526</td>\n",
       "      <td>9.0</td>\n",
       "    </tr>\n",
       "    <tr>\n",
       "      <th>FQAR</th>\n",
       "      <td>26801</td>\n",
       "      <td>93221</td>\n",
       "      <td>73717</td>\n",
       "      <td>25897</td>\n",
       "      <td>86475</td>\n",
       "      <td>20058</td>\n",
       "      <td>104348</td>\n",
       "      <td>13626</td>\n",
       "      <td>24290</td>\n",
       "      <td>52028</td>\n",
       "      <td>9.0</td>\n",
       "    </tr>\n",
       "  </tbody>\n",
       "</table>\n",
       "</div>"
      ],
      "text/plain": [
       "Heat     AT-1   AT-10    AT-2   AT-3    AT-4    AT-5    AT-6    AT-7    AT-8  \\\n",
       "Team2                                                                          \n",
       "RZQO    77187   67010   60115  73130   68541   54355   82649   71298   93425   \n",
       "KLYZ  -158816  102986 -144622  90822  167357  183614  140434  151757  162500   \n",
       "MUKW   197818   76414   71505  61077   75680      95  107863  113290   64517   \n",
       "SZEI    91490   40027   33288  36966   70234   87687   57657  111723    4372   \n",
       "NCGQ    71073   68417   28327  87957  -16422   57149   66064   65394    9278   \n",
       "IVPJ    11362   77462   98728  72834   12198   65311   22373  124140   53117   \n",
       "TCZM    94074   21153  107109  32037  -20460   61868   79862   28261   39262   \n",
       "OCFZ    50375   47438   41747  44276   73865   53777   61082   37246  108380   \n",
       "XAQY     9631   44781   14759  90361   79801   71984   57203   43856   20701   \n",
       "FQAR    26801   93221   73717  25897   86475   20058  104348   13626   24290   \n",
       "\n",
       "Heat    AT-9  Rank  \n",
       "Team2               \n",
       "RZQO   51830   1.0  \n",
       "KLYZ   67656   2.0  \n",
       "MUKW  -20599   3.0  \n",
       "SZEI   75954   4.0  \n",
       "NCGQ   88832   5.0  \n",
       "IVPJ   30989   6.0  \n",
       "TCZM   54013   7.0  \n",
       "OCFZ   -8509   8.0  \n",
       "XAQY   66526   9.0  \n",
       "FQAR   52028   9.0  "
      ]
     },
     "execution_count": 25,
     "metadata": {},
     "output_type": "execute_result"
    }
   ],
   "source": [
    "data_ALGO = DF_SUBHEATS.pivot(index='Team2', columns='Heat', values='NLV').astype(int)\n",
    "# data_ALGO = data_ALGO.astype(int)\n",
    "\n",
    "help_ALGO = DF_ALL.loc[:,[\"Team2\",\"Rank\"]]\n",
    "help_ALGO.index = help_ALGO.loc[:,\"Team2\"]\n",
    "help_ALGO = help_ALGO.loc[:,\"Rank\"]\n",
    "\n",
    "data_ALGO.loc[:,\"Rank\"] = help_ALGO.loc[data_ALGO.index]\n",
    "data_ALGO.sort_values(by = [\"Rank\"]).head(10)"
   ]
  },
  {
   "cell_type": "code",
   "execution_count": 26,
   "id": "38ea0c5c-5a84-4aeb-8f2d-4995dc117ad8",
   "metadata": {},
   "outputs": [
    {
     "data": {
      "text/markdown": [
       "<font size = 4> The six best teams presented above had the following rank in the <b>Algorithmic_Trading_Case</b></font>"
      ],
      "text/plain": [
       "<IPython.core.display.Markdown object>"
      ]
     },
     "execution_count": 26,
     "metadata": {},
     "output_type": "execute_result"
    }
   ],
   "source": [
    "md(f\"<font size = 4> The six best teams presented above had the following rank in the <b>{case_name}</b></font>\")  "
   ]
  },
  {
   "cell_type": "code",
   "execution_count": 27,
   "id": "0a636446-241e-440b-a7dc-1272aa7196f1",
   "metadata": {},
   "outputs": [
    {
     "data": {
      "text/html": [
       "<div>\n",
       "<style scoped>\n",
       "    .dataframe tbody tr th:only-of-type {\n",
       "        vertical-align: middle;\n",
       "    }\n",
       "\n",
       "    .dataframe tbody tr th {\n",
       "        vertical-align: top;\n",
       "    }\n",
       "\n",
       "    .dataframe thead th {\n",
       "        text-align: right;\n",
       "    }\n",
       "</style>\n",
       "<table border=\"1\" class=\"dataframe\">\n",
       "  <thead>\n",
       "    <tr style=\"text-align: right;\">\n",
       "      <th>Heat</th>\n",
       "      <th>AT-1</th>\n",
       "      <th>AT-10</th>\n",
       "      <th>AT-2</th>\n",
       "      <th>AT-3</th>\n",
       "      <th>AT-4</th>\n",
       "      <th>AT-5</th>\n",
       "      <th>AT-6</th>\n",
       "      <th>AT-7</th>\n",
       "      <th>AT-8</th>\n",
       "      <th>AT-9</th>\n",
       "      <th>Rank</th>\n",
       "    </tr>\n",
       "    <tr>\n",
       "      <th>Team2</th>\n",
       "      <th></th>\n",
       "      <th></th>\n",
       "      <th></th>\n",
       "      <th></th>\n",
       "      <th></th>\n",
       "      <th></th>\n",
       "      <th></th>\n",
       "      <th></th>\n",
       "      <th></th>\n",
       "      <th></th>\n",
       "      <th></th>\n",
       "    </tr>\n",
       "  </thead>\n",
       "  <tbody>\n",
       "    <tr>\n",
       "      <th>RZQO</th>\n",
       "      <td>77187</td>\n",
       "      <td>67010</td>\n",
       "      <td>60115</td>\n",
       "      <td>73130</td>\n",
       "      <td>68541</td>\n",
       "      <td>54355</td>\n",
       "      <td>82649</td>\n",
       "      <td>71298</td>\n",
       "      <td>93425</td>\n",
       "      <td>51830</td>\n",
       "      <td>1.0</td>\n",
       "    </tr>\n",
       "    <tr>\n",
       "      <th>SZEI</th>\n",
       "      <td>91490</td>\n",
       "      <td>40027</td>\n",
       "      <td>33288</td>\n",
       "      <td>36966</td>\n",
       "      <td>70234</td>\n",
       "      <td>87687</td>\n",
       "      <td>57657</td>\n",
       "      <td>111723</td>\n",
       "      <td>4372</td>\n",
       "      <td>75954</td>\n",
       "      <td>4.0</td>\n",
       "    </tr>\n",
       "    <tr>\n",
       "      <th>NCGQ</th>\n",
       "      <td>71073</td>\n",
       "      <td>68417</td>\n",
       "      <td>28327</td>\n",
       "      <td>87957</td>\n",
       "      <td>-16422</td>\n",
       "      <td>57149</td>\n",
       "      <td>66064</td>\n",
       "      <td>65394</td>\n",
       "      <td>9278</td>\n",
       "      <td>88832</td>\n",
       "      <td>5.0</td>\n",
       "    </tr>\n",
       "    <tr>\n",
       "      <th>FQAR</th>\n",
       "      <td>26801</td>\n",
       "      <td>93221</td>\n",
       "      <td>73717</td>\n",
       "      <td>25897</td>\n",
       "      <td>86475</td>\n",
       "      <td>20058</td>\n",
       "      <td>104348</td>\n",
       "      <td>13626</td>\n",
       "      <td>24290</td>\n",
       "      <td>52028</td>\n",
       "      <td>9.0</td>\n",
       "    </tr>\n",
       "    <tr>\n",
       "      <th>VRYK</th>\n",
       "      <td>-9383</td>\n",
       "      <td>15981</td>\n",
       "      <td>33511</td>\n",
       "      <td>44881</td>\n",
       "      <td>90646</td>\n",
       "      <td>75045</td>\n",
       "      <td>56159</td>\n",
       "      <td>48346</td>\n",
       "      <td>23627</td>\n",
       "      <td>82298</td>\n",
       "      <td>13.0</td>\n",
       "    </tr>\n",
       "    <tr>\n",
       "      <th>DDIO</th>\n",
       "      <td>42204</td>\n",
       "      <td>12875</td>\n",
       "      <td>51011</td>\n",
       "      <td>19668</td>\n",
       "      <td>63381</td>\n",
       "      <td>71785</td>\n",
       "      <td>62805</td>\n",
       "      <td>49418</td>\n",
       "      <td>32252</td>\n",
       "      <td>24621</td>\n",
       "      <td>15.0</td>\n",
       "    </tr>\n",
       "  </tbody>\n",
       "</table>\n",
       "</div>"
      ],
      "text/plain": [
       "Heat    AT-1  AT-10   AT-2   AT-3   AT-4   AT-5    AT-6    AT-7   AT-8   AT-9  \\\n",
       "Team2                                                                           \n",
       "RZQO   77187  67010  60115  73130  68541  54355   82649   71298  93425  51830   \n",
       "SZEI   91490  40027  33288  36966  70234  87687   57657  111723   4372  75954   \n",
       "NCGQ   71073  68417  28327  87957 -16422  57149   66064   65394   9278  88832   \n",
       "FQAR   26801  93221  73717  25897  86475  20058  104348   13626  24290  52028   \n",
       "VRYK   -9383  15981  33511  44881  90646  75045   56159   48346  23627  82298   \n",
       "DDIO   42204  12875  51011  19668  63381  71785   62805   49418  32252  24621   \n",
       "\n",
       "Heat   Rank  \n",
       "Team2        \n",
       "RZQO    1.0  \n",
       "SZEI    4.0  \n",
       "NCGQ    5.0  \n",
       "FQAR    9.0  \n",
       "VRYK   13.0  \n",
       "DDIO   15.0  "
      ]
     },
     "execution_count": 27,
     "metadata": {},
     "output_type": "execute_result"
    }
   ],
   "source": [
    "data_ALGO.loc[best_teams.str[0:4]].sort_values(by='Rank')"
   ]
  },
  {
   "cell_type": "code",
   "execution_count": 28,
   "id": "8c8e6cd1-2638-446f-a155-0539592bc3a4",
   "metadata": {},
   "outputs": [
    {
     "data": {
      "text/markdown": [
       "<font size = 4> For refernce our team (RZQ0) had the following values: </font><br>"
      ],
      "text/plain": [
       "<IPython.core.display.Markdown object>"
      ]
     },
     "execution_count": 28,
     "metadata": {},
     "output_type": "execute_result"
    }
   ],
   "source": [
    "md(f\"<font size = 4> For refernce our team (RZQ0) had the following values: </font><br>\")  "
   ]
  },
  {
   "cell_type": "code",
   "execution_count": 29,
   "id": "e390d310-24f6-4483-9e4a-6d2a1ab16825",
   "metadata": {},
   "outputs": [
    {
     "data": {
      "text/html": [
       "<div>\n",
       "<style scoped>\n",
       "    .dataframe tbody tr th:only-of-type {\n",
       "        vertical-align: middle;\n",
       "    }\n",
       "\n",
       "    .dataframe tbody tr th {\n",
       "        vertical-align: top;\n",
       "    }\n",
       "\n",
       "    .dataframe thead th {\n",
       "        text-align: right;\n",
       "    }\n",
       "</style>\n",
       "<table border=\"1\" class=\"dataframe\">\n",
       "  <thead>\n",
       "    <tr style=\"text-align: right;\">\n",
       "      <th>Heat</th>\n",
       "      <th>AT-1</th>\n",
       "      <th>AT-10</th>\n",
       "      <th>AT-2</th>\n",
       "      <th>AT-3</th>\n",
       "      <th>AT-4</th>\n",
       "      <th>AT-5</th>\n",
       "      <th>AT-6</th>\n",
       "      <th>AT-7</th>\n",
       "      <th>AT-8</th>\n",
       "      <th>AT-9</th>\n",
       "      <th>Rank</th>\n",
       "    </tr>\n",
       "    <tr>\n",
       "      <th>Team2</th>\n",
       "      <th></th>\n",
       "      <th></th>\n",
       "      <th></th>\n",
       "      <th></th>\n",
       "      <th></th>\n",
       "      <th></th>\n",
       "      <th></th>\n",
       "      <th></th>\n",
       "      <th></th>\n",
       "      <th></th>\n",
       "      <th></th>\n",
       "    </tr>\n",
       "  </thead>\n",
       "  <tbody>\n",
       "    <tr>\n",
       "      <th>RZQO</th>\n",
       "      <td>77187</td>\n",
       "      <td>67010</td>\n",
       "      <td>60115</td>\n",
       "      <td>73130</td>\n",
       "      <td>68541</td>\n",
       "      <td>54355</td>\n",
       "      <td>82649</td>\n",
       "      <td>71298</td>\n",
       "      <td>93425</td>\n",
       "      <td>51830</td>\n",
       "      <td>1.0</td>\n",
       "    </tr>\n",
       "  </tbody>\n",
       "</table>\n",
       "</div>"
      ],
      "text/plain": [
       "Heat    AT-1  AT-10   AT-2   AT-3   AT-4   AT-5   AT-6   AT-7   AT-8   AT-9  \\\n",
       "Team2                                                                         \n",
       "RZQO   77187  67010  60115  73130  68541  54355  82649  71298  93425  51830   \n",
       "\n",
       "Heat   Rank  \n",
       "Team2        \n",
       "RZQO    1.0  "
      ]
     },
     "execution_count": 29,
     "metadata": {},
     "output_type": "execute_result"
    }
   ],
   "source": [
    "data_ALGO[data_ALGO.index=='RZQO']\n"
   ]
  },
  {
   "cell_type": "code",
   "execution_count": 30,
   "id": "7e385b75-093f-4ed1-af39-ec2936ea5529",
   "metadata": {},
   "outputs": [
    {
     "data": {
      "text/markdown": [
       "<font size = 4> We had the rank: <b>[1.]</b></font><br>"
      ],
      "text/plain": [
       "<IPython.core.display.Markdown object>"
      ]
     },
     "execution_count": 30,
     "metadata": {},
     "output_type": "execute_result"
    }
   ],
   "source": [
    "md(f\"<font size = 4> We had the rank: <b>{data_ALGO[data_ALGO.index=='RZQO']['Rank'].values}</b></font><br>\")  "
   ]
  },
  {
   "cell_type": "code",
   "execution_count": 31,
   "id": "0f47e972-f94b-417a-91f6-54b2c0b17a1c",
   "metadata": {},
   "outputs": [
    {
     "data": {
      "text/markdown": [
       "<font size = 4> Lets check which team had the highest and lowest NLV in each Heat:</font><br>"
      ],
      "text/plain": [
       "<IPython.core.display.Markdown object>"
      ]
     },
     "execution_count": 31,
     "metadata": {},
     "output_type": "execute_result"
    }
   ],
   "source": [
    "md(f\"<font size = 4> Lets check which team had the highest and lowest NLV in each Heat:</font><br>\")  "
   ]
  },
  {
   "cell_type": "code",
   "execution_count": 32,
   "id": "50f7001f-aca5-4cc3-96b7-771aa74fe9a4",
   "metadata": {},
   "outputs": [],
   "source": [
    "heat_high = {}\n",
    "heat_low = {}\n",
    "\n",
    "for i in subheats_list:\n",
    "    heat_high[i] = list(DF_SUBHEATS.loc[(DF_SUBHEATS['Heat'] == i) & (DF_SUBHEATS['NLV'] == max(DF_SUBHEATS.loc[DF_SUBHEATS['Heat'] == i, 'NLV'])) , 'Team2'])\n",
    "    heat_low[i] = list(DF_SUBHEATS.loc[(DF_SUBHEATS['Heat'] == i) & (DF_SUBHEATS['NLV'] == min(DF_SUBHEATS.loc[DF_SUBHEATS['Heat'] == i, 'NLV'])) , 'Team2'])    "
   ]
  },
  {
   "cell_type": "code",
   "execution_count": 33,
   "id": "6fb57ed2-bbf6-458b-bf10-eda87910df0d",
   "metadata": {},
   "outputs": [
    {
     "data": {
      "text/markdown": [
       "<font size = 4> Folowing have the highest NLV in each Heat:</font><br>"
      ],
      "text/plain": [
       "<IPython.core.display.Markdown object>"
      ]
     },
     "execution_count": 33,
     "metadata": {},
     "output_type": "execute_result"
    }
   ],
   "source": [
    "md(f\"<font size = 4> Folowing have the highest NLV in each Heat:</font><br>\")  "
   ]
  },
  {
   "cell_type": "code",
   "execution_count": 34,
   "id": "7c61ed1f-6573-48b7-b125-51557da997e5",
   "metadata": {},
   "outputs": [
    {
     "data": {
      "text/plain": [
       "{'AT-1': ['MUKW'],\n",
       " 'AT-2': ['ZXIR'],\n",
       " 'AT-3': ['RCZS'],\n",
       " 'AT-4': ['KLYZ'],\n",
       " 'AT-5': ['KLYZ'],\n",
       " 'AT-6': ['KLYZ'],\n",
       " 'AT-7': ['KLYZ'],\n",
       " 'AT-8': ['KLYZ'],\n",
       " 'AT-9': ['HMER'],\n",
       " 'AT-10': ['ZXIR']}"
      ]
     },
     "execution_count": 34,
     "metadata": {},
     "output_type": "execute_result"
    }
   ],
   "source": [
    "heat_high"
   ]
  },
  {
   "cell_type": "code",
   "execution_count": 35,
   "id": "db5b5695-09cd-41f3-b463-f6f7a3387e54",
   "metadata": {},
   "outputs": [
    {
     "data": {
      "text/markdown": [
       "<font size = 4> Folowing have the lowest NLV in each Heat:</font><br>"
      ],
      "text/plain": [
       "<IPython.core.display.Markdown object>"
      ]
     },
     "execution_count": 35,
     "metadata": {},
     "output_type": "execute_result"
    }
   ],
   "source": [
    "md(f\"<font size = 4> Folowing have the lowest NLV in each Heat:</font><br>\")  "
   ]
  },
  {
   "cell_type": "code",
   "execution_count": 36,
   "id": "2b88cdb5-d8e3-4998-bf8d-ebeef906ad40",
   "metadata": {},
   "outputs": [
    {
     "data": {
      "text/plain": [
       "{'AT-1': ['MWYX', 'TEYP'],\n",
       " 'AT-2': ['MWYX', 'TEYP'],\n",
       " 'AT-3': ['MWYX', 'TEYP'],\n",
       " 'AT-4': ['MWYX', 'TEYP'],\n",
       " 'AT-5': ['MWYX', 'TEYP'],\n",
       " 'AT-6': ['MWYX', 'TEYP'],\n",
       " 'AT-7': ['MWYX', 'TEYP'],\n",
       " 'AT-8': ['MWYX', 'TEYP'],\n",
       " 'AT-9': ['MWYX', 'TEYP'],\n",
       " 'AT-10': ['RGZU']}"
      ]
     },
     "execution_count": 36,
     "metadata": {},
     "output_type": "execute_result"
    }
   ],
   "source": [
    "heat_low"
   ]
  },
  {
   "cell_type": "code",
   "execution_count": 37,
   "id": "eabb4467-8a8e-47d9-a77d-238125f76026",
   "metadata": {},
   "outputs": [],
   "source": [
    "# Clustering"
   ]
  },
  {
   "cell_type": "code",
   "execution_count": 38,
   "id": "333bda3e-4a44-4498-adfa-384d83287180",
   "metadata": {},
   "outputs": [
    {
     "data": {
      "text/markdown": [
       "<font size = 4> We are going to run KMeans Clustering in order to look for the similarity in the results between the participants.</font><br>"
      ],
      "text/plain": [
       "<IPython.core.display.Markdown object>"
      ]
     },
     "execution_count": 38,
     "metadata": {},
     "output_type": "execute_result"
    }
   ],
   "source": [
    "md(f\"<font size = 4> We are going to run KMeans Clustering in order to look for the similarity in the results between the participants.</font><br>\")"
   ]
  },
  {
   "cell_type": "code",
   "execution_count": 39,
   "id": "44c11957-a897-4b14-b4ea-fafc8a354f7b",
   "metadata": {},
   "outputs": [],
   "source": [
    "kmeans = KMeans(n_clusters=6, random_state=0, n_init = 10).fit(data_ALGO)"
   ]
  },
  {
   "cell_type": "code",
   "execution_count": 40,
   "id": "8478e259-9fdf-4878-9c1d-3b4c8f993c14",
   "metadata": {},
   "outputs": [
    {
     "data": {
      "text/markdown": [
       "<font size = 4> The follwing teams are in each in cluster:</font><br>"
      ],
      "text/plain": [
       "<IPython.core.display.Markdown object>"
      ]
     },
     "execution_count": 40,
     "metadata": {},
     "output_type": "execute_result"
    }
   ],
   "source": [
    "md(f\"<font size = 4> The follwing teams are in each in cluster:</font><br>\")  "
   ]
  },
  {
   "cell_type": "code",
   "execution_count": 41,
   "id": "ca19c720-57df-4e36-af58-348b6f672a58",
   "metadata": {},
   "outputs": [
    {
     "data": {
      "text/html": [
       "<div>\n",
       "<style scoped>\n",
       "    .dataframe tbody tr th:only-of-type {\n",
       "        vertical-align: middle;\n",
       "    }\n",
       "\n",
       "    .dataframe tbody tr th {\n",
       "        vertical-align: top;\n",
       "    }\n",
       "\n",
       "    .dataframe thead th {\n",
       "        text-align: right;\n",
       "    }\n",
       "</style>\n",
       "<table border=\"1\" class=\"dataframe\">\n",
       "  <thead>\n",
       "    <tr style=\"text-align: right;\">\n",
       "      <th></th>\n",
       "      <th>Cluster</th>\n",
       "      <th>Teams</th>\n",
       "    </tr>\n",
       "  </thead>\n",
       "  <tbody>\n",
       "    <tr>\n",
       "      <th>0</th>\n",
       "      <td>0</td>\n",
       "      <td>[EJYY, ORMW, OUTI, PABQ, PKHV, RGZU, VWFN, ZNQK]</td>\n",
       "    </tr>\n",
       "    <tr>\n",
       "      <th>1</th>\n",
       "      <td>1</td>\n",
       "      <td>[MWYX, TEYP]</td>\n",
       "    </tr>\n",
       "    <tr>\n",
       "      <th>2</th>\n",
       "      <td>2</td>\n",
       "      <td>[BYSI, DQRB, FUHY, HHUJ, IJJN, KMKW, MBRQ, MPJN, NDGG, NOTI, ONWB, RCZT, TNFH, UPSA, VDNK, WDJT, YZHM, ZXIR]</td>\n",
       "    </tr>\n",
       "    <tr>\n",
       "      <th>3</th>\n",
       "      <td>3</td>\n",
       "      <td>[KLYZ]</td>\n",
       "    </tr>\n",
       "    <tr>\n",
       "      <th>4</th>\n",
       "      <td>4</td>\n",
       "      <td>[DDIO, FQAR, HEKY, HMER, IVPJ, JDMA, KJEM, MUKW, NCGQ, OCFZ, OXIR, OXLH, RCZS, RZQO, SZEI, TCZM, TVHS, UGGN, UGWN, VCSG, VPUB, VRYK, XAQY]</td>\n",
       "    </tr>\n",
       "    <tr>\n",
       "      <th>5</th>\n",
       "      <td>5</td>\n",
       "      <td>[CFTF]</td>\n",
       "    </tr>\n",
       "  </tbody>\n",
       "</table>\n",
       "</div>"
      ],
      "text/plain": [
       "   Cluster  \\\n",
       "0        0   \n",
       "1        1   \n",
       "2        2   \n",
       "3        3   \n",
       "4        4   \n",
       "5        5   \n",
       "\n",
       "                                                                                                                                        Teams  \n",
       "0                                                                                            [EJYY, ORMW, OUTI, PABQ, PKHV, RGZU, VWFN, ZNQK]  \n",
       "1                                                                                                                                [MWYX, TEYP]  \n",
       "2                                [BYSI, DQRB, FUHY, HHUJ, IJJN, KMKW, MBRQ, MPJN, NDGG, NOTI, ONWB, RCZT, TNFH, UPSA, VDNK, WDJT, YZHM, ZXIR]  \n",
       "3                                                                                                                                      [KLYZ]  \n",
       "4  [DDIO, FQAR, HEKY, HMER, IVPJ, JDMA, KJEM, MUKW, NCGQ, OCFZ, OXIR, OXLH, RCZS, RZQO, SZEI, TCZM, TVHS, UGGN, UGWN, VCSG, VPUB, VRYK, XAQY]  \n",
       "5                                                                                                                                      [CFTF]  "
      ]
     },
     "execution_count": 41,
     "metadata": {},
     "output_type": "execute_result"
    }
   ],
   "source": [
    "dict_kmeans = {}\n",
    "\n",
    "for i in kmeans.labels_:\n",
    "    dict_kmeans[i] = data_ALGO.index[kmeans.labels_==i].values\n",
    "    \n",
    "pd.set_option('display.max_colwidth', None)\n",
    "\n",
    "pd.DataFrame(data={\n",
    "    'Cluster': dict_kmeans.keys(),\n",
    "    'Teams': dict_kmeans.values()\n",
    "}).sort_values(by='Cluster').reset_index(drop=True)"
   ]
  },
  {
   "cell_type": "code",
   "execution_count": 42,
   "id": "2048e3db-02b4-4e4b-96b0-f8ffb177673d",
   "metadata": {},
   "outputs": [
    {
     "data": {
      "text/markdown": [
       "<font size = 4> We see the average NLV in each cluster based on the teams in each cluster: </font><br>"
      ],
      "text/plain": [
       "<IPython.core.display.Markdown object>"
      ]
     },
     "execution_count": 42,
     "metadata": {},
     "output_type": "execute_result"
    }
   ],
   "source": [
    "md(f\"<font size = 4> We see the average NLV in each cluster based on the teams in each cluster: </font><br>\")  "
   ]
  },
  {
   "cell_type": "code",
   "execution_count": 43,
   "id": "779accda-dae9-4687-860b-129f65f57335",
   "metadata": {},
   "outputs": [
    {
     "data": {
      "text/html": [
       "<div>\n",
       "<style scoped>\n",
       "    .dataframe tbody tr th:only-of-type {\n",
       "        vertical-align: middle;\n",
       "    }\n",
       "\n",
       "    .dataframe tbody tr th {\n",
       "        vertical-align: top;\n",
       "    }\n",
       "\n",
       "    .dataframe thead th {\n",
       "        text-align: right;\n",
       "    }\n",
       "</style>\n",
       "<table border=\"1\" class=\"dataframe\">\n",
       "  <thead>\n",
       "    <tr style=\"text-align: right;\">\n",
       "      <th></th>\n",
       "      <th>1</th>\n",
       "      <th>2</th>\n",
       "      <th>3</th>\n",
       "      <th>4</th>\n",
       "      <th>5</th>\n",
       "      <th>0</th>\n",
       "    </tr>\n",
       "    <tr>\n",
       "      <th>Heat</th>\n",
       "      <th></th>\n",
       "      <th></th>\n",
       "      <th></th>\n",
       "      <th></th>\n",
       "      <th></th>\n",
       "      <th></th>\n",
       "    </tr>\n",
       "  </thead>\n",
       "  <tbody>\n",
       "    <tr>\n",
       "      <th>AT-1</th>\n",
       "      <td>-5000000.0</td>\n",
       "      <td>13765.000000</td>\n",
       "      <td>-158816.0</td>\n",
       "      <td>44218.608696</td>\n",
       "      <td>83092.0</td>\n",
       "      <td>17527.750</td>\n",
       "    </tr>\n",
       "    <tr>\n",
       "      <th>AT-10</th>\n",
       "      <td>0.0</td>\n",
       "      <td>37712.888889</td>\n",
       "      <td>102986.0</td>\n",
       "      <td>40012.000000</td>\n",
       "      <td>78375.0</td>\n",
       "      <td>-2583.250</td>\n",
       "    </tr>\n",
       "    <tr>\n",
       "      <th>AT-2</th>\n",
       "      <td>-5000000.0</td>\n",
       "      <td>24268.055556</td>\n",
       "      <td>-144622.0</td>\n",
       "      <td>45830.956522</td>\n",
       "      <td>-17105.0</td>\n",
       "      <td>-41927.000</td>\n",
       "    </tr>\n",
       "    <tr>\n",
       "      <th>AT-3</th>\n",
       "      <td>-5000000.0</td>\n",
       "      <td>15479.333333</td>\n",
       "      <td>90822.0</td>\n",
       "      <td>41010.000000</td>\n",
       "      <td>-37234.0</td>\n",
       "      <td>-2725.375</td>\n",
       "    </tr>\n",
       "    <tr>\n",
       "      <th>AT-4</th>\n",
       "      <td>-5000000.0</td>\n",
       "      <td>149.277778</td>\n",
       "      <td>167357.0</td>\n",
       "      <td>62874.695652</td>\n",
       "      <td>-69483.0</td>\n",
       "      <td>19601.750</td>\n",
       "    </tr>\n",
       "    <tr>\n",
       "      <th>AT-5</th>\n",
       "      <td>-5000000.0</td>\n",
       "      <td>26054.500000</td>\n",
       "      <td>183614.0</td>\n",
       "      <td>51821.000000</td>\n",
       "      <td>20313.0</td>\n",
       "      <td>-36277.250</td>\n",
       "    </tr>\n",
       "    <tr>\n",
       "      <th>AT-6</th>\n",
       "      <td>-5000000.0</td>\n",
       "      <td>6508.500000</td>\n",
       "      <td>140434.0</td>\n",
       "      <td>58481.695652</td>\n",
       "      <td>87096.0</td>\n",
       "      <td>18804.000</td>\n",
       "    </tr>\n",
       "    <tr>\n",
       "      <th>AT-7</th>\n",
       "      <td>-5000000.0</td>\n",
       "      <td>23128.055556</td>\n",
       "      <td>151757.0</td>\n",
       "      <td>55163.304348</td>\n",
       "      <td>83753.0</td>\n",
       "      <td>-11653.750</td>\n",
       "    </tr>\n",
       "    <tr>\n",
       "      <th>AT-8</th>\n",
       "      <td>-5000000.0</td>\n",
       "      <td>21923.333333</td>\n",
       "      <td>162500.0</td>\n",
       "      <td>35914.304348</td>\n",
       "      <td>32519.0</td>\n",
       "      <td>8725.375</td>\n",
       "    </tr>\n",
       "    <tr>\n",
       "      <th>AT-9</th>\n",
       "      <td>-5000000.0</td>\n",
       "      <td>27565.388889</td>\n",
       "      <td>67656.0</td>\n",
       "      <td>38168.739130</td>\n",
       "      <td>-213172.0</td>\n",
       "      <td>12419.625</td>\n",
       "    </tr>\n",
       "    <tr>\n",
       "      <th>Rank</th>\n",
       "      <td>52.0</td>\n",
       "      <td>35.388889</td>\n",
       "      <td>2.0</td>\n",
       "      <td>13.260870</td>\n",
       "      <td>28.0</td>\n",
       "      <td>43.625</td>\n",
       "    </tr>\n",
       "  </tbody>\n",
       "</table>\n",
       "</div>"
      ],
      "text/plain": [
       "               1             2         3             4         5          0\n",
       "Heat                                                                       \n",
       "AT-1  -5000000.0  13765.000000 -158816.0  44218.608696   83092.0  17527.750\n",
       "AT-10        0.0  37712.888889  102986.0  40012.000000   78375.0  -2583.250\n",
       "AT-2  -5000000.0  24268.055556 -144622.0  45830.956522  -17105.0 -41927.000\n",
       "AT-3  -5000000.0  15479.333333   90822.0  41010.000000  -37234.0  -2725.375\n",
       "AT-4  -5000000.0    149.277778  167357.0  62874.695652  -69483.0  19601.750\n",
       "AT-5  -5000000.0  26054.500000  183614.0  51821.000000   20313.0 -36277.250\n",
       "AT-6  -5000000.0   6508.500000  140434.0  58481.695652   87096.0  18804.000\n",
       "AT-7  -5000000.0  23128.055556  151757.0  55163.304348   83753.0 -11653.750\n",
       "AT-8  -5000000.0  21923.333333  162500.0  35914.304348   32519.0   8725.375\n",
       "AT-9  -5000000.0  27565.388889   67656.0  38168.739130 -213172.0  12419.625\n",
       "Rank        52.0     35.388889       2.0     13.260870      28.0     43.625"
      ]
     },
     "execution_count": 43,
     "metadata": {},
     "output_type": "execute_result"
    }
   ],
   "source": [
    "DF_CLUSTER_MEAN = pd.DataFrame({\"1\" : data_ALGO.loc[list(data_ALGO.index[kmeans.labels_==1]),:].mean(0),\n",
    "             \"2\" : data_ALGO.loc[list(data_ALGO.index[kmeans.labels_==2]),:].mean(0),\n",
    "             \"3\" : data_ALGO.loc[list(data_ALGO.index[kmeans.labels_==3]),:].mean(0),\n",
    "             \"4\" : data_ALGO.loc[list(data_ALGO.index[kmeans.labels_==4]),:].mean(0),\n",
    "             \"5\" : data_ALGO.loc[list(data_ALGO.index[kmeans.labels_==5]),:].mean(0),\n",
    "             \"0\" : data_ALGO.loc[list(data_ALGO.index[kmeans.labels_==0]),:].mean(0)})\n",
    "\n",
    "DF_CLUSTER_MEAN"
   ]
  },
  {
   "cell_type": "code",
   "execution_count": 44,
   "id": "68687e8e-76a8-434d-833a-599911327ac3",
   "metadata": {},
   "outputs": [
    {
     "data": {
      "text/markdown": [
       "<font size = 4> This section will present the teams that were on the top 6 Rank of this case - <b>Algorithmic_Trading_Case</b></font><br>"
      ],
      "text/plain": [
       "<IPython.core.display.Markdown object>"
      ]
     },
     "execution_count": 44,
     "metadata": {},
     "output_type": "execute_result"
    }
   ],
   "source": [
    "md(f\"<font size = 4> This section will present the teams that were on the top 6 Rank of this case - <b>{case_name}</b></font><br>\")  "
   ]
  },
  {
   "cell_type": "code",
   "execution_count": 45,
   "id": "c66d892e-8ed8-4c7c-96bf-d22150d400be",
   "metadata": {},
   "outputs": [
    {
     "data": {
      "text/markdown": [
       "<font size = 4> The teams that are on the top <= 5 Rank in this case are: </b></font><br>"
      ],
      "text/plain": [
       "<IPython.core.display.Markdown object>"
      ]
     },
     "execution_count": 45,
     "metadata": {},
     "output_type": "execute_result"
    }
   ],
   "source": [
    "md(f\"<font size = 4> The teams that are on the top <= 5 Rank in this case are: </b></font><br>\")  "
   ]
  },
  {
   "cell_type": "code",
   "execution_count": 46,
   "id": "8e72bded-3da4-4b5e-8a71-360bf91e6b9b",
   "metadata": {},
   "outputs": [
    {
     "data": {
      "text/plain": [
       "0    RZQO\n",
       "1    KLYZ\n",
       "2    MUKW\n",
       "3    SZEI\n",
       "4    NCGQ\n",
       "Name: Team2, dtype: object"
      ]
     },
     "execution_count": 46,
     "metadata": {},
     "output_type": "execute_result"
    }
   ],
   "source": [
    "top5_case = DF_ALL.loc[DF_ALL.Rank<=5, \"Team2\"]\n",
    "DF_SUBHEATS_top5 = DF_SUBHEATS.loc[DF_SUBHEATS[\"Team2\"].isin(top5_case),:]\n",
    "top5_case"
   ]
  },
  {
   "cell_type": "code",
   "execution_count": 50,
   "metadata": {},
   "outputs": [],
   "source": [
    "%%capture \n",
    "\n",
    "DF_SUBHEATS_top5['Team2'] = pd.Categorical(DF_SUBHEATS_top5['Team2'], categories=top5_case, ordered=True)\n",
    "DF_SUBHEATS_top5 = DF_SUBHEATS_top5.sort_values(by='Team2')"
   ]
  },
  {
   "cell_type": "code",
   "execution_count": 51,
   "id": "6e102460-b18f-4e23-a994-b14424457256",
   "metadata": {},
   "outputs": [],
   "source": [
    "DF_SUBHEATS_top5_pivot = DF_SUBHEATS_top5.pivot(index='Team2', columns='Heat', values='NLV')\n",
    "DF_SUBHEATS_top5_pivot['Sum'] = DF_SUBHEATS_top5_pivot.sum(axis=1)"
   ]
  },
  {
   "cell_type": "code",
   "execution_count": 52,
   "id": "07f9434b-e2fd-4bad-9d77-5a994563e4e4",
   "metadata": {},
   "outputs": [
    {
     "data": {
      "text/markdown": [
       "<font size = 4> It can be visualized as: </b></font><br>"
      ],
      "text/plain": [
       "<IPython.core.display.Markdown object>"
      ]
     },
     "execution_count": 52,
     "metadata": {},
     "output_type": "execute_result"
    }
   ],
   "source": [
    "md(f\"<font size = 4> It can be visualized as: </b></font><br>\")  "
   ]
  },
  {
   "cell_type": "code",
   "execution_count": 53,
   "id": "3c3a01f8-90ac-4034-a478-0d6d3a21b44a",
   "metadata": {},
   "outputs": [
    {
     "data": {
      "image/png": "[encoded data removed]",
      "text/plain": [
       "<Figure size 1000x800 with 1 Axes>"
      ]
     },
     "metadata": {},
     "output_type": "display_data"
    }
   ],
   "source": [
    "DF_SUBHEATS_top5_pivot.plot.barh(figsize=(10,8))\n",
    "\n",
    "plt.grid(True)\n",
    "plt.title(f\"Average NLV for the best teams for the {case_name}\")\n",
    "\n",
    "plt.xlabel('Average NLV')\n",
    "plt.ylabel('Team Code')\n",
    "\n",
    "plt.tight_layout()\n",
    "plt.show()"
   ]
  },
  {
   "cell_type": "markdown",
   "id": "eab2470e-d5dd-497d-96fb-7bcb314c7fea",
   "metadata": {},
   "source": [
    "### Average results in each round"
   ]
  },
  {
   "cell_type": "code",
   "execution_count": 54,
   "id": "ab118825-0f20-42c5-9d70-649a63b7d0f5",
   "metadata": {},
   "outputs": [
    {
     "data": {
      "text/html": [
       "<div>\n",
       "<style scoped>\n",
       "    .dataframe tbody tr th:only-of-type {\n",
       "        vertical-align: middle;\n",
       "    }\n",
       "\n",
       "    .dataframe tbody tr th {\n",
       "        vertical-align: top;\n",
       "    }\n",
       "\n",
       "    .dataframe thead th {\n",
       "        text-align: right;\n",
       "    }\n",
       "</style>\n",
       "<table border=\"1\" class=\"dataframe\">\n",
       "  <thead>\n",
       "    <tr style=\"text-align: right;\">\n",
       "      <th>Heat</th>\n",
       "      <th>AT-1</th>\n",
       "      <th>AT-10</th>\n",
       "      <th>AT-2</th>\n",
       "      <th>AT-3</th>\n",
       "      <th>AT-4</th>\n",
       "      <th>AT-5</th>\n",
       "      <th>AT-6</th>\n",
       "      <th>AT-7</th>\n",
       "      <th>AT-8</th>\n",
       "      <th>AT-9</th>\n",
       "      <th>Sum</th>\n",
       "    </tr>\n",
       "    <tr>\n",
       "      <th>Team2</th>\n",
       "      <th></th>\n",
       "      <th></th>\n",
       "      <th></th>\n",
       "      <th></th>\n",
       "      <th></th>\n",
       "      <th></th>\n",
       "      <th></th>\n",
       "      <th></th>\n",
       "      <th></th>\n",
       "      <th></th>\n",
       "      <th></th>\n",
       "    </tr>\n",
       "  </thead>\n",
       "  <tbody>\n",
       "    <tr>\n",
       "      <th>RZQO</th>\n",
       "      <td>77187</td>\n",
       "      <td>67010</td>\n",
       "      <td>60115</td>\n",
       "      <td>73130</td>\n",
       "      <td>68541</td>\n",
       "      <td>54355</td>\n",
       "      <td>82649</td>\n",
       "      <td>71298</td>\n",
       "      <td>93425</td>\n",
       "      <td>51830</td>\n",
       "      <td>699544</td>\n",
       "    </tr>\n",
       "    <tr>\n",
       "      <th>KLYZ</th>\n",
       "      <td>-158816</td>\n",
       "      <td>102986</td>\n",
       "      <td>-144622</td>\n",
       "      <td>90822</td>\n",
       "      <td>167357</td>\n",
       "      <td>183614</td>\n",
       "      <td>140434</td>\n",
       "      <td>151757</td>\n",
       "      <td>162500</td>\n",
       "      <td>67656</td>\n",
       "      <td>763691</td>\n",
       "    </tr>\n",
       "    <tr>\n",
       "      <th>MUKW</th>\n",
       "      <td>197818</td>\n",
       "      <td>76414</td>\n",
       "      <td>71505</td>\n",
       "      <td>61077</td>\n",
       "      <td>75680</td>\n",
       "      <td>95</td>\n",
       "      <td>107863</td>\n",
       "      <td>113290</td>\n",
       "      <td>64517</td>\n",
       "      <td>-20599</td>\n",
       "      <td>747663</td>\n",
       "    </tr>\n",
       "    <tr>\n",
       "      <th>SZEI</th>\n",
       "      <td>91490</td>\n",
       "      <td>40027</td>\n",
       "      <td>33288</td>\n",
       "      <td>36966</td>\n",
       "      <td>70234</td>\n",
       "      <td>87687</td>\n",
       "      <td>57657</td>\n",
       "      <td>111723</td>\n",
       "      <td>4372</td>\n",
       "      <td>75954</td>\n",
       "      <td>609402</td>\n",
       "    </tr>\n",
       "    <tr>\n",
       "      <th>NCGQ</th>\n",
       "      <td>71073</td>\n",
       "      <td>68417</td>\n",
       "      <td>28327</td>\n",
       "      <td>87957</td>\n",
       "      <td>-16422</td>\n",
       "      <td>57149</td>\n",
       "      <td>66064</td>\n",
       "      <td>65394</td>\n",
       "      <td>9278</td>\n",
       "      <td>88832</td>\n",
       "      <td>526073</td>\n",
       "    </tr>\n",
       "  </tbody>\n",
       "</table>\n",
       "</div>"
      ],
      "text/plain": [
       "Heat     AT-1   AT-10    AT-2   AT-3    AT-4    AT-5    AT-6    AT-7    AT-8  \\\n",
       "Team2                                                                          \n",
       "RZQO    77187   67010   60115  73130   68541   54355   82649   71298   93425   \n",
       "KLYZ  -158816  102986 -144622  90822  167357  183614  140434  151757  162500   \n",
       "MUKW   197818   76414   71505  61077   75680      95  107863  113290   64517   \n",
       "SZEI    91490   40027   33288  36966   70234   87687   57657  111723    4372   \n",
       "NCGQ    71073   68417   28327  87957  -16422   57149   66064   65394    9278   \n",
       "\n",
       "Heat    AT-9     Sum  \n",
       "Team2                 \n",
       "RZQO   51830  699544  \n",
       "KLYZ   67656  763691  \n",
       "MUKW  -20599  747663  \n",
       "SZEI   75954  609402  \n",
       "NCGQ   88832  526073  "
      ]
     },
     "execution_count": 54,
     "metadata": {},
     "output_type": "execute_result"
    }
   ],
   "source": [
    "DF_SUBHEATS_top5_pivot.astype(int)"
   ]
  },
  {
   "cell_type": "code",
   "execution_count": 61,
   "metadata": {},
   "outputs": [
    {
     "data": {
      "text/html": [
       "<div>\n",
       "<style scoped>\n",
       "    .dataframe tbody tr th:only-of-type {\n",
       "        vertical-align: middle;\n",
       "    }\n",
       "\n",
       "    .dataframe tbody tr th {\n",
       "        vertical-align: top;\n",
       "    }\n",
       "\n",
       "    .dataframe thead th {\n",
       "        text-align: right;\n",
       "    }\n",
       "</style>\n",
       "<table border=\"1\" class=\"dataframe\">\n",
       "  <thead>\n",
       "    <tr style=\"text-align: right;\">\n",
       "      <th>Heat</th>\n",
       "      <th>AT-1</th>\n",
       "      <th>AT-10</th>\n",
       "      <th>AT-2</th>\n",
       "      <th>AT-3</th>\n",
       "      <th>AT-4</th>\n",
       "      <th>AT-5</th>\n",
       "      <th>AT-6</th>\n",
       "      <th>AT-7</th>\n",
       "      <th>AT-8</th>\n",
       "      <th>AT-9</th>\n",
       "    </tr>\n",
       "    <tr>\n",
       "      <th>Team2</th>\n",
       "      <th></th>\n",
       "      <th></th>\n",
       "      <th></th>\n",
       "      <th></th>\n",
       "      <th></th>\n",
       "      <th></th>\n",
       "      <th></th>\n",
       "      <th></th>\n",
       "      <th></th>\n",
       "      <th></th>\n",
       "    </tr>\n",
       "  </thead>\n",
       "  <tbody>\n",
       "    <tr>\n",
       "      <th>RZQO</th>\n",
       "      <td>77187</td>\n",
       "      <td>67010</td>\n",
       "      <td>60115</td>\n",
       "      <td>73130</td>\n",
       "      <td>68541</td>\n",
       "      <td>54355</td>\n",
       "      <td>82649</td>\n",
       "      <td>71298</td>\n",
       "      <td>93425</td>\n",
       "      <td>51830</td>\n",
       "    </tr>\n",
       "  </tbody>\n",
       "</table>\n",
       "</div>"
      ],
      "text/plain": [
       "Heat    AT-1  AT-10   AT-2   AT-3   AT-4   AT-5   AT-6   AT-7   AT-8   AT-9\n",
       "Team2                                                                      \n",
       "RZQO   77187  67010  60115  73130  68541  54355  82649  71298  93425  51830"
      ]
     },
     "execution_count": 61,
     "metadata": {},
     "output_type": "execute_result"
    }
   ],
   "source": [
    "DF_SUBHEATS_RZQO_mean = pd.DataFrame(DF_SUBHEATS.loc[DF_SUBHEATS['Team2']=='RZQO'].groupby(['Team2', 'Heat'])['NLV'].mean())\n",
    "\n",
    "DF_SUBHEATS_RZQO_mean[\"Team2\"] = [ind[0] for ind in DF_SUBHEATS_RZQO_mean.index]\n",
    "DF_SUBHEATS_RZQO_mean[\"Heat\"] = [ind[1] for ind in DF_SUBHEATS_RZQO_mean.index]\n",
    "\n",
    "DF_SUBHEATS_RZQO_mean_pivot = DF_SUBHEATS_RZQO_mean.pivot(index='Team2', columns='Heat', values='NLV').astype(int)\n",
    "DF_SUBHEATS_RZQO_mean_pivot"
   ]
  },
  {
   "cell_type": "code",
   "execution_count": 62,
   "id": "25e74abb-2097-457c-a040-2ea1d85a4dfe",
   "metadata": {},
   "outputs": [
    {
     "data": {
      "text/markdown": [
       "<font size = 4> It can be visualized as: </b></font><br>"
      ],
      "text/plain": [
       "<IPython.core.display.Markdown object>"
      ]
     },
     "execution_count": 62,
     "metadata": {},
     "output_type": "execute_result"
    }
   ],
   "source": [
    "md(f\"<font size = 4> It can be visualized as: </b></font><br>\")  "
   ]
  },
  {
   "cell_type": "code",
   "execution_count": 63,
   "id": "9d176963-0dbb-4cd8-bbe2-155c782fc01b",
   "metadata": {},
   "outputs": [],
   "source": [
    "DF_SUBHEATS_top5_pivot = DF_SUBHEATS_top5_pivot[['AT-1', 'AT-2', 'AT-3', 'AT-4', 'AT-5', 'AT-6', 'AT-7', 'AT-8', 'AT-9', 'AT-10']]"
   ]
  },
  {
   "cell_type": "code",
   "execution_count": 66,
   "metadata": {},
   "outputs": [
    {
     "data": {
      "image/png": "[encoded data removed]",
      "text/plain": [
       "<Figure size 1000x800 with 2 Axes>"
      ]
     },
     "metadata": {},
     "output_type": "display_data"
    }
   ],
   "source": [
    "fig, [ax1, ax2] = plt.subplots(nrows=2, ncols=1, figsize=(10, 8), gridspec_kw={'height_ratios': [5, 2]})\n",
    "\n",
    "for team in DF_SUBHEATS_top5_pivot.index:\n",
    "    ax1.plot(DF_SUBHEATS_top5_pivot.columns, DF_SUBHEATS_top5_pivot.loc[team].values, label=team)\n",
    "\n",
    "ax2.plot(DF_SUBHEATS_RZQO_mean_pivot.columns, DF_SUBHEATS_RZQO_mean_pivot.loc['RZQO'].values, label='RZQO')\n",
    "\n",
    "\n",
    "plt.xlabel('Heat')\n",
    "plt.ylabel('NLV')\n",
    "\n",
    "ax1.set_title('Plot to visualize the flow of movement between each Heat')\n",
    "\n",
    "ax1.legend(loc = 'upper right')\n",
    "ax2.legend(loc = 'upper right')\n",
    "plt.show()"
   ]
  },
  {
   "cell_type": "markdown",
   "id": "e707184f-ef30-48b5-9993-2dbc75733f57",
   "metadata": {},
   "source": [
    "### Simulation with DF_ALL"
   ]
  },
  {
   "cell_type": "code",
   "execution_count": 59,
   "id": "033c5325-d86c-422d-92e4-c46af9622d40",
   "metadata": {},
   "outputs": [],
   "source": [
    "# UNDERSTAND THIS"
   ]
  },
  {
   "cell_type": "code",
   "execution_count": null,
   "id": "12a7117f-39ff-420e-a445-86ce6bcfa628",
   "metadata": {
    "scrolled": true
   },
   "outputs": [],
   "source": [
    "for place in range(1, 20):\n",
    "    DF_ALL_NEW = DF_ALL.copy()\n",
    "    DF_ALL_NEW = DF_ALL_NEW.loc[~DF_ALL_NEW[\"Team\"].str.contains(\"RZQO\"),:] # Removing WNE\n",
    "    \n",
    "    subheats = DF_ALL_NEW.columns[DF_ALL_NEW.columns.str.contains(\"Details\")] # Getting the Subheats\n",
    "    # zeby zalatac dziurę po usunieciu WWA\n",
    "    DF_ALL_NEW[subheats] = DF_ALL_NEW[subheats].rank()\n",
    "    \n",
    "    for subheat in subheats:\n",
    "        DF_ALL_NEW.loc[DF_ALL_NEW[subheat]>=place, subheat] +=1\n",
    "    \n",
    "    DF_ALL_NEW[\"Mean\"] = DF_ALL_NEW[subheats].mean(axis = 1)\n",
    "    \n",
    "    print(place, DF_ALL_NEW.loc[1,\"Mean\"]>=place)\n",
    "    \n",
    "    if ~(DF_ALL_NEW.loc[1,\"Mean\"]>=place):\n",
    "        break"
   ]
  }
 ],
 "metadata": {
  "kernelspec": {
   "display_name": "Python 3 (ipykernel)",
   "language": "python",
   "name": "python3"
  },
  "language_info": {
   "codemirror_mode": {
    "name": "ipython",
    "version": 3
   },
   "file_extension": ".py",
   "mimetype": "text/x-python",
   "name": "python",
   "nbconvert_exporter": "python",
   "pygments_lexer": "ipython3",
   "version": "3.11.5"
  }
 },
 "nbformat": 4,
 "nbformat_minor": 5
}
