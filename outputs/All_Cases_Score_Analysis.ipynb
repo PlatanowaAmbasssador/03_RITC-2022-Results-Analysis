{
 "cells": [
  {
   "cell_type": "code",
   "execution_count": 1,
   "id": "9560509d-ea10-4acd-baf9-63bd508b55e5",
   "metadata": {
    "execution": {
     "iopub.execute_input": "2023-11-14T17:10:11.482800Z",
     "iopub.status.busy": "2023-11-14T17:10:11.482359Z",
     "iopub.status.idle": "2023-11-14T17:10:12.967971Z",
     "shell.execute_reply": "2023-11-14T17:10:12.967095Z"
    },
    "papermill": {
     "duration": 1.497574,
     "end_time": "2023-11-14T17:10:12.970013",
     "exception": false,
     "start_time": "2023-11-14T17:10:11.472439",
     "status": "completed"
    },
    "tags": []
   },
   "outputs": [],
   "source": [
    "import pandas as pd\n",
    "import numpy as np\n",
    "import plotly.graph_objects as go\n",
    "import matplotlib.pyplot as plt\n",
    "from sklearn.cluster import KMeans\n",
    "from IPython.display import Markdown as md\n",
    "from pathlib import Path"
   ]
  },
  {
   "cell_type": "code",
   "execution_count": 2,
   "id": "2c651f25",
   "metadata": {
    "execution": {
     "iopub.execute_input": "2023-11-14T17:10:12.988207Z",
     "iopub.status.busy": "2023-11-14T17:10:12.981648Z",
     "iopub.status.idle": "2023-11-14T17:10:12.996163Z",
     "shell.execute_reply": "2023-11-14T17:10:12.995481Z"
    },
    "papermill": {
     "duration": 0.031237,
     "end_time": "2023-11-14T17:10:13.004777",
     "exception": false,
     "start_time": "2023-11-14T17:10:12.973540",
     "status": "completed"
    },
    "tags": []
   },
   "outputs": [],
   "source": [
    "# add comparison to each graph with WNE\n",
    "# add a simulation that tells what positions could we take so that we still win"
   ]
  },
  {
   "cell_type": "code",
   "execution_count": 3,
   "id": "7b32705d-55c1-4ab5-8df0-67efd572cb94",
   "metadata": {
    "execution": {
     "iopub.execute_input": "2023-11-14T17:10:13.011827Z",
     "iopub.status.busy": "2023-11-14T17:10:13.011569Z",
     "iopub.status.idle": "2023-11-14T17:10:13.017506Z",
     "shell.execute_reply": "2023-11-14T17:10:13.016723Z"
    },
    "papermill": {
     "duration": 0.012318,
     "end_time": "2023-11-14T17:10:13.020089",
     "exception": false,
     "start_time": "2023-11-14T17:10:13.007771",
     "status": "completed"
    },
    "tags": [
     "parameters"
    ]
   },
   "outputs": [],
   "source": [
    "# case_name = ''\n",
    "\n",
    "# file_name = ''\n",
    "\n",
    "# sheet_name_all = ''\n",
    "\n",
    "# subheats_list = ''\n",
    "\n",
    "case_name = 'All_Cases'\n",
    "\n",
    "file_name = './Final_Resuts_from_RITC_2022'\n",
    "\n",
    "sheet_name_all = 'finalrank'\n",
    "\n",
    "subheats_list = None"
   ]
  },
  {
   "cell_type": "code",
   "execution_count": 4,
   "id": "ff946001",
   "metadata": {
    "execution": {
     "iopub.execute_input": "2023-11-14T17:10:13.026997Z",
     "iopub.status.busy": "2023-11-14T17:10:13.026722Z",
     "iopub.status.idle": "2023-11-14T17:10:13.029715Z",
     "shell.execute_reply": "2023-11-14T17:10:13.029082Z"
    },
    "papermill": {
     "duration": 0.008254,
     "end_time": "2023-11-14T17:10:13.031330",
     "exception": false,
     "start_time": "2023-11-14T17:10:13.023076",
     "status": "completed"
    },
    "tags": [
     "injected-parameters"
    ]
   },
   "outputs": [],
   "source": [
    "# Parameters\n",
    "case_name = \"All_Cases\"\n",
    "file_name = \"/Users/kamilkashif/Documents/Python/RITC/inputs/Final_Resuts_from_RITC_2022\"\n",
    "sheet_name_all = \"finalrank\"\n",
    "subheats_list = None\n"
   ]
  },
  {
   "cell_type": "code",
   "execution_count": 5,
   "id": "13f7984f-6f57-41d9-bb6d-12331643eb10",
   "metadata": {
    "execution": {
     "iopub.execute_input": "2023-11-14T17:10:13.041681Z",
     "iopub.status.busy": "2023-11-14T17:10:13.040767Z",
     "iopub.status.idle": "2023-11-14T17:10:13.059800Z",
     "shell.execute_reply": "2023-11-14T17:10:13.059330Z"
    },
    "papermill": {
     "duration": 0.027857,
     "end_time": "2023-11-14T17:10:13.062165",
     "exception": false,
     "start_time": "2023-11-14T17:10:13.034308",
     "status": "completed"
    },
    "tags": []
   },
   "outputs": [
    {
     "data": {
      "text/markdown": [
       "<font size = 5> Welcome to the analysis of <b>All_Cases</b>!</font>"
      ],
      "text/plain": [
       "<IPython.core.display.Markdown object>"
      ]
     },
     "execution_count": 5,
     "metadata": {},
     "output_type": "execute_result"
    }
   ],
   "source": [
    "md(f\"<font size = 5> Welcome to the analysis of <b>{case_name}</b>!</font>\")  "
   ]
  },
  {
   "cell_type": "code",
   "execution_count": 6,
   "id": "a22fd256-19b3-4fdd-af47-872208eece08",
   "metadata": {
    "execution": {
     "iopub.execute_input": "2023-11-14T17:10:13.069867Z",
     "iopub.status.busy": "2023-11-14T17:10:13.069641Z",
     "iopub.status.idle": "2023-11-14T17:10:13.462621Z",
     "shell.execute_reply": "2023-11-14T17:10:13.462024Z"
    },
    "papermill": {
     "duration": 0.398664,
     "end_time": "2023-11-14T17:10:13.464120",
     "exception": false,
     "start_time": "2023-11-14T17:10:13.065456",
     "status": "completed"
    },
    "tags": []
   },
   "outputs": [],
   "source": [
    "# import file\n",
    "DF_ALL_CASES = pd.read_excel(f\"{file_name}.xlsx\", sheet_name=sheet_name_all)\n",
    "DF_ALL_CASES = DF_ALL_CASES.drop(['\\u200eDetail', '\\u200eDetail.1',], axis=1).iloc[:-2]"
   ]
  },
  {
   "cell_type": "code",
   "execution_count": 7,
   "id": "17bf7ee7",
   "metadata": {
    "execution": {
     "iopub.execute_input": "2023-11-14T17:10:13.470860Z",
     "iopub.status.busy": "2023-11-14T17:10:13.470666Z",
     "iopub.status.idle": "2023-11-14T17:10:13.478802Z",
     "shell.execute_reply": "2023-11-14T17:10:13.478274Z"
    },
    "papermill": {
     "duration": 0.012958,
     "end_time": "2023-11-14T17:10:13.480160",
     "exception": false,
     "start_time": "2023-11-14T17:10:13.467202",
     "status": "completed"
    },
    "tags": []
   },
   "outputs": [],
   "source": [
    "%%capture\n",
    "\n",
    "imp_cols = DF_ALL_CASES.iloc[:,1:5].columns\n",
    "\n",
    "# calculating basic descriptive statistics\n",
    "DF_ALL_CASES['Team2'] = DF_ALL_CASES['Team'].str[0:4]\n",
    "DF_ALL_CASES[\"Mean\"] = DF_ALL_CASES[imp_cols].mean(axis=1)\n",
    "DF_ALL_CASES[\"Min\"] = DF_ALL_CASES[imp_cols].min(axis=1)\n",
    "DF_ALL_CASES[\"Max\"] = DF_ALL_CASES[imp_cols].max(axis=1)"
   ]
  },
  {
   "cell_type": "code",
   "execution_count": 8,
   "id": "ea9b9210",
   "metadata": {
    "execution": {
     "iopub.execute_input": "2023-11-14T17:10:13.488486Z",
     "iopub.status.busy": "2023-11-14T17:10:13.488138Z",
     "iopub.status.idle": "2023-11-14T17:10:13.491552Z",
     "shell.execute_reply": "2023-11-14T17:10:13.491152Z"
    },
    "papermill": {
     "duration": 0.008421,
     "end_time": "2023-11-14T17:10:13.492762",
     "exception": false,
     "start_time": "2023-11-14T17:10:13.484341",
     "status": "completed"
    },
    "tags": []
   },
   "outputs": [
    {
     "data": {
      "text/markdown": [
       "<font size = 4> We have calculated the Mean, Min, and Max for each Team. Check out the top 10:</font>"
      ],
      "text/plain": [
       "<IPython.core.display.Markdown object>"
      ]
     },
     "execution_count": 8,
     "metadata": {},
     "output_type": "execute_result"
    }
   ],
   "source": [
    "md(f\"<font size = 4> We have calculated the Mean, Min, and Max for each Team. Check out the top 10:</font>\")  "
   ]
  },
  {
   "cell_type": "code",
   "execution_count": 9,
   "id": "7f1e1d91-2c4d-4eda-bcf0-ba2f5c44ab10",
   "metadata": {
    "execution": {
     "iopub.execute_input": "2023-11-14T17:10:13.499320Z",
     "iopub.status.busy": "2023-11-14T17:10:13.499040Z",
     "iopub.status.idle": "2023-11-14T17:10:13.509351Z",
     "shell.execute_reply": "2023-11-14T17:10:13.508975Z"
    },
    "papermill": {
     "duration": 0.014936,
     "end_time": "2023-11-14T17:10:13.510614",
     "exception": false,
     "start_time": "2023-11-14T17:10:13.495678",
     "status": "completed"
    },
    "tags": []
   },
   "outputs": [
    {
     "data": {
      "text/html": [
       "<div>\n",
       "<style scoped>\n",
       "    .dataframe tbody tr th:only-of-type {\n",
       "        vertical-align: middle;\n",
       "    }\n",
       "\n",
       "    .dataframe tbody tr th {\n",
       "        vertical-align: top;\n",
       "    }\n",
       "\n",
       "    .dataframe thead th {\n",
       "        text-align: right;\n",
       "    }\n",
       "</style>\n",
       "<table border=\"1\" class=\"dataframe\">\n",
       "  <thead>\n",
       "    <tr style=\"text-align: right;\">\n",
       "      <th></th>\n",
       "      <th>Team</th>\n",
       "      <th>MATLAB VolatilityDetail</th>\n",
       "      <th>Liquidity RiskDetail</th>\n",
       "      <th>ElectricityDetail</th>\n",
       "      <th>AlgoDetail</th>\n",
       "      <th>Final</th>\n",
       "      <th>Team2</th>\n",
       "      <th>Mean</th>\n",
       "      <th>Min</th>\n",
       "      <th>Max</th>\n",
       "    </tr>\n",
       "  </thead>\n",
       "  <tbody>\n",
       "    <tr>\n",
       "      <th>0</th>\n",
       "      <td>SZEI - Baruch College - Team B</td>\n",
       "      <td>1</td>\n",
       "      <td>6</td>\n",
       "      <td>3</td>\n",
       "      <td>4</td>\n",
       "      <td>1.0</td>\n",
       "      <td>SZEI</td>\n",
       "      <td>3.5</td>\n",
       "      <td>1</td>\n",
       "      <td>6</td>\n",
       "    </tr>\n",
       "    <tr>\n",
       "      <th>1</th>\n",
       "      <td>DDIO - Baruch College - Team C</td>\n",
       "      <td>4</td>\n",
       "      <td>1</td>\n",
       "      <td>2</td>\n",
       "      <td>15</td>\n",
       "      <td>2.0</td>\n",
       "      <td>DDIO</td>\n",
       "      <td>5.5</td>\n",
       "      <td>1</td>\n",
       "      <td>15</td>\n",
       "    </tr>\n",
       "    <tr>\n",
       "      <th>2</th>\n",
       "      <td>FQAR - University of Ottawa</td>\n",
       "      <td>6</td>\n",
       "      <td>2</td>\n",
       "      <td>7</td>\n",
       "      <td>9</td>\n",
       "      <td>3.0</td>\n",
       "      <td>FQAR</td>\n",
       "      <td>6.0</td>\n",
       "      <td>2</td>\n",
       "      <td>9</td>\n",
       "    </tr>\n",
       "    <tr>\n",
       "      <th>3</th>\n",
       "      <td>VRYK - Baruch College - Team A</td>\n",
       "      <td>8</td>\n",
       "      <td>3</td>\n",
       "      <td>4</td>\n",
       "      <td>13</td>\n",
       "      <td>4.0</td>\n",
       "      <td>VRYK</td>\n",
       "      <td>7.0</td>\n",
       "      <td>3</td>\n",
       "      <td>13</td>\n",
       "    </tr>\n",
       "    <tr>\n",
       "      <th>4</th>\n",
       "      <td>NCGQ - University of Calgary - Team B</td>\n",
       "      <td>7</td>\n",
       "      <td>8</td>\n",
       "      <td>9</td>\n",
       "      <td>5</td>\n",
       "      <td>5.0</td>\n",
       "      <td>NCGQ</td>\n",
       "      <td>7.25</td>\n",
       "      <td>5</td>\n",
       "      <td>9</td>\n",
       "    </tr>\n",
       "    <tr>\n",
       "      <th>5</th>\n",
       "      <td>RZQO - University of Warsaw, Faculty of Econom...</td>\n",
       "      <td>11</td>\n",
       "      <td>24</td>\n",
       "      <td>1</td>\n",
       "      <td>1</td>\n",
       "      <td>6.0</td>\n",
       "      <td>RZQO</td>\n",
       "      <td>9.25</td>\n",
       "      <td>1</td>\n",
       "      <td>24</td>\n",
       "    </tr>\n",
       "    <tr>\n",
       "      <th>6</th>\n",
       "      <td>OCFZ - University of Calgary - Team A</td>\n",
       "      <td>10</td>\n",
       "      <td>9</td>\n",
       "      <td>16</td>\n",
       "      <td>8</td>\n",
       "      <td>7.0</td>\n",
       "      <td>OCFZ</td>\n",
       "      <td>10.75</td>\n",
       "      <td>8</td>\n",
       "      <td>16</td>\n",
       "    </tr>\n",
       "    <tr>\n",
       "      <th>7</th>\n",
       "      <td>OXLH - University of Lethbridge - Team A</td>\n",
       "      <td>5</td>\n",
       "      <td>16</td>\n",
       "      <td>5</td>\n",
       "      <td>18</td>\n",
       "      <td>8.0</td>\n",
       "      <td>OXLH</td>\n",
       "      <td>11.0</td>\n",
       "      <td>5</td>\n",
       "      <td>18</td>\n",
       "    </tr>\n",
       "    <tr>\n",
       "      <th>8</th>\n",
       "      <td>IVPJ - Fairfield University - Team B</td>\n",
       "      <td>2</td>\n",
       "      <td>21</td>\n",
       "      <td>19</td>\n",
       "      <td>6</td>\n",
       "      <td>9.0</td>\n",
       "      <td>IVPJ</td>\n",
       "      <td>12.0</td>\n",
       "      <td>2</td>\n",
       "      <td>21</td>\n",
       "    </tr>\n",
       "    <tr>\n",
       "      <th>9</th>\n",
       "      <td>UGWN - City University of Hong Kong</td>\n",
       "      <td>12</td>\n",
       "      <td>7</td>\n",
       "      <td>13</td>\n",
       "      <td>18</td>\n",
       "      <td>10.0</td>\n",
       "      <td>UGWN</td>\n",
       "      <td>12.5</td>\n",
       "      <td>7</td>\n",
       "      <td>18</td>\n",
       "    </tr>\n",
       "  </tbody>\n",
       "</table>\n",
       "</div>"
      ],
      "text/plain": [
       "                                                Team MATLAB VolatilityDetail  \\\n",
       "0                     SZEI - Baruch College - Team B                       1   \n",
       "1                     DDIO - Baruch College - Team C                       4   \n",
       "2                        FQAR - University of Ottawa                       6   \n",
       "3                     VRYK - Baruch College - Team A                       8   \n",
       "4              NCGQ - University of Calgary - Team B                       7   \n",
       "5  RZQO - University of Warsaw, Faculty of Econom...                      11   \n",
       "6              OCFZ - University of Calgary - Team A                      10   \n",
       "7           OXLH - University of Lethbridge - Team A                       5   \n",
       "8               IVPJ - Fairfield University - Team B                       2   \n",
       "9                UGWN - City University of Hong Kong                      12   \n",
       "\n",
       "  Liquidity RiskDetail ElectricityDetail AlgoDetail  Final Team2   Mean Min  \\\n",
       "0                    6                 3          4    1.0  SZEI    3.5   1   \n",
       "1                    1                 2         15    2.0  DDIO    5.5   1   \n",
       "2                    2                 7          9    3.0  FQAR    6.0   2   \n",
       "3                    3                 4         13    4.0  VRYK    7.0   3   \n",
       "4                    8                 9          5    5.0  NCGQ   7.25   5   \n",
       "5                   24                 1          1    6.0  RZQO   9.25   1   \n",
       "6                    9                16          8    7.0  OCFZ  10.75   8   \n",
       "7                   16                 5         18    8.0  OXLH   11.0   5   \n",
       "8                   21                19          6    9.0  IVPJ   12.0   2   \n",
       "9                    7                13         18   10.0  UGWN   12.5   7   \n",
       "\n",
       "  Max  \n",
       "0   6  \n",
       "1  15  \n",
       "2   9  \n",
       "3  13  \n",
       "4   9  \n",
       "5  24  \n",
       "6  16  \n",
       "7  18  \n",
       "8  21  \n",
       "9  18  "
      ]
     },
     "execution_count": 9,
     "metadata": {},
     "output_type": "execute_result"
    }
   ],
   "source": [
    "DF_ALL_CASES.head(10)"
   ]
  },
  {
   "cell_type": "code",
   "execution_count": 10,
   "id": "ec40381d",
   "metadata": {
    "execution": {
     "iopub.execute_input": "2023-11-14T17:10:13.518064Z",
     "iopub.status.busy": "2023-11-14T17:10:13.517862Z",
     "iopub.status.idle": "2023-11-14T17:10:13.522071Z",
     "shell.execute_reply": "2023-11-14T17:10:13.521700Z"
    },
    "papermill": {
     "duration": 0.009254,
     "end_time": "2023-11-14T17:10:13.523274",
     "exception": false,
     "start_time": "2023-11-14T17:10:13.514020",
     "status": "completed"
    },
    "tags": []
   },
   "outputs": [
    {
     "data": {
      "text/markdown": [
       "<font size = 4> As we see, our faculty had the final ranking <b>[6.]</b></font>"
      ],
      "text/plain": [
       "<IPython.core.display.Markdown object>"
      ]
     },
     "execution_count": 10,
     "metadata": {},
     "output_type": "execute_result"
    }
   ],
   "source": [
    "md(f\"<font size = 4> As we see, our faculty had the final ranking <b>{DF_ALL_CASES.loc[DF_ALL_CASES['Team2']=='RZQO', 'Final'].values}</b></font>\")  "
   ]
  },
  {
   "cell_type": "code",
   "execution_count": 11,
   "id": "71794021-a7b0-48f8-aa05-117ae58411e3",
   "metadata": {
    "execution": {
     "iopub.execute_input": "2023-11-14T17:10:13.530325Z",
     "iopub.status.busy": "2023-11-14T17:10:13.530154Z",
     "iopub.status.idle": "2023-11-14T17:10:13.533258Z",
     "shell.execute_reply": "2023-11-14T17:10:13.532864Z"
    },
    "papermill": {
     "duration": 0.007984,
     "end_time": "2023-11-14T17:10:13.534445",
     "exception": false,
     "start_time": "2023-11-14T17:10:13.526461",
     "status": "completed"
    },
    "tags": []
   },
   "outputs": [
    {
     "data": {
      "text/markdown": [
       "<font size = 4> This plot presents for each team the important statistics for <b>All_Cases</b></font>"
      ],
      "text/plain": [
       "<IPython.core.display.Markdown object>"
      ]
     },
     "execution_count": 11,
     "metadata": {},
     "output_type": "execute_result"
    }
   ],
   "source": [
    "md(f\"<font size = 4> This plot presents for each team the important statistics for <b>{case_name}</b></font>\")  "
   ]
  },
  {
   "cell_type": "code",
   "execution_count": 12,
   "id": "6fda9c0e-38b9-41a2-b26b-0766259c5d34",
   "metadata": {
    "execution": {
     "iopub.execute_input": "2023-11-14T17:10:13.541759Z",
     "iopub.status.busy": "2023-11-14T17:10:13.541594Z",
     "iopub.status.idle": "2023-11-14T17:10:13.544399Z",
     "shell.execute_reply": "2023-11-14T17:10:13.544080Z"
    },
    "papermill": {
     "duration": 0.007969,
     "end_time": "2023-11-14T17:10:13.545656",
     "exception": false,
     "start_time": "2023-11-14T17:10:13.537687",
     "status": "completed"
    },
    "tags": []
   },
   "outputs": [
    {
     "data": {
      "text/markdown": [
       "<font size = 3> <b>Red Dot</b> - Final Rank of the Team</font>"
      ],
      "text/plain": [
       "<IPython.core.display.Markdown object>"
      ]
     },
     "execution_count": 12,
     "metadata": {},
     "output_type": "execute_result"
    }
   ],
   "source": [
    "md(f\"<font size = 3> <b>Red Dot</b> - Final Rank of the Team</font>\")  "
   ]
  },
  {
   "cell_type": "code",
   "execution_count": 13,
   "id": "ddbec11e-bbb4-4640-88cc-bf2ca33a8a09",
   "metadata": {
    "execution": {
     "iopub.execute_input": "2023-11-14T17:10:13.553215Z",
     "iopub.status.busy": "2023-11-14T17:10:13.553050Z",
     "iopub.status.idle": "2023-11-14T17:10:13.556055Z",
     "shell.execute_reply": "2023-11-14T17:10:13.555711Z"
    },
    "papermill": {
     "duration": 0.008004,
     "end_time": "2023-11-14T17:10:13.557242",
     "exception": false,
     "start_time": "2023-11-14T17:10:13.549238",
     "status": "completed"
    },
    "tags": []
   },
   "outputs": [
    {
     "data": {
      "text/markdown": [
       "<font size = 3> <b>Blue Dot</b> -  Mean of the ranks based on all cases</font>"
      ],
      "text/plain": [
       "<IPython.core.display.Markdown object>"
      ]
     },
     "execution_count": 13,
     "metadata": {},
     "output_type": "execute_result"
    }
   ],
   "source": [
    "md(f\"<font size = 3> <b>Blue Dot</b> -  Mean of the ranks based on all cases</font>\")  "
   ]
  },
  {
   "cell_type": "code",
   "execution_count": 14,
   "id": "a89eae9f-4141-4b91-b19b-922d59e418f4",
   "metadata": {
    "execution": {
     "iopub.execute_input": "2023-11-14T17:10:13.564852Z",
     "iopub.status.busy": "2023-11-14T17:10:13.564673Z",
     "iopub.status.idle": "2023-11-14T17:10:13.567575Z",
     "shell.execute_reply": "2023-11-14T17:10:13.567241Z"
    },
    "papermill": {
     "duration": 0.008005,
     "end_time": "2023-11-14T17:10:13.568748",
     "exception": false,
     "start_time": "2023-11-14T17:10:13.560743",
     "status": "completed"
    },
    "tags": []
   },
   "outputs": [
    {
     "data": {
      "text/markdown": [
       "<font size = 3> <b>Green shaded area</b> -  the range between the minimum and the maximum rank taken based on all cases</font>"
      ],
      "text/plain": [
       "<IPython.core.display.Markdown object>"
      ]
     },
     "execution_count": 14,
     "metadata": {},
     "output_type": "execute_result"
    }
   ],
   "source": [
    "md(f\"<font size = 3> <b>Green shaded area</b> -  the range between the minimum and the maximum rank taken based on all cases</font>\")  "
   ]
  },
  {
   "cell_type": "code",
   "execution_count": 15,
   "id": "5fb9a3c0-0dd6-4bf1-b9a3-28199278186a",
   "metadata": {
    "execution": {
     "iopub.execute_input": "2023-11-14T17:10:13.576846Z",
     "iopub.status.busy": "2023-11-14T17:10:13.576667Z",
     "iopub.status.idle": "2023-11-14T17:10:14.056340Z",
     "shell.execute_reply": "2023-11-14T17:10:14.055895Z"
    },
    "papermill": {
     "duration": 0.485616,
     "end_time": "2023-11-14T17:10:14.058112",
     "exception": false,
     "start_time": "2023-11-14T17:10:13.572496",
     "status": "completed"
    },
    "tags": []
   },
   "outputs": [
    {
     "data": {
      "image/png": "[encoded data removed]",
      "text/plain": [
       "<Figure size 800x1600 with 1 Axes>"
      ]
     },
     "metadata": {},
     "output_type": "display_data"
    }
   ],
   "source": [
    "fig = plt.figure(figsize=(8, 16))\n",
    "ax = fig.add_subplot(111)\n",
    "\n",
    "ax.plot(\n",
    "    DF_ALL_CASES.loc[:,\"Final\"],\n",
    "    DF_ALL_CASES.loc[:,\"Team2\"],\n",
    "    marker = \"o\",\n",
    "    linestyle=\"\",\n",
    "    color = \"maroon\")\n",
    "\n",
    "ax.plot(\n",
    "    DF_ALL_CASES.loc[:,\"Mean\"],\n",
    "    DF_ALL_CASES.loc[:,\"Team2\"],\n",
    "    marker = \"o\",\n",
    "    linestyle=\"\",\n",
    "    color = \"blue\")\n",
    "\n",
    "ax.barh(\n",
    "    DF_ALL_CASES.loc[:,\"Team2\"],\n",
    "    DF_ALL_CASES.loc[:,\"Min\"],\n",
    "    align='center',\n",
    "    height=.25,\n",
    "    color='white',\n",
    "    label='min')\n",
    "\n",
    "ax.barh(DF_ALL_CASES.loc[:,\"Team2\"],\n",
    "        DF_ALL_CASES.loc[:,\"Max\"]-DF_ALL_CASES.loc[:,\"Min\"],\n",
    "        align='center', \n",
    "        height=.25,\n",
    "        left=DF_ALL_CASES.loc[:,\"Min\"],\n",
    "        color='green',\n",
    "        label='max')\n",
    "\n",
    "ax.set_yticks(DF_ALL_CASES.loc[:,\"Team2\"])\n",
    "\n",
    "ax.grid(True)\n",
    "plt.title(f\"Summary Of All Teams For {case_name}\")\n",
    "\n",
    "plt.xlabel('Rank')\n",
    "plt.ylabel('Team Code')\n",
    "\n",
    "plt.tight_layout()\n",
    "plt.show()"
   ]
  },
  {
   "cell_type": "code",
   "execution_count": null,
   "id": "43226b54",
   "metadata": {
    "papermill": {
     "duration": 0.004105,
     "end_time": "2023-11-14T17:10:14.066849",
     "exception": false,
     "start_time": "2023-11-14T17:10:14.062744",
     "status": "completed"
    },
    "tags": []
   },
   "outputs": [],
   "source": []
  },
  {
   "cell_type": "code",
   "execution_count": 16,
   "id": "ac7f9d67",
   "metadata": {
    "execution": {
     "iopub.execute_input": "2023-11-14T17:10:14.075969Z",
     "iopub.status.busy": "2023-11-14T17:10:14.075761Z",
     "iopub.status.idle": "2023-11-14T17:10:15.056936Z",
     "shell.execute_reply": "2023-11-14T17:10:15.056334Z"
    },
    "papermill": {
     "duration": 0.987587,
     "end_time": "2023-11-14T17:10:15.058474",
     "exception": false,
     "start_time": "2023-11-14T17:10:14.070887",
     "status": "completed"
    },
    "tags": []
   },
   "outputs": [],
   "source": [
    "CASES = ['AT', 'ET', 'LR', 'MVT']\n",
    "\n",
    "df_cases = pd.DataFrame()\n",
    "\n",
    "for i in CASES:\n",
    "    df_ = pd.read_excel(f\"{file_name}.xlsx\", sheet_name=i)[['Team', 'Score', 'Rank']]\n",
    "    df_.columns = df_.columns.values\n",
    "    df_['Team2'] = df_['Team'].str[0:4]\n",
    "    df_ = df_.drop('Team', axis=1)\n",
    "    df_ = df_.loc[:52, :]\n",
    "\n",
    "    df_.loc[:, 'Case'] = i\n",
    "    df_cases = pd.concat([df_cases, df_])\n"
   ]
  },
  {
   "cell_type": "code",
   "execution_count": 17,
   "id": "7129fa1d",
   "metadata": {
    "execution": {
     "iopub.execute_input": "2023-11-14T17:10:15.068131Z",
     "iopub.status.busy": "2023-11-14T17:10:15.067943Z",
     "iopub.status.idle": "2023-11-14T17:10:15.071036Z",
     "shell.execute_reply": "2023-11-14T17:10:15.070679Z"
    },
    "papermill": {
     "duration": 0.009032,
     "end_time": "2023-11-14T17:10:15.072177",
     "exception": false,
     "start_time": "2023-11-14T17:10:15.063145",
     "status": "completed"
    },
    "tags": []
   },
   "outputs": [],
   "source": [
    "DFDFCASES = df_cases.copy()\n",
    "DFDFCASES = DFDFCASES.set_index('Team2')"
   ]
  },
  {
   "cell_type": "code",
   "execution_count": 18,
   "id": "4a174bba",
   "metadata": {
    "execution": {
     "iopub.execute_input": "2023-11-14T17:10:15.081918Z",
     "iopub.status.busy": "2023-11-14T17:10:15.081472Z",
     "iopub.status.idle": "2023-11-14T17:10:15.086030Z",
     "shell.execute_reply": "2023-11-14T17:10:15.085573Z"
    },
    "papermill": {
     "duration": 0.010737,
     "end_time": "2023-11-14T17:10:15.087348",
     "exception": false,
     "start_time": "2023-11-14T17:10:15.076611",
     "status": "completed"
    },
    "tags": []
   },
   "outputs": [],
   "source": [
    "df_AT = DFDFCASES.loc[DFDFCASES['Case']=='AT', 'Score']\n",
    "df_ET = DFDFCASES.loc[DFDFCASES['Case']=='ET', 'Score']\n",
    "df_LR = DFDFCASES.loc[DFDFCASES['Case']=='LR', 'Score']\n",
    "df_MVT = DFDFCASES.loc[DFDFCASES['Case']=='MVT', 'Score']"
   ]
  },
  {
   "cell_type": "code",
   "execution_count": 19,
   "id": "59a6436c",
   "metadata": {
    "execution": {
     "iopub.execute_input": "2023-11-14T17:10:15.097489Z",
     "iopub.status.busy": "2023-11-14T17:10:15.097169Z",
     "iopub.status.idle": "2023-11-14T17:10:15.103788Z",
     "shell.execute_reply": "2023-11-14T17:10:15.103412Z"
    },
    "papermill": {
     "duration": 0.013164,
     "end_time": "2023-11-14T17:10:15.104974",
     "exception": false,
     "start_time": "2023-11-14T17:10:15.091810",
     "status": "completed"
    },
    "tags": []
   },
   "outputs": [],
   "source": [
    "final_score = 0.25*(df_AT+df_ET+df_LR+df_MVT)\n",
    "\n",
    "df_final_Score = pd.DataFrame(final_score)\n",
    "\n",
    "df_final_Score['Final Rank'] = df_final_Score['Score'].rank(ascending=False)\n",
    "df_final_Score = df_final_Score.sort_values(by='Final Rank')"
   ]
  },
  {
   "cell_type": "code",
   "execution_count": 20,
   "id": "c2db8aac",
   "metadata": {
    "execution": {
     "iopub.execute_input": "2023-11-14T17:10:15.114652Z",
     "iopub.status.busy": "2023-11-14T17:10:15.114368Z",
     "iopub.status.idle": "2023-11-14T17:10:15.117074Z",
     "shell.execute_reply": "2023-11-14T17:10:15.116748Z"
    },
    "papermill": {
     "duration": 0.008916,
     "end_time": "2023-11-14T17:10:15.118352",
     "exception": false,
     "start_time": "2023-11-14T17:10:15.109436",
     "status": "completed"
    },
    "tags": []
   },
   "outputs": [],
   "source": [
    "# DF_ALL_CASES = DF_ALL_CASES.set_index('Team2')\n",
    "df_final_Score['REAL_RANK'] = DF_ALL_CASES['Final']"
   ]
  }
 ],
 "metadata": {
  "kernelspec": {
   "display_name": "Python 3 (ipykernel)",
   "language": "python",
   "name": "python3"
  },
  "language_info": {
   "codemirror_mode": {
    "name": "ipython",
    "version": 3
   },
   "file_extension": ".py",
   "mimetype": "text/x-python",
   "name": "python",
   "nbconvert_exporter": "python",
   "pygments_lexer": "ipython3",
   "version": "3.11.5"
  },
  "papermill": {
   "default_parameters": {},
   "duration": 5.030692,
   "end_time": "2023-11-14T17:10:15.441083",
   "environment_variables": {},
   "exception": null,
   "input_path": "/Users/kamilkashif/Documents/Python/RITC/templates/CASE_TEMPLATE_finalrank.ipynb",
   "output_path": "/Users/kamilkashif/Documents/Python/RITC/outputs/All_Cases_Score_Analysis.ipynb",
   "parameters": {
    "case_name": "All_Cases",
    "file_name": "/Users/kamilkashif/Documents/Python/RITC/inputs/Final_Resuts_from_RITC_2022",
    "sheet_name_all": "finalrank",
    "subheats_list": null
   },
   "start_time": "2023-11-14T17:10:10.410391",
   "version": "2.5.0"
  }
 },
 "nbformat": 4,
 "nbformat_minor": 5
}