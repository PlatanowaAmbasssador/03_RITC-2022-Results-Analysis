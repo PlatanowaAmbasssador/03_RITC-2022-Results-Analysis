{
 "cells": [
  {
   "cell_type": "code",
   "execution_count": 1,
   "id": "9560509d-ea10-4acd-baf9-63bd508b55e5",
   "metadata": {
    "execution": {
     "iopub.execute_input": "2023-11-14T17:10:34.887071Z",
     "iopub.status.busy": "2023-11-14T17:10:34.886606Z",
     "iopub.status.idle": "2023-11-14T17:10:36.078193Z",
     "shell.execute_reply": "2023-11-14T17:10:36.077554Z"
    },
    "papermill": {
     "duration": 1.224119,
     "end_time": "2023-11-14T17:10:36.079950",
     "exception": false,
     "start_time": "2023-11-14T17:10:34.855831",
     "status": "completed"
    },
    "tags": []
   },
   "outputs": [],
   "source": [
    "import pandas as pd\n",
    "import numpy as np\n",
    "import plotly.graph_objects as go\n",
    "import matplotlib.pyplot as plt\n",
    "from sklearn.cluster import KMeans\n",
    "from IPython.display import Markdown as md\n",
    "from pathlib import Path"
   ]
  },
  {
   "cell_type": "code",
   "execution_count": 2,
   "id": "7b32705d-55c1-4ab5-8df0-67efd572cb94",
   "metadata": {
    "execution": {
     "iopub.execute_input": "2023-11-14T17:10:36.093390Z",
     "iopub.status.busy": "2023-11-14T17:10:36.092958Z",
     "iopub.status.idle": "2023-11-14T17:10:36.096363Z",
     "shell.execute_reply": "2023-11-14T17:10:36.095955Z"
    },
    "papermill": {
     "duration": 0.011019,
     "end_time": "2023-11-14T17:10:36.097693",
     "exception": false,
     "start_time": "2023-11-14T17:10:36.086674",
     "status": "completed"
    },
    "tags": [
     "parameters"
    ]
   },
   "outputs": [],
   "source": [
    "# case_name = ''\n",
    "\n",
    "# file_name = ''\n",
    "\n",
    "# sheet_name_all = ''\n",
    "\n",
    "# subheats_list =  ''\n",
    "\n",
    "case_name = 'Matlab_Volatility_Trading_Case'\n",
    "\n",
    "file_name = './Final_Resuts_from_RITC_2022'\n",
    "\n",
    "sheet_name_all = 'MVT'\n",
    "\n",
    "subheats_list =  [\"MVT-1\",\"MVT-2\",\"MVT-3\",\"MVT-4\", \"MVT-5\"]"
   ]
  },
  {
   "cell_type": "code",
   "execution_count": 3,
   "id": "53b4005f",
   "metadata": {
    "execution": {
     "iopub.execute_input": "2023-11-14T17:10:36.109711Z",
     "iopub.status.busy": "2023-11-14T17:10:36.109479Z",
     "iopub.status.idle": "2023-11-14T17:10:36.112168Z",
     "shell.execute_reply": "2023-11-14T17:10:36.111769Z"
    },
    "papermill": {
     "duration": 0.010447,
     "end_time": "2023-11-14T17:10:36.113411",
     "exception": false,
     "start_time": "2023-11-14T17:10:36.102964",
     "status": "completed"
    },
    "tags": [
     "injected-parameters"
    ]
   },
   "outputs": [],
   "source": [
    "# Parameters\n",
    "case_name = \"Matlab_Volatility_Trading_Case\"\n",
    "file_name = \"/Users/kamilkashif/Documents/Python/RITC/inputs/Final_Resuts_from_RITC_2022\"\n",
    "sheet_name_all = \"MVT\"\n",
    "subheats_list = [\"MVT-1\", \"MVT-2\", \"MVT-3\", \"MVT-4\", \"MVT-5\"]\n"
   ]
  },
  {
   "cell_type": "code",
   "execution_count": 4,
   "id": "d92a531b-8ec5-42dc-ad33-6d1858b6297f",
   "metadata": {
    "execution": {
     "iopub.execute_input": "2023-11-14T17:10:36.124642Z",
     "iopub.status.busy": "2023-11-14T17:10:36.124473Z",
     "iopub.status.idle": "2023-11-14T17:10:36.127955Z",
     "shell.execute_reply": "2023-11-14T17:10:36.127517Z"
    },
    "papermill": {
     "duration": 0.010355,
     "end_time": "2023-11-14T17:10:36.129135",
     "exception": false,
     "start_time": "2023-11-14T17:10:36.118780",
     "status": "completed"
    },
    "tags": []
   },
   "outputs": [],
   "source": [
    "def df_User(df_DF_SUBHEATS, user):\n",
    "    df = pd.DataFrame([list(pd.DataFrame(df_DF_SUBHEATS.loc[df_DF_SUBHEATS.loc[:,\"User\"]==user,].groupby([\"Team2\"])[\"NLV\"].mean()).loc[:,\"NLV\"])])\n",
    "    columns = list(pd.DataFrame(df_DF_SUBHEATS.loc[df_DF_SUBHEATS.loc[:,\"User\"]==user,].groupby([\"Team2\"])[\"NLV\"].mean()).index)\n",
    "    return df, columns"
   ]
  },
  {
   "cell_type": "code",
   "execution_count": 5,
   "id": "13f7984f-6f57-41d9-bb6d-12331643eb10",
   "metadata": {
    "execution": {
     "iopub.execute_input": "2023-11-14T17:10:36.140201Z",
     "iopub.status.busy": "2023-11-14T17:10:36.139920Z",
     "iopub.status.idle": "2023-11-14T17:10:36.145035Z",
     "shell.execute_reply": "2023-11-14T17:10:36.144685Z"
    },
    "papermill": {
     "duration": 0.012137,
     "end_time": "2023-11-14T17:10:36.146365",
     "exception": false,
     "start_time": "2023-11-14T17:10:36.134228",
     "status": "completed"
    },
    "tags": []
   },
   "outputs": [
    {
     "data": {
      "text/markdown": [
       "<font size = 5> Welcome to the analysis of the <b>Matlab_Volatility_Trading_Case</b>!</font>"
      ],
      "text/plain": [
       "<IPython.core.display.Markdown object>"
      ]
     },
     "execution_count": 5,
     "metadata": {},
     "output_type": "execute_result"
    }
   ],
   "source": [
    "md(f\"<font size = 5> Welcome to the analysis of the <b>{case_name}</b>!</font>\")  "
   ]
  },
  {
   "cell_type": "code",
   "execution_count": 6,
   "id": "a22fd256-19b3-4fdd-af47-872208eece08",
   "metadata": {
    "execution": {
     "iopub.execute_input": "2023-11-14T17:10:36.157635Z",
     "iopub.status.busy": "2023-11-14T17:10:36.157442Z",
     "iopub.status.idle": "2023-11-14T17:10:36.507531Z",
     "shell.execute_reply": "2023-11-14T17:10:36.507110Z"
    },
    "papermill": {
     "duration": 0.357278,
     "end_time": "2023-11-14T17:10:36.508960",
     "exception": false,
     "start_time": "2023-11-14T17:10:36.151682",
     "status": "completed"
    },
    "tags": []
   },
   "outputs": [],
   "source": [
    "# import file\n",
    "DF_ALL = pd.read_excel(f\"{file_name}.xlsx\", sheet_name=sheet_name_all)"
   ]
  },
  {
   "cell_type": "code",
   "execution_count": 7,
   "id": "e2c91593-0794-45be-9cbf-6dcb6aca98cd",
   "metadata": {
    "execution": {
     "iopub.execute_input": "2023-11-14T17:10:36.520725Z",
     "iopub.status.busy": "2023-11-14T17:10:36.520528Z",
     "iopub.status.idle": "2023-11-14T17:10:36.524982Z",
     "shell.execute_reply": "2023-11-14T17:10:36.524467Z"
    },
    "papermill": {
     "duration": 0.011916,
     "end_time": "2023-11-14T17:10:36.526480",
     "exception": false,
     "start_time": "2023-11-14T17:10:36.514564",
     "status": "completed"
    },
    "scrolled": true,
    "tags": []
   },
   "outputs": [
    {
     "data": {
      "text/markdown": [
       "<font size = 4> In this case we have <b>5</b> Heats. </font>"
      ],
      "text/plain": [
       "<IPython.core.display.Markdown object>"
      ]
     },
     "execution_count": 7,
     "metadata": {},
     "output_type": "execute_result"
    }
   ],
   "source": [
    "cols = [i for i in list(DF_ALL.columns) if \"Subheat\" in i]\n",
    "\n",
    "md(f\"<font size = 4> In this case we have <b>{len(cols)}</b> Heats. </font>\")  "
   ]
  },
  {
   "cell_type": "code",
   "execution_count": 8,
   "id": "00a759af-edf6-4fa4-ab75-77d64cc5afe1",
   "metadata": {
    "execution": {
     "iopub.execute_input": "2023-11-14T17:10:36.538490Z",
     "iopub.status.busy": "2023-11-14T17:10:36.538270Z",
     "iopub.status.idle": "2023-11-14T17:10:36.547382Z",
     "shell.execute_reply": "2023-11-14T17:10:36.546987Z"
    },
    "papermill": {
     "duration": 0.016561,
     "end_time": "2023-11-14T17:10:36.548644",
     "exception": false,
     "start_time": "2023-11-14T17:10:36.532083",
     "status": "completed"
    },
    "scrolled": true,
    "tags": []
   },
   "outputs": [],
   "source": [
    "%%capture\n",
    "\n",
    "# formatting the file to rmeove uneccesary columns\n",
    "DF_ALL.loc[:,\"Team2\"] = DF_ALL[\"Team\"].str[0:4]\n",
    "DF_ALL = DF_ALL.loc[0:52,:]\n",
    "\n",
    "# calculating basic descriptive statistics\n",
    "DF_ALL.loc[:,\"Mean\"] = DF_ALL.loc[:,cols].mean(axis=1)\n",
    "DF_ALL.loc[:,\"Min\"] = DF_ALL.loc[:,cols].min(axis=1)\n",
    "DF_ALL.loc[:,\"Max\"] = DF_ALL.loc[:,cols].max(axis=1)"
   ]
  },
  {
   "cell_type": "code",
   "execution_count": 9,
   "id": "3d9b5a80-7bc9-494a-8d61-c13a60a52b50",
   "metadata": {
    "execution": {
     "iopub.execute_input": "2023-11-14T17:10:36.560409Z",
     "iopub.status.busy": "2023-11-14T17:10:36.560228Z",
     "iopub.status.idle": "2023-11-14T17:10:36.563298Z",
     "shell.execute_reply": "2023-11-14T17:10:36.562948Z"
    },
    "papermill": {
     "duration": 0.010373,
     "end_time": "2023-11-14T17:10:36.564627",
     "exception": false,
     "start_time": "2023-11-14T17:10:36.554254",
     "status": "completed"
    },
    "tags": []
   },
   "outputs": [
    {
     "data": {
      "text/markdown": [
       "<font size = 4> We have calculated the Mean, Min, and Max for each Team of the university based on the Subheats. Check out the top 10:</font>"
      ],
      "text/plain": [
       "<IPython.core.display.Markdown object>"
      ]
     },
     "execution_count": 9,
     "metadata": {},
     "output_type": "execute_result"
    }
   ],
   "source": [
    "md(f\"<font size = 4> We have calculated the Mean, Min, and Max for each Team of the university based on the Subheats. Check out the top 10:</font>\")  "
   ]
  },
  {
   "cell_type": "code",
   "execution_count": 10,
   "id": "7f1e1d91-2c4d-4eda-bcf0-ba2f5c44ab10",
   "metadata": {
    "execution": {
     "iopub.execute_input": "2023-11-14T17:10:36.576548Z",
     "iopub.status.busy": "2023-11-14T17:10:36.576273Z",
     "iopub.status.idle": "2023-11-14T17:10:36.587931Z",
     "shell.execute_reply": "2023-11-14T17:10:36.587558Z"
    },
    "papermill": {
     "duration": 0.018899,
     "end_time": "2023-11-14T17:10:36.589145",
     "exception": false,
     "start_time": "2023-11-14T17:10:36.570246",
     "status": "completed"
    },
    "tags": []
   },
   "outputs": [
    {
     "data": {
      "text/html": [
       "<div>\n",
       "<style scoped>\n",
       "    .dataframe tbody tr th:only-of-type {\n",
       "        vertical-align: middle;\n",
       "    }\n",
       "\n",
       "    .dataframe tbody tr th {\n",
       "        vertical-align: top;\n",
       "    }\n",
       "\n",
       "    .dataframe thead th {\n",
       "        text-align: right;\n",
       "    }\n",
       "</style>\n",
       "<table border=\"1\" class=\"dataframe\">\n",
       "  <thead>\n",
       "    <tr style=\"text-align: right;\">\n",
       "      <th></th>\n",
       "      <th>Team</th>\n",
       "      <th>Subheat 1-1Details</th>\n",
       "      <th>Subheat 1-2Details</th>\n",
       "      <th>Subheat 1-3Details</th>\n",
       "      <th>Subheat 1-4Details</th>\n",
       "      <th>Subheat 1-5Details</th>\n",
       "      <th>Heat 1</th>\n",
       "      <th>Rank</th>\n",
       "      <th>Score</th>\n",
       "      <th>Team2</th>\n",
       "      <th>Mean</th>\n",
       "      <th>Min</th>\n",
       "      <th>Max</th>\n",
       "    </tr>\n",
       "  </thead>\n",
       "  <tbody>\n",
       "    <tr>\n",
       "      <th>0</th>\n",
       "      <td>SZEI - Baruch College - Team B</td>\n",
       "      <td>5</td>\n",
       "      <td>3</td>\n",
       "      <td>1</td>\n",
       "      <td>3</td>\n",
       "      <td>2.0</td>\n",
       "      <td>1.0</td>\n",
       "      <td>1.0</td>\n",
       "      <td>53.0</td>\n",
       "      <td>SZEI</td>\n",
       "      <td>2.8</td>\n",
       "      <td>1</td>\n",
       "      <td>5</td>\n",
       "    </tr>\n",
       "    <tr>\n",
       "      <th>1</th>\n",
       "      <td>IVPJ - Fairfield University - Team B</td>\n",
       "      <td>1</td>\n",
       "      <td>4</td>\n",
       "      <td>2</td>\n",
       "      <td>5</td>\n",
       "      <td>4.0</td>\n",
       "      <td>2.0</td>\n",
       "      <td>2.0</td>\n",
       "      <td>52.0</td>\n",
       "      <td>IVPJ</td>\n",
       "      <td>3.2</td>\n",
       "      <td>1</td>\n",
       "      <td>5</td>\n",
       "    </tr>\n",
       "    <tr>\n",
       "      <th>2</th>\n",
       "      <td>VCSG - Fairfield University - Team A</td>\n",
       "      <td>2</td>\n",
       "      <td>5</td>\n",
       "      <td>3</td>\n",
       "      <td>4</td>\n",
       "      <td>3.0</td>\n",
       "      <td>3.0</td>\n",
       "      <td>3.0</td>\n",
       "      <td>51.0</td>\n",
       "      <td>VCSG</td>\n",
       "      <td>3.4</td>\n",
       "      <td>2</td>\n",
       "      <td>5</td>\n",
       "    </tr>\n",
       "    <tr>\n",
       "      <th>3</th>\n",
       "      <td>DDIO - Baruch College - Team C</td>\n",
       "      <td>7</td>\n",
       "      <td>2</td>\n",
       "      <td>8</td>\n",
       "      <td>1</td>\n",
       "      <td>5.0</td>\n",
       "      <td>4.0</td>\n",
       "      <td>4.0</td>\n",
       "      <td>50.0</td>\n",
       "      <td>DDIO</td>\n",
       "      <td>4.6</td>\n",
       "      <td>1</td>\n",
       "      <td>8</td>\n",
       "    </tr>\n",
       "    <tr>\n",
       "      <th>4</th>\n",
       "      <td>OXLH - University of Lethbridge - Team A</td>\n",
       "      <td>4</td>\n",
       "      <td>12</td>\n",
       "      <td>4</td>\n",
       "      <td>2</td>\n",
       "      <td>8.0</td>\n",
       "      <td>5.0</td>\n",
       "      <td>5.0</td>\n",
       "      <td>49.0</td>\n",
       "      <td>OXLH</td>\n",
       "      <td>6.0</td>\n",
       "      <td>2</td>\n",
       "      <td>12</td>\n",
       "    </tr>\n",
       "    <tr>\n",
       "      <th>5</th>\n",
       "      <td>FQAR - University of Ottawa</td>\n",
       "      <td>9</td>\n",
       "      <td>6</td>\n",
       "      <td>14</td>\n",
       "      <td>6</td>\n",
       "      <td>7.0</td>\n",
       "      <td>6.0</td>\n",
       "      <td>6.0</td>\n",
       "      <td>48.0</td>\n",
       "      <td>FQAR</td>\n",
       "      <td>8.4</td>\n",
       "      <td>6</td>\n",
       "      <td>14</td>\n",
       "    </tr>\n",
       "    <tr>\n",
       "      <th>6</th>\n",
       "      <td>NCGQ - University of Calgary - Team B</td>\n",
       "      <td>12</td>\n",
       "      <td>8</td>\n",
       "      <td>6</td>\n",
       "      <td>9</td>\n",
       "      <td>12.0</td>\n",
       "      <td>7.0</td>\n",
       "      <td>7.0</td>\n",
       "      <td>47.0</td>\n",
       "      <td>NCGQ</td>\n",
       "      <td>9.4</td>\n",
       "      <td>6</td>\n",
       "      <td>12</td>\n",
       "    </tr>\n",
       "    <tr>\n",
       "      <th>7</th>\n",
       "      <td>VRYK - Baruch College - Team A</td>\n",
       "      <td>11</td>\n",
       "      <td>1</td>\n",
       "      <td>11</td>\n",
       "      <td>26</td>\n",
       "      <td>1.0</td>\n",
       "      <td>8.0</td>\n",
       "      <td>8.0</td>\n",
       "      <td>46.0</td>\n",
       "      <td>VRYK</td>\n",
       "      <td>10.0</td>\n",
       "      <td>1</td>\n",
       "      <td>26</td>\n",
       "    </tr>\n",
       "    <tr>\n",
       "      <th>8</th>\n",
       "      <td>PABQ - Concordia University</td>\n",
       "      <td>10</td>\n",
       "      <td>9</td>\n",
       "      <td>5</td>\n",
       "      <td>21</td>\n",
       "      <td>9.0</td>\n",
       "      <td>9.0</td>\n",
       "      <td>9.0</td>\n",
       "      <td>45.0</td>\n",
       "      <td>PABQ</td>\n",
       "      <td>10.8</td>\n",
       "      <td>5</td>\n",
       "      <td>21</td>\n",
       "    </tr>\n",
       "    <tr>\n",
       "      <th>9</th>\n",
       "      <td>OCFZ - University of Calgary - Team A</td>\n",
       "      <td>6</td>\n",
       "      <td>7</td>\n",
       "      <td>10</td>\n",
       "      <td>11</td>\n",
       "      <td>23.0</td>\n",
       "      <td>10.0</td>\n",
       "      <td>10.0</td>\n",
       "      <td>44.0</td>\n",
       "      <td>OCFZ</td>\n",
       "      <td>11.4</td>\n",
       "      <td>6</td>\n",
       "      <td>23.0</td>\n",
       "    </tr>\n",
       "  </tbody>\n",
       "</table>\n",
       "</div>"
      ],
      "text/plain": [
       "                                       Team Subheat 1-1Details  \\\n",
       "0            SZEI - Baruch College - Team B                  5   \n",
       "1      IVPJ - Fairfield University - Team B                  1   \n",
       "2      VCSG - Fairfield University - Team A                  2   \n",
       "3            DDIO - Baruch College - Team C                  7   \n",
       "4  OXLH - University of Lethbridge - Team A                  4   \n",
       "5               FQAR - University of Ottawa                  9   \n",
       "6     NCGQ - University of Calgary - Team B                 12   \n",
       "7            VRYK - Baruch College - Team A                 11   \n",
       "8               PABQ - Concordia University                 10   \n",
       "9     OCFZ - University of Calgary - Team A                  6   \n",
       "\n",
       "  Subheat 1-2Details Subheat 1-3Details Subheat 1-4Details  \\\n",
       "0                  3                  1                  3   \n",
       "1                  4                  2                  5   \n",
       "2                  5                  3                  4   \n",
       "3                  2                  8                  1   \n",
       "4                 12                  4                  2   \n",
       "5                  6                 14                  6   \n",
       "6                  8                  6                  9   \n",
       "7                  1                 11                 26   \n",
       "8                  9                  5                 21   \n",
       "9                  7                 10                 11   \n",
       "\n",
       "   Subheat 1-5Details  Heat 1  Rank  Score Team2  Mean Min   Max  \n",
       "0                 2.0     1.0   1.0   53.0  SZEI   2.8   1     5  \n",
       "1                 4.0     2.0   2.0   52.0  IVPJ   3.2   1     5  \n",
       "2                 3.0     3.0   3.0   51.0  VCSG   3.4   2     5  \n",
       "3                 5.0     4.0   4.0   50.0  DDIO   4.6   1     8  \n",
       "4                 8.0     5.0   5.0   49.0  OXLH   6.0   2    12  \n",
       "5                 7.0     6.0   6.0   48.0  FQAR   8.4   6    14  \n",
       "6                12.0     7.0   7.0   47.0  NCGQ   9.4   6    12  \n",
       "7                 1.0     8.0   8.0   46.0  VRYK  10.0   1    26  \n",
       "8                 9.0     9.0   9.0   45.0  PABQ  10.8   5    21  \n",
       "9                23.0    10.0  10.0   44.0  OCFZ  11.4   6  23.0  "
      ]
     },
     "execution_count": 10,
     "metadata": {},
     "output_type": "execute_result"
    }
   ],
   "source": [
    "DF_ALL.head(10)"
   ]
  },
  {
   "cell_type": "code",
   "execution_count": 11,
   "id": "71794021-a7b0-48f8-aa05-117ae58411e3",
   "metadata": {
    "execution": {
     "iopub.execute_input": "2023-11-14T17:10:36.601502Z",
     "iopub.status.busy": "2023-11-14T17:10:36.601327Z",
     "iopub.status.idle": "2023-11-14T17:10:36.604480Z",
     "shell.execute_reply": "2023-11-14T17:10:36.604048Z"
    },
    "papermill": {
     "duration": 0.010893,
     "end_time": "2023-11-14T17:10:36.605857",
     "exception": false,
     "start_time": "2023-11-14T17:10:36.594964",
     "status": "completed"
    },
    "tags": []
   },
   "outputs": [
    {
     "data": {
      "text/markdown": [
       "<font size = 4> This plot presents for each team the important statistics for the <b>Matlab_Volatility_Trading_Case</b></font>"
      ],
      "text/plain": [
       "<IPython.core.display.Markdown object>"
      ]
     },
     "execution_count": 11,
     "metadata": {},
     "output_type": "execute_result"
    }
   ],
   "source": [
    "md(f\"<font size = 4> This plot presents for each team the important statistics for the <b>{case_name}</b></font>\")  "
   ]
  },
  {
   "cell_type": "code",
   "execution_count": 12,
   "id": "6fda9c0e-38b9-41a2-b26b-0766259c5d34",
   "metadata": {
    "execution": {
     "iopub.execute_input": "2023-11-14T17:10:36.618738Z",
     "iopub.status.busy": "2023-11-14T17:10:36.618451Z",
     "iopub.status.idle": "2023-11-14T17:10:36.621465Z",
     "shell.execute_reply": "2023-11-14T17:10:36.621112Z"
    },
    "papermill": {
     "duration": 0.010817,
     "end_time": "2023-11-14T17:10:36.622723",
     "exception": false,
     "start_time": "2023-11-14T17:10:36.611906",
     "status": "completed"
    },
    "tags": []
   },
   "outputs": [
    {
     "data": {
      "text/markdown": [
       "<font size = 3> <b>Red Dot</b> - Final Rank of the Team</font>"
      ],
      "text/plain": [
       "<IPython.core.display.Markdown object>"
      ]
     },
     "execution_count": 12,
     "metadata": {},
     "output_type": "execute_result"
    }
   ],
   "source": [
    "md(f\"<font size = 3> <b>Red Dot</b> - Final Rank of the Team</font>\")  "
   ]
  },
  {
   "cell_type": "code",
   "execution_count": 13,
   "id": "ddbec11e-bbb4-4640-88cc-bf2ca33a8a09",
   "metadata": {
    "execution": {
     "iopub.execute_input": "2023-11-14T17:10:36.635419Z",
     "iopub.status.busy": "2023-11-14T17:10:36.635254Z",
     "iopub.status.idle": "2023-11-14T17:10:36.638212Z",
     "shell.execute_reply": "2023-11-14T17:10:36.637805Z"
    },
    "papermill": {
     "duration": 0.010507,
     "end_time": "2023-11-14T17:10:36.639391",
     "exception": false,
     "start_time": "2023-11-14T17:10:36.628884",
     "status": "completed"
    },
    "tags": []
   },
   "outputs": [
    {
     "data": {
      "text/markdown": [
       "<font size = 3> <b>Blue Dot</b> -  Mean of the ranks based on all Subheats</font>"
      ],
      "text/plain": [
       "<IPython.core.display.Markdown object>"
      ]
     },
     "execution_count": 13,
     "metadata": {},
     "output_type": "execute_result"
    }
   ],
   "source": [
    "md(f\"<font size = 3> <b>Blue Dot</b> -  Mean of the ranks based on all Subheats</font>\")  "
   ]
  },
  {
   "cell_type": "code",
   "execution_count": 14,
   "id": "a89eae9f-4141-4b91-b19b-922d59e418f4",
   "metadata": {
    "execution": {
     "iopub.execute_input": "2023-11-14T17:10:36.652849Z",
     "iopub.status.busy": "2023-11-14T17:10:36.652640Z",
     "iopub.status.idle": "2023-11-14T17:10:36.655787Z",
     "shell.execute_reply": "2023-11-14T17:10:36.655442Z"
    },
    "papermill": {
     "duration": 0.011292,
     "end_time": "2023-11-14T17:10:36.657063",
     "exception": false,
     "start_time": "2023-11-14T17:10:36.645771",
     "status": "completed"
    },
    "tags": []
   },
   "outputs": [
    {
     "data": {
      "text/markdown": [
       "<font size = 3> <b>Green shaded area</b> -  the range between the minimum and the maximum rank taken based on all Subheats</font>"
      ],
      "text/plain": [
       "<IPython.core.display.Markdown object>"
      ]
     },
     "execution_count": 14,
     "metadata": {},
     "output_type": "execute_result"
    }
   ],
   "source": [
    "md(f\"<font size = 3> <b>Green shaded area</b> -  the range between the minimum and the maximum rank taken based on all Subheats</font>\")  "
   ]
  },
  {
   "cell_type": "code",
   "execution_count": 15,
   "id": "5fb9a3c0-0dd6-4bf1-b9a3-28199278186a",
   "metadata": {
    "execution": {
     "iopub.execute_input": "2023-11-14T17:10:36.670495Z",
     "iopub.status.busy": "2023-11-14T17:10:36.670310Z",
     "iopub.status.idle": "2023-11-14T17:10:37.122965Z",
     "shell.execute_reply": "2023-11-14T17:10:37.122557Z"
    },
    "papermill": {
     "duration": 0.461232,
     "end_time": "2023-11-14T17:10:37.124790",
     "exception": false,
     "start_time": "2023-11-14T17:10:36.663558",
     "status": "completed"
    },
    "tags": []
   },
   "outputs": [
    {
     "data": {
      "image/png": "[encoded data removed]",
      "text/plain": [
       "<Figure size 800x1600 with 1 Axes>"
      ]
     },
     "metadata": {},
     "output_type": "display_data"
    }
   ],
   "source": [
    "fig = plt.figure(figsize=(8, 16))\n",
    "ax = fig.add_subplot(111)\n",
    "\n",
    "ax.plot(\n",
    "    DF_ALL.loc[:,\"Rank\"],\n",
    "    DF_ALL.loc[:,\"Team2\"],\n",
    "    marker = \"o\",\n",
    "    linestyle=\"\",\n",
    "    color = \"maroon\")\n",
    "\n",
    "ax.plot(\n",
    "    DF_ALL.loc[:,\"Mean\"],\n",
    "    DF_ALL.loc[:,\"Team2\"],\n",
    "    marker = \"o\",\n",
    "    linestyle=\"\",\n",
    "    color = \"blue\")\n",
    "\n",
    "ax.barh(\n",
    "    DF_ALL.loc[:,\"Team2\"],\n",
    "    DF_ALL.loc[:,\"Min\"],\n",
    "    align='center',\n",
    "    height=.25,\n",
    "    color='white',\n",
    "    label='min')\n",
    "\n",
    "ax.barh(DF_ALL.loc[:,\"Team2\"],\n",
    "        DF_ALL.loc[:,\"Max\"]-DF_ALL.loc[:,\"Min\"],\n",
    "        align='center', \n",
    "        height=.25,\n",
    "        left=DF_ALL.loc[:,\"Min\"],\n",
    "        color='green',\n",
    "        label='max')\n",
    "\n",
    "ax.set_yticks(DF_ALL.loc[:,\"Team2\"])\n",
    "\n",
    "ax.grid(True)\n",
    "plt.title(f\"Summary Of All Teams For the {case_name}\")\n",
    "\n",
    "plt.xlabel('Rank')\n",
    "plt.ylabel('Team Code')\n",
    "\n",
    "plt.tight_layout()\n",
    "plt.show()"
   ]
  },
  {
   "cell_type": "markdown",
   "id": "4f91802e-4cc0-41ae-bc2b-b4ca1c27df75",
   "metadata": {
    "papermill": {
     "duration": 0.006856,
     "end_time": "2023-11-14T17:10:37.139194",
     "exception": false,
     "start_time": "2023-11-14T17:10:37.132338",
     "status": "completed"
    },
    "tags": []
   },
   "source": [
    "### Import Each Heat "
   ]
  },
  {
   "cell_type": "code",
   "execution_count": 16,
   "id": "622006db-a7c8-4d5c-b8bd-082d15d2f05e",
   "metadata": {
    "execution": {
     "iopub.execute_input": "2023-11-14T17:10:37.155175Z",
     "iopub.status.busy": "2023-11-14T17:10:37.154835Z",
     "iopub.status.idle": "2023-11-14T17:10:37.158280Z",
     "shell.execute_reply": "2023-11-14T17:10:37.157896Z"
    },
    "papermill": {
     "duration": 0.013304,
     "end_time": "2023-11-14T17:10:37.159682",
     "exception": false,
     "start_time": "2023-11-14T17:10:37.146378",
     "status": "completed"
    },
    "tags": []
   },
   "outputs": [
    {
     "data": {
      "text/markdown": [
       "<font size = 4> Now we are going to import the data for each Subheat of the <b>Matlab_Volatility_Trading_Case</b>. That data presents the Net Liquidation Value (NLV) for each time. For reference, we know that we have <b>5</b> heats in this case.</font>"
      ],
      "text/plain": [
       "<IPython.core.display.Markdown object>"
      ]
     },
     "execution_count": 16,
     "metadata": {},
     "output_type": "execute_result"
    }
   ],
   "source": [
    "md(f\"<font size = 4> Now we are going to import the data for each Subheat of the <b>{case_name}</b>. That data presents the Net Liquidation Value (NLV) for each time. For reference, we know that we have <b>{len(cols)}</b> heats in this case.</font>\")  "
   ]
  },
  {
   "cell_type": "code",
   "execution_count": 17,
   "id": "7f290031-b90e-41da-bb22-c691951098ca",
   "metadata": {
    "execution": {
     "iopub.execute_input": "2023-11-14T17:10:37.174870Z",
     "iopub.status.busy": "2023-11-14T17:10:37.174672Z",
     "iopub.status.idle": "2023-11-14T17:10:37.177728Z",
     "shell.execute_reply": "2023-11-14T17:10:37.177303Z"
    },
    "papermill": {
     "duration": 0.01183,
     "end_time": "2023-11-14T17:10:37.178897",
     "exception": false,
     "start_time": "2023-11-14T17:10:37.167067",
     "status": "completed"
    },
    "tags": []
   },
   "outputs": [
    {
     "data": {
      "text/markdown": [
       "<font size = 3> <b> Net Liquidation Value (NLV) </b> - Indicated the value of the security if the current position is closed immediately at the best bid (for Long Positions) or best ask (for Short Positions).</font>"
      ],
      "text/plain": [
       "<IPython.core.display.Markdown object>"
      ]
     },
     "execution_count": 17,
     "metadata": {},
     "output_type": "execute_result"
    }
   ],
   "source": [
    "md(f\"<font size = 3> <b> Net Liquidation Value (NLV) </b> - Indicated the value of the security if the current position is closed immediately at the best bid (for Long Positions) or best ask (for Short Positions).</font>\")  "
   ]
  },
  {
   "cell_type": "code",
   "execution_count": 18,
   "id": "ab10d3a4-a053-4ede-81a8-52761149dd2d",
   "metadata": {
    "execution": {
     "iopub.execute_input": "2023-11-14T17:10:37.193814Z",
     "iopub.status.busy": "2023-11-14T17:10:37.193648Z",
     "iopub.status.idle": "2023-11-14T17:10:38.393233Z",
     "shell.execute_reply": "2023-11-14T17:10:38.392769Z"
    },
    "papermill": {
     "duration": 1.208644,
     "end_time": "2023-11-14T17:10:38.394702",
     "exception": false,
     "start_time": "2023-11-14T17:10:37.186058",
     "status": "completed"
    },
    "tags": []
   },
   "outputs": [],
   "source": [
    "# import each heat to get NLV for each team and concatenate each DataFrame\n",
    "for i in subheats_list:\n",
    "    if i == subheats_list[0]:\n",
    "        DF_SUBHEATS = pd.read_excel(f\"{file_name}.xlsx\", sheet_name=i)\n",
    "        DF_SUBHEATS.columns = DF_SUBHEATS.loc[0,:]\n",
    "        DF_SUBHEATS = DF_SUBHEATS.loc[1:,:]\n",
    "        DF_SUBHEATS.loc[:,\"Heat\"] = i\n",
    "    else:\n",
    "        DF_SUBHEATS_W = pd.read_excel(f\"{file_name}.xlsx\", sheet_name=i)\n",
    "        \n",
    "        DF_SUBHEATS_W.columns = DF_SUBHEATS_W.loc[0,:]\n",
    "        DF_SUBHEATS_W = DF_SUBHEATS_W.loc[1:,:]\n",
    "        \n",
    "        DF_SUBHEATS_W.loc[:,\"Heat\"] = i\n",
    "        DF_SUBHEATS = pd.concat([DF_SUBHEATS,DF_SUBHEATS_W])\n",
    "\n",
    "# DF_SUBHEATS.columns = DF_SUBHEATS.columns.fillna('to_drop')\n",
    "# DF_SUBHEATS = DF_SUBHEATS.drop(['Comment', 'Adjustment', 'to_drop'], axis=1)\n",
    "\n",
    "DF_SUBHEATS.loc[:,'NLV'] = DF_SUBHEATS.loc[:,'NLV'].astype('float')\n",
    "DF_SUBHEATS.loc[:,\"Team2\"] = DF_SUBHEATS.loc[:,\"Team\"].str[0:4]"
   ]
  },
  {
   "cell_type": "code",
   "execution_count": 19,
   "id": "4dadc67a-9379-4c4a-af69-e58d6afb43cc",
   "metadata": {
    "execution": {
     "iopub.execute_input": "2023-11-14T17:10:38.410385Z",
     "iopub.status.busy": "2023-11-14T17:10:38.410060Z",
     "iopub.status.idle": "2023-11-14T17:10:38.413203Z",
     "shell.execute_reply": "2023-11-14T17:10:38.412845Z"
    },
    "papermill": {
     "duration": 0.012157,
     "end_time": "2023-11-14T17:10:38.414461",
     "exception": false,
     "start_time": "2023-11-14T17:10:38.402304",
     "status": "completed"
    },
    "tags": []
   },
   "outputs": [
    {
     "data": {
      "text/markdown": [
       "<font size = 4> For reference, check out the first 10 rows:</font>"
      ],
      "text/plain": [
       "<IPython.core.display.Markdown object>"
      ]
     },
     "execution_count": 19,
     "metadata": {},
     "output_type": "execute_result"
    }
   ],
   "source": [
    "md(f\"<font size = 4> For reference, check out the first 10 rows:</font>\")  "
   ]
  },
  {
   "cell_type": "code",
   "execution_count": 20,
   "id": "3446cc40-088e-460a-b3fe-1507e1788913",
   "metadata": {
    "execution": {
     "iopub.execute_input": "2023-11-14T17:10:38.430388Z",
     "iopub.status.busy": "2023-11-14T17:10:38.430174Z",
     "iopub.status.idle": "2023-11-14T17:10:38.436851Z",
     "shell.execute_reply": "2023-11-14T17:10:38.436512Z"
    },
    "papermill": {
     "duration": 0.016277,
     "end_time": "2023-11-14T17:10:38.438216",
     "exception": false,
     "start_time": "2023-11-14T17:10:38.421939",
     "status": "completed"
    },
    "tags": []
   },
   "outputs": [
    {
     "data": {
      "text/html": [
       "<div>\n",
       "<style scoped>\n",
       "    .dataframe tbody tr th:only-of-type {\n",
       "        vertical-align: middle;\n",
       "    }\n",
       "\n",
       "    .dataframe tbody tr th {\n",
       "        vertical-align: top;\n",
       "    }\n",
       "\n",
       "    .dataframe thead th {\n",
       "        text-align: right;\n",
       "    }\n",
       "</style>\n",
       "<table border=\"1\" class=\"dataframe\">\n",
       "  <thead>\n",
       "    <tr style=\"text-align: right;\">\n",
       "      <th></th>\n",
       "      <th>Team</th>\n",
       "      <th>User</th>\n",
       "      <th>NLV</th>\n",
       "      <th>Adjustment</th>\n",
       "      <th>Comment</th>\n",
       "      <th>Heat</th>\n",
       "      <th>Team2</th>\n",
       "    </tr>\n",
       "  </thead>\n",
       "  <tbody>\n",
       "    <tr>\n",
       "      <th>1</th>\n",
       "      <td>BYSI - University College Dublin - Team B</td>\n",
       "      <td>4</td>\n",
       "      <td>-16804.400391</td>\n",
       "      <td>0</td>\n",
       "      <td>NaN</td>\n",
       "      <td>MVT-1</td>\n",
       "      <td>BYSI</td>\n",
       "    </tr>\n",
       "    <tr>\n",
       "      <th>2</th>\n",
       "      <td>BYSI - University College Dublin - Team B</td>\n",
       "      <td>2</td>\n",
       "      <td>-40527.589844</td>\n",
       "      <td>0</td>\n",
       "      <td>NaN</td>\n",
       "      <td>MVT-1</td>\n",
       "      <td>BYSI</td>\n",
       "    </tr>\n",
       "    <tr>\n",
       "      <th>3</th>\n",
       "      <td>CFTF - University of Sydney</td>\n",
       "      <td>2</td>\n",
       "      <td>34628.839844</td>\n",
       "      <td>0</td>\n",
       "      <td>NaN</td>\n",
       "      <td>MVT-1</td>\n",
       "      <td>CFTF</td>\n",
       "    </tr>\n",
       "    <tr>\n",
       "      <th>4</th>\n",
       "      <td>CFTF - University of Sydney</td>\n",
       "      <td>3</td>\n",
       "      <td>-16371.639648</td>\n",
       "      <td>0</td>\n",
       "      <td>NaN</td>\n",
       "      <td>MVT-1</td>\n",
       "      <td>CFTF</td>\n",
       "    </tr>\n",
       "    <tr>\n",
       "      <th>5</th>\n",
       "      <td>DDIO - Baruch College - Team C</td>\n",
       "      <td>1</td>\n",
       "      <td>187599.859375</td>\n",
       "      <td>0</td>\n",
       "      <td>NaN</td>\n",
       "      <td>MVT-1</td>\n",
       "      <td>DDIO</td>\n",
       "    </tr>\n",
       "    <tr>\n",
       "      <th>6</th>\n",
       "      <td>DDIO - Baruch College - Team C</td>\n",
       "      <td>3</td>\n",
       "      <td>53738.378906</td>\n",
       "      <td>0</td>\n",
       "      <td>NaN</td>\n",
       "      <td>MVT-1</td>\n",
       "      <td>DDIO</td>\n",
       "    </tr>\n",
       "    <tr>\n",
       "      <th>7</th>\n",
       "      <td>DQRB - Carnegie Mellon University</td>\n",
       "      <td>4</td>\n",
       "      <td>0.0</td>\n",
       "      <td>0</td>\n",
       "      <td>NaN</td>\n",
       "      <td>MVT-1</td>\n",
       "      <td>DQRB</td>\n",
       "    </tr>\n",
       "    <tr>\n",
       "      <th>8</th>\n",
       "      <td>DQRB - Carnegie Mellon University</td>\n",
       "      <td>1</td>\n",
       "      <td>-187242.453125</td>\n",
       "      <td>0</td>\n",
       "      <td>NaN</td>\n",
       "      <td>MVT-1</td>\n",
       "      <td>DQRB</td>\n",
       "    </tr>\n",
       "    <tr>\n",
       "      <th>9</th>\n",
       "      <td>EJYY - Charles University, Institute of Econom...</td>\n",
       "      <td>1</td>\n",
       "      <td>2915.51001</td>\n",
       "      <td>0</td>\n",
       "      <td>NaN</td>\n",
       "      <td>MVT-1</td>\n",
       "      <td>EJYY</td>\n",
       "    </tr>\n",
       "    <tr>\n",
       "      <th>10</th>\n",
       "      <td>EJYY - Charles University, Institute of Econom...</td>\n",
       "      <td>2</td>\n",
       "      <td>-1035970.375</td>\n",
       "      <td>0</td>\n",
       "      <td>NaN</td>\n",
       "      <td>MVT-1</td>\n",
       "      <td>EJYY</td>\n",
       "    </tr>\n",
       "  </tbody>\n",
       "</table>\n",
       "</div>"
      ],
      "text/plain": [
       "0                                                Team User            NLV  \\\n",
       "1           BYSI - University College Dublin - Team B    4  -16804.400391   \n",
       "2           BYSI - University College Dublin - Team B    2  -40527.589844   \n",
       "3                         CFTF - University of Sydney    2   34628.839844   \n",
       "4                         CFTF - University of Sydney    3  -16371.639648   \n",
       "5                      DDIO - Baruch College - Team C    1  187599.859375   \n",
       "6                      DDIO - Baruch College - Team C    3   53738.378906   \n",
       "7                   DQRB - Carnegie Mellon University    4            0.0   \n",
       "8                   DQRB - Carnegie Mellon University    1 -187242.453125   \n",
       "9   EJYY - Charles University, Institute of Econom...    1     2915.51001   \n",
       "10  EJYY - Charles University, Institute of Econom...    2   -1035970.375   \n",
       "\n",
       "0  Adjustment Comment   Heat Team2  \n",
       "1           0     NaN  MVT-1  BYSI  \n",
       "2           0     NaN  MVT-1  BYSI  \n",
       "3           0     NaN  MVT-1  CFTF  \n",
       "4           0     NaN  MVT-1  CFTF  \n",
       "5           0     NaN  MVT-1  DDIO  \n",
       "6           0     NaN  MVT-1  DDIO  \n",
       "7           0     NaN  MVT-1  DQRB  \n",
       "8           0     NaN  MVT-1  DQRB  \n",
       "9           0     NaN  MVT-1  EJYY  \n",
       "10          0     NaN  MVT-1  EJYY  "
      ]
     },
     "execution_count": 20,
     "metadata": {},
     "output_type": "execute_result"
    }
   ],
   "source": [
    "DF_SUBHEATS.head(10)"
   ]
  },
  {
   "cell_type": "code",
   "execution_count": 21,
   "id": "3217f864-c881-450c-adbf-a7e45e354647",
   "metadata": {
    "execution": {
     "iopub.execute_input": "2023-11-14T17:10:38.454275Z",
     "iopub.status.busy": "2023-11-14T17:10:38.453974Z",
     "iopub.status.idle": "2023-11-14T17:10:38.462718Z",
     "shell.execute_reply": "2023-11-14T17:10:38.462328Z"
    },
    "papermill": {
     "duration": 0.017978,
     "end_time": "2023-11-14T17:10:38.463918",
     "exception": false,
     "start_time": "2023-11-14T17:10:38.445940",
     "status": "completed"
    },
    "tags": []
   },
   "outputs": [
    {
     "data": {
      "text/markdown": [
       "<font size = 4> In order to check if the data has been imported correctly we can do this in the folowing way: We know that we have 2 Users and 5 Heats and we have 53 teams so multiplying them gives us 530 which is the same as the number of rows in our dataframe = 530. </font>"
      ],
      "text/plain": [
       "<IPython.core.display.Markdown object>"
      ]
     },
     "execution_count": 21,
     "metadata": {},
     "output_type": "execute_result"
    }
   ],
   "source": [
    "import warnings\n",
    "warnings.filterwarnings(\"ignore\", category=FutureWarning) \n",
    "\n",
    "md(f\"<font size = 4> In order to check if the data has been imported correctly we can do this in the folowing way: We know that we have {DF_SUBHEATS.loc[DF_SUBHEATS['Heat']==subheats_list[0], ['Team']].value_counts()[1]} Users and {len(np.unique(DF_SUBHEATS['Heat']))} Heats and we have {len(np.unique(DF_SUBHEATS['Team']))} teams so multiplying them gives us {DF_SUBHEATS.loc[DF_SUBHEATS['Heat']==subheats_list[0], ['Team']].value_counts()[1]*len(np.unique(DF_SUBHEATS['Heat']))*len(np.unique(DF_SUBHEATS['Team']))} which is the same as the number of rows in our dataframe = {len(DF_SUBHEATS)}. </font>\")  "
   ]
  },
  {
   "cell_type": "code",
   "execution_count": 22,
   "id": "29262c75-5a12-4cf2-bd66-a7754fa0e15b",
   "metadata": {
    "execution": {
     "iopub.execute_input": "2023-11-14T17:10:38.479831Z",
     "iopub.status.busy": "2023-11-14T17:10:38.479651Z",
     "iopub.status.idle": "2023-11-14T17:10:38.748486Z",
     "shell.execute_reply": "2023-11-14T17:10:38.747947Z"
    },
    "papermill": {
     "duration": 0.278451,
     "end_time": "2023-11-14T17:10:38.750047",
     "exception": false,
     "start_time": "2023-11-14T17:10:38.471596",
     "status": "completed"
    },
    "tags": []
   },
   "outputs": [],
   "source": [
    "DF_ALL_CASES = pd.read_excel(f'{file_name}.xlsx', sheet_name=\"finalrank\")\n",
    "best_teams = DF_ALL_CASES.loc[0:5,\"Team\"]"
   ]
  },
  {
   "cell_type": "code",
   "execution_count": 23,
   "id": "2f63fcde-06d0-4948-ad1a-03da024ad112",
   "metadata": {
    "execution": {
     "iopub.execute_input": "2023-11-14T17:10:38.766446Z",
     "iopub.status.busy": "2023-11-14T17:10:38.766249Z",
     "iopub.status.idle": "2023-11-14T17:10:38.769678Z",
     "shell.execute_reply": "2023-11-14T17:10:38.769208Z"
    },
    "papermill": {
     "duration": 0.012923,
     "end_time": "2023-11-14T17:10:38.770950",
     "exception": false,
     "start_time": "2023-11-14T17:10:38.758027",
     "status": "completed"
    },
    "tags": []
   },
   "outputs": [
    {
     "data": {
      "text/markdown": [
       "<font size = 4> Based on the data from all cases, the six top rank teams are:</font>"
      ],
      "text/plain": [
       "<IPython.core.display.Markdown object>"
      ]
     },
     "execution_count": 23,
     "metadata": {},
     "output_type": "execute_result"
    }
   ],
   "source": [
    "md(f\"<font size = 4> Based on the data from all cases, the six top rank teams are:</font>\")  "
   ]
  },
  {
   "cell_type": "code",
   "execution_count": 24,
   "id": "a203c57d-8698-474f-aefa-5f1bfbbb67c9",
   "metadata": {
    "execution": {
     "iopub.execute_input": "2023-11-14T17:10:38.787870Z",
     "iopub.status.busy": "2023-11-14T17:10:38.787557Z",
     "iopub.status.idle": "2023-11-14T17:10:38.793164Z",
     "shell.execute_reply": "2023-11-14T17:10:38.792788Z"
    },
    "papermill": {
     "duration": 0.015516,
     "end_time": "2023-11-14T17:10:38.794391",
     "exception": false,
     "start_time": "2023-11-14T17:10:38.778875",
     "status": "completed"
    },
    "tags": []
   },
   "outputs": [
    {
     "data": {
      "text/html": [
       "<div>\n",
       "<style scoped>\n",
       "    .dataframe tbody tr th:only-of-type {\n",
       "        vertical-align: middle;\n",
       "    }\n",
       "\n",
       "    .dataframe tbody tr th {\n",
       "        vertical-align: top;\n",
       "    }\n",
       "\n",
       "    .dataframe thead th {\n",
       "        text-align: right;\n",
       "    }\n",
       "</style>\n",
       "<table border=\"1\" class=\"dataframe\">\n",
       "  <thead>\n",
       "    <tr style=\"text-align: right;\">\n",
       "      <th></th>\n",
       "      <th>Team Names</th>\n",
       "      <th>Team Codes</th>\n",
       "    </tr>\n",
       "  </thead>\n",
       "  <tbody>\n",
       "    <tr>\n",
       "      <th>0</th>\n",
       "      <td>SZEI - Baruch College - Team B</td>\n",
       "      <td>SZEI</td>\n",
       "    </tr>\n",
       "    <tr>\n",
       "      <th>1</th>\n",
       "      <td>DDIO - Baruch College - Team C</td>\n",
       "      <td>DDIO</td>\n",
       "    </tr>\n",
       "    <tr>\n",
       "      <th>2</th>\n",
       "      <td>FQAR - University of Ottawa</td>\n",
       "      <td>FQAR</td>\n",
       "    </tr>\n",
       "    <tr>\n",
       "      <th>3</th>\n",
       "      <td>VRYK - Baruch College - Team A</td>\n",
       "      <td>VRYK</td>\n",
       "    </tr>\n",
       "    <tr>\n",
       "      <th>4</th>\n",
       "      <td>NCGQ - University of Calgary - Team B</td>\n",
       "      <td>NCGQ</td>\n",
       "    </tr>\n",
       "    <tr>\n",
       "      <th>5</th>\n",
       "      <td>RZQO - University of Warsaw, Faculty of Econom...</td>\n",
       "      <td>RZQO</td>\n",
       "    </tr>\n",
       "  </tbody>\n",
       "</table>\n",
       "</div>"
      ],
      "text/plain": [
       "                                          Team Names Team Codes\n",
       "0                     SZEI - Baruch College - Team B       SZEI\n",
       "1                     DDIO - Baruch College - Team C       DDIO\n",
       "2                        FQAR - University of Ottawa       FQAR\n",
       "3                     VRYK - Baruch College - Team A       VRYK\n",
       "4              NCGQ - University of Calgary - Team B       NCGQ\n",
       "5  RZQO - University of Warsaw, Faculty of Econom...       RZQO"
      ]
     },
     "execution_count": 24,
     "metadata": {},
     "output_type": "execute_result"
    }
   ],
   "source": [
    "DF_BEST_TEAMS = pd.DataFrame(data={\n",
    "    'Team Names': best_teams,\n",
    "    'Team Codes': best_teams.str[0:4]\n",
    "})\n",
    "\n",
    "DF_BEST_TEAMS"
   ]
  },
  {
   "cell_type": "code",
   "execution_count": 25,
   "id": "98971950-62f9-4b60-b78d-00eaed5f3ce1",
   "metadata": {
    "execution": {
     "iopub.execute_input": "2023-11-14T17:10:38.811744Z",
     "iopub.status.busy": "2023-11-14T17:10:38.811522Z",
     "iopub.status.idle": "2023-11-14T17:10:38.814899Z",
     "shell.execute_reply": "2023-11-14T17:10:38.814423Z"
    },
    "papermill": {
     "duration": 0.013715,
     "end_time": "2023-11-14T17:10:38.816132",
     "exception": false,
     "start_time": "2023-11-14T17:10:38.802417",
     "status": "completed"
    },
    "scrolled": true,
    "tags": []
   },
   "outputs": [
    {
     "data": {
      "text/markdown": [
       "<font size = 4> The plot below shows the average NLV based on each heat for each user for the best 6 teams. We have the folowing users:</font><br><font size = 3> <b>User 1</b> </font><br><font size = 3> <b>User 2</b></font><br><font size = 3> <b>User 3</b></font><br><font size = 3> <b>User 4</b></font><br>"
      ],
      "text/plain": [
       "<IPython.core.display.Markdown object>"
      ]
     },
     "execution_count": 25,
     "metadata": {},
     "output_type": "execute_result"
    }
   ],
   "source": [
    "md(f\"<font size = 4> The plot below shows the average NLV based on each heat for each user for the best 6 teams. We have the folowing users:</font><br>\"\n",
    "    f\"<font size = 3> <b>User 1</b> </font><br>\"\n",
    "    f\"<font size = 3> <b>User 2</b></font><br>\"\n",
    "    f\"<font size = 3> <b>User 3</b></font><br>\"\n",
    "    f\"<font size = 3> <b>User 4</b></font><br>\"\n",
    "  )  "
   ]
  },
  {
   "cell_type": "code",
   "execution_count": 26,
   "id": "dd1973b7",
   "metadata": {
    "execution": {
     "iopub.execute_input": "2023-11-14T17:10:38.834824Z",
     "iopub.status.busy": "2023-11-14T17:10:38.834656Z",
     "iopub.status.idle": "2023-11-14T17:10:38.839683Z",
     "shell.execute_reply": "2023-11-14T17:10:38.839328Z"
    },
    "papermill": {
     "duration": 0.015642,
     "end_time": "2023-11-14T17:10:38.840832",
     "exception": false,
     "start_time": "2023-11-14T17:10:38.825190",
     "status": "completed"
    },
    "tags": []
   },
   "outputs": [
    {
     "data": {
      "text/markdown": [
       "<font size = 4>However, in each team 2 members participate.</font>"
      ],
      "text/plain": [
       "<IPython.core.display.Markdown object>"
      ]
     },
     "execution_count": 26,
     "metadata": {},
     "output_type": "execute_result"
    }
   ],
   "source": [
    "md(f\"<font size = 4>However, in each team {DF_SUBHEATS.loc[DF_SUBHEATS['Heat']==subheats_list[0], ['Team']].value_counts()[1]} members participate.</font>\")  "
   ]
  },
  {
   "cell_type": "code",
   "execution_count": 27,
   "id": "f495d6d5-e1a7-4e06-ab6d-3daf7e7ea378",
   "metadata": {
    "execution": {
     "iopub.execute_input": "2023-11-14T17:10:38.857609Z",
     "iopub.status.busy": "2023-11-14T17:10:38.857428Z",
     "iopub.status.idle": "2023-11-14T17:10:39.046896Z",
     "shell.execute_reply": "2023-11-14T17:10:39.046474Z"
    },
    "papermill": {
     "duration": 0.19934,
     "end_time": "2023-11-14T17:10:39.048336",
     "exception": false,
     "start_time": "2023-11-14T17:10:38.848996",
     "status": "completed"
    },
    "tags": []
   },
   "outputs": [
    {
     "data": {
      "text/plain": [
       "<Figure size 500x1000 with 0 Axes>"
      ]
     },
     "metadata": {},
     "output_type": "display_data"
    },
    {
     "data": {
      "image/png": "[encoded data removed]",
      "text/plain": [
       "<Figure size 500x1000 with 1 Axes>"
      ]
     },
     "metadata": {},
     "output_type": "display_data"
    }
   ],
   "source": [
    "DF_SUBHEATS = DF_SUBHEATS.reset_index(drop=True) # can change that\n",
    "\n",
    "DF_SUBHEATS['User'] = np.where(DF_SUBHEATS['User']==4, 'User 4', DF_SUBHEATS['User'])\n",
    "DF_SUBHEATS['User'] = np.where(DF_SUBHEATS['User']==3, 'User 3', DF_SUBHEATS['User'])\n",
    "DF_SUBHEATS['User'] = np.where(DF_SUBHEATS['User']==2, 'User 2', DF_SUBHEATS['User'])\n",
    "DF_SUBHEATS['User'] = np.where(DF_SUBHEATS['User']==1, 'User 1', DF_SUBHEATS['User'])\n",
    "\n",
    "plt.figure(figsize=(5, 10))\n",
    "\n",
    "x1, x1.columns = df_User(DF_SUBHEATS,'User 1')\n",
    "x2, x2.columns = df_User(DF_SUBHEATS,'User 2')\n",
    "x3, x3.columns = df_User(DF_SUBHEATS,'User 3')\n",
    "x4, x4.columns = df_User(DF_SUBHEATS,'User 4')\n",
    "\n",
    "data = pd.concat([x1, x2, x3, x4])\n",
    "data = data.T\n",
    "data.columns = ['User 1', 'User 2', 'User 3', 'User 4',]\n",
    "\n",
    "data.loc[best_teams.str[0:4],:].plot.barh(figsize=(5,10))\n",
    "\n",
    "plt.grid(True)\n",
    "plt.title(\"Average NLP for the 6 best teams\")\n",
    "\n",
    "plt.xlabel('Average NLV')\n",
    "plt.ylabel('Team Code')\n",
    "\n",
    "plt.tight_layout()\n",
    "plt.show()"
   ]
  },
  {
   "cell_type": "code",
   "execution_count": 28,
   "id": "8c8e6cd1-2638-446f-a155-0539592bc3a4",
   "metadata": {
    "execution": {
     "iopub.execute_input": "2023-11-14T17:10:39.066502Z",
     "iopub.status.busy": "2023-11-14T17:10:39.066309Z",
     "iopub.status.idle": "2023-11-14T17:10:39.069735Z",
     "shell.execute_reply": "2023-11-14T17:10:39.069273Z"
    },
    "papermill": {
     "duration": 0.013866,
     "end_time": "2023-11-14T17:10:39.071035",
     "exception": false,
     "start_time": "2023-11-14T17:10:39.057169",
     "status": "completed"
    },
    "tags": []
   },
   "outputs": [
    {
     "data": {
      "text/markdown": [
       "<font size = 4> For reference, WNE team (RZQO) performance can be visualized as: </font><br>"
      ],
      "text/plain": [
       "<IPython.core.display.Markdown object>"
      ]
     },
     "execution_count": 28,
     "metadata": {},
     "output_type": "execute_result"
    }
   ],
   "source": [
    "md(f\"<font size = 4> For reference, WNE team (RZQO) performance can be visualized as: </font><br>\")  "
   ]
  },
  {
   "cell_type": "code",
   "execution_count": 29,
   "id": "a836171f",
   "metadata": {
    "execution": {
     "iopub.execute_input": "2023-11-14T17:10:39.089224Z",
     "iopub.status.busy": "2023-11-14T17:10:39.089021Z",
     "iopub.status.idle": "2023-11-14T17:10:39.095356Z",
     "shell.execute_reply": "2023-11-14T17:10:39.094947Z"
    },
    "papermill": {
     "duration": 0.016857,
     "end_time": "2023-11-14T17:10:39.096603",
     "exception": false,
     "start_time": "2023-11-14T17:10:39.079746",
     "status": "completed"
    },
    "tags": []
   },
   "outputs": [],
   "source": [
    "DF_WNE_OUR = DF_SUBHEATS.loc[DF_SUBHEATS['Team2'] == 'RZQO'][['Team2', 'Heat', 'NLV', 'User']].reset_index(drop=True)\n",
    "DF_WNE_OUR = DF_WNE_OUR.groupby(['Heat', 'User'])['NLV'].sum().unstack()"
   ]
  },
  {
   "cell_type": "code",
   "execution_count": 30,
   "id": "e0583c21",
   "metadata": {
    "execution": {
     "iopub.execute_input": "2023-11-14T17:10:39.114472Z",
     "iopub.status.busy": "2023-11-14T17:10:39.114294Z",
     "iopub.status.idle": "2023-11-14T17:10:39.249217Z",
     "shell.execute_reply": "2023-11-14T17:10:39.248806Z"
    },
    "papermill": {
     "duration": 0.14543,
     "end_time": "2023-11-14T17:10:39.250513",
     "exception": false,
     "start_time": "2023-11-14T17:10:39.105083",
     "status": "completed"
    },
    "tags": []
   },
   "outputs": [
    {
     "data": {
      "text/plain": [
       "<matplotlib.legend.Legend at 0x14f9db7d0>"
      ]
     },
     "execution_count": 30,
     "metadata": {},
     "output_type": "execute_result"
    },
    {
     "data": {
      "image/png": "[encoded data removed]",
      "text/plain": [
       "<Figure size 700x600 with 1 Axes>"
      ]
     },
     "metadata": {},
     "output_type": "display_data"
    }
   ],
   "source": [
    "fig, ax = plt.subplots(figsize=(7, 6))\n",
    "bar_width = 0.20\n",
    "index = np.arange(len(DF_WNE_OUR.index))\n",
    "\n",
    "bar1 = ax.bar(index - bar_width/2, DF_WNE_OUR['User 1'], bar_width, label='User 1')\n",
    "bar2 = ax.bar(index + bar_width/2, DF_WNE_OUR['User 2'], bar_width, label='User 2')\n",
    "\n",
    "ax.set_xlabel('Heat')\n",
    "ax.set_ylabel('NLV')\n",
    "\n",
    "ax.set_title('Heat')\n",
    "\n",
    "ax.set_xticks(index)\n",
    "ax.set_xticklabels(DF_WNE_OUR.index)\n",
    "\n",
    "ax.legend()"
   ]
  },
  {
   "cell_type": "code",
   "execution_count": 31,
   "id": "1d32eed9-3e8b-4e6d-a6e2-b60557bee6d7",
   "metadata": {
    "execution": {
     "iopub.execute_input": "2023-11-14T17:10:39.269391Z",
     "iopub.status.busy": "2023-11-14T17:10:39.269215Z",
     "iopub.status.idle": "2023-11-14T17:10:39.272496Z",
     "shell.execute_reply": "2023-11-14T17:10:39.272011Z"
    },
    "papermill": {
     "duration": 0.013939,
     "end_time": "2023-11-14T17:10:39.273751",
     "exception": false,
     "start_time": "2023-11-14T17:10:39.259812",
     "status": "completed"
    },
    "tags": []
   },
   "outputs": [
    {
     "data": {
      "text/markdown": [
       "<font size = 4> This section will present the teams that were on the top 5 Rank of this case - <b>Matlab_Volatility_Trading_Case</b></font><br>"
      ],
      "text/plain": [
       "<IPython.core.display.Markdown object>"
      ]
     },
     "execution_count": 31,
     "metadata": {},
     "output_type": "execute_result"
    }
   ],
   "source": [
    "md(f\"<font size = 4> This section will present the teams that were on the top 5 Rank of this case - <b>{case_name}</b></font><br>\")  "
   ]
  },
  {
   "cell_type": "code",
   "execution_count": 32,
   "id": "65b4fa5d-13cf-49ea-a189-2fc0604c233d",
   "metadata": {
    "execution": {
     "iopub.execute_input": "2023-11-14T17:10:39.292478Z",
     "iopub.status.busy": "2023-11-14T17:10:39.292286Z",
     "iopub.status.idle": "2023-11-14T17:10:39.295593Z",
     "shell.execute_reply": "2023-11-14T17:10:39.295060Z"
    },
    "papermill": {
     "duration": 0.014119,
     "end_time": "2023-11-14T17:10:39.296876",
     "exception": false,
     "start_time": "2023-11-14T17:10:39.282757",
     "status": "completed"
    },
    "tags": []
   },
   "outputs": [
    {
     "data": {
      "text/markdown": [
       "<font size = 4> The teams that are on the top 6 in this case are: </b></font><br>"
      ],
      "text/plain": [
       "<IPython.core.display.Markdown object>"
      ]
     },
     "execution_count": 32,
     "metadata": {},
     "output_type": "execute_result"
    }
   ],
   "source": [
    "md(f\"<font size = 4> The teams that are on the top 6 in this case are: </b></font><br>\")  "
   ]
  },
  {
   "cell_type": "code",
   "execution_count": 33,
   "id": "723c9ec4-fdc0-448e-85ca-24585b214bbe",
   "metadata": {
    "execution": {
     "iopub.execute_input": "2023-11-14T17:10:39.315392Z",
     "iopub.status.busy": "2023-11-14T17:10:39.315230Z",
     "iopub.status.idle": "2023-11-14T17:10:39.320248Z",
     "shell.execute_reply": "2023-11-14T17:10:39.319854Z"
    },
    "papermill": {
     "duration": 0.015591,
     "end_time": "2023-11-14T17:10:39.321515",
     "exception": false,
     "start_time": "2023-11-14T17:10:39.305924",
     "status": "completed"
    },
    "tags": []
   },
   "outputs": [
    {
     "data": {
      "text/plain": [
       "0    SZEI\n",
       "1    IVPJ\n",
       "2    VCSG\n",
       "3    DDIO\n",
       "4    OXLH\n",
       "Name: Team2, dtype: object"
      ]
     },
     "execution_count": 33,
     "metadata": {},
     "output_type": "execute_result"
    }
   ],
   "source": [
    "top5_case = DF_ALL.loc[DF_ALL.Rank<=5, \"Team2\"]\n",
    "DF_SUBHEATS_top5 = DF_SUBHEATS.loc[DF_SUBHEATS[\"Team2\"].isin(top5_case),:]\n",
    "top5_case"
   ]
  },
  {
   "cell_type": "code",
   "execution_count": 34,
   "id": "1bced9f2",
   "metadata": {
    "execution": {
     "iopub.execute_input": "2023-11-14T17:10:39.340504Z",
     "iopub.status.busy": "2023-11-14T17:10:39.340197Z",
     "iopub.status.idle": "2023-11-14T17:10:39.343202Z",
     "shell.execute_reply": "2023-11-14T17:10:39.342857Z"
    },
    "papermill": {
     "duration": 0.013661,
     "end_time": "2023-11-14T17:10:39.344396",
     "exception": false,
     "start_time": "2023-11-14T17:10:39.330735",
     "status": "completed"
    },
    "tags": []
   },
   "outputs": [
    {
     "data": {
      "text/markdown": [
       "<font size = 4> The dataframe after grouping looks like this:</b></font><br>"
      ],
      "text/plain": [
       "<IPython.core.display.Markdown object>"
      ]
     },
     "execution_count": 34,
     "metadata": {},
     "output_type": "execute_result"
    }
   ],
   "source": [
    "md(f\"<font size = 4> The dataframe after grouping looks like this:</b></font><br>\")  "
   ]
  },
  {
   "cell_type": "code",
   "execution_count": 35,
   "id": "e34b6345",
   "metadata": {
    "execution": {
     "iopub.execute_input": "2023-11-14T17:10:39.363303Z",
     "iopub.status.busy": "2023-11-14T17:10:39.363134Z",
     "iopub.status.idle": "2023-11-14T17:10:39.367434Z",
     "shell.execute_reply": "2023-11-14T17:10:39.367065Z"
    },
    "papermill": {
     "duration": 0.015044,
     "end_time": "2023-11-14T17:10:39.368655",
     "exception": false,
     "start_time": "2023-11-14T17:10:39.353611",
     "status": "completed"
    },
    "tags": []
   },
   "outputs": [],
   "source": [
    "%%capture\n",
    "\n",
    "DF_SUBHEATS_top5['Team2'] = pd.Categorical(DF_SUBHEATS_top5['Team2'], categories=top5_case, ordered=True)\n",
    "DF_SUBHEATS_top5 = DF_SUBHEATS_top5.sort_values(by='Team2')"
   ]
  },
  {
   "cell_type": "code",
   "execution_count": 36,
   "id": "af2cd1d9",
   "metadata": {
    "execution": {
     "iopub.execute_input": "2023-11-14T17:10:39.387891Z",
     "iopub.status.busy": "2023-11-14T17:10:39.387706Z",
     "iopub.status.idle": "2023-11-14T17:10:39.404859Z",
     "shell.execute_reply": "2023-11-14T17:10:39.404473Z"
    },
    "papermill": {
     "duration": 0.028134,
     "end_time": "2023-11-14T17:10:39.406200",
     "exception": false,
     "start_time": "2023-11-14T17:10:39.378066",
     "status": "completed"
    },
    "tags": []
   },
   "outputs": [
    {
     "data": {
      "text/html": [
       "<div>\n",
       "<style scoped>\n",
       "    .dataframe tbody tr th:only-of-type {\n",
       "        vertical-align: middle;\n",
       "    }\n",
       "\n",
       "    .dataframe tbody tr th {\n",
       "        vertical-align: top;\n",
       "    }\n",
       "\n",
       "    .dataframe thead th {\n",
       "        text-align: right;\n",
       "    }\n",
       "</style>\n",
       "<table border=\"1\" class=\"dataframe\">\n",
       "  <thead>\n",
       "    <tr style=\"text-align: right;\">\n",
       "      <th></th>\n",
       "      <th>User</th>\n",
       "      <th>User 1</th>\n",
       "      <th>User 2</th>\n",
       "      <th>User 3</th>\n",
       "      <th>User 4</th>\n",
       "    </tr>\n",
       "    <tr>\n",
       "      <th>Team2</th>\n",
       "      <th>Heat</th>\n",
       "      <th></th>\n",
       "      <th></th>\n",
       "      <th></th>\n",
       "      <th></th>\n",
       "    </tr>\n",
       "  </thead>\n",
       "  <tbody>\n",
       "    <tr>\n",
       "      <th rowspan=\"5\" valign=\"top\">SZEI</th>\n",
       "      <th>MVT-1</th>\n",
       "      <td>182449</td>\n",
       "      <td>0</td>\n",
       "      <td>110936</td>\n",
       "      <td>0</td>\n",
       "    </tr>\n",
       "    <tr>\n",
       "      <th>MVT-2</th>\n",
       "      <td>342578</td>\n",
       "      <td>0</td>\n",
       "      <td>266007</td>\n",
       "      <td>0</td>\n",
       "    </tr>\n",
       "    <tr>\n",
       "      <th>MVT-3</th>\n",
       "      <td>348945</td>\n",
       "      <td>0</td>\n",
       "      <td>329991</td>\n",
       "      <td>0</td>\n",
       "    </tr>\n",
       "    <tr>\n",
       "      <th>MVT-4</th>\n",
       "      <td>206233</td>\n",
       "      <td>0</td>\n",
       "      <td>-12234</td>\n",
       "      <td>0</td>\n",
       "    </tr>\n",
       "    <tr>\n",
       "      <th>MVT-5</th>\n",
       "      <td>185869</td>\n",
       "      <td>0</td>\n",
       "      <td>183952</td>\n",
       "      <td>0</td>\n",
       "    </tr>\n",
       "    <tr>\n",
       "      <th rowspan=\"5\" valign=\"top\">IVPJ</th>\n",
       "      <th>MVT-1</th>\n",
       "      <td>0</td>\n",
       "      <td>0</td>\n",
       "      <td>204502</td>\n",
       "      <td>197672</td>\n",
       "    </tr>\n",
       "    <tr>\n",
       "      <th>MVT-2</th>\n",
       "      <td>0</td>\n",
       "      <td>0</td>\n",
       "      <td>275096</td>\n",
       "      <td>317206</td>\n",
       "    </tr>\n",
       "    <tr>\n",
       "      <th>MVT-3</th>\n",
       "      <td>0</td>\n",
       "      <td>0</td>\n",
       "      <td>202394</td>\n",
       "      <td>248210</td>\n",
       "    </tr>\n",
       "    <tr>\n",
       "      <th>MVT-4</th>\n",
       "      <td>0</td>\n",
       "      <td>0</td>\n",
       "      <td>38493</td>\n",
       "      <td>74690</td>\n",
       "    </tr>\n",
       "    <tr>\n",
       "      <th>MVT-5</th>\n",
       "      <td>0</td>\n",
       "      <td>0</td>\n",
       "      <td>105585</td>\n",
       "      <td>116071</td>\n",
       "    </tr>\n",
       "    <tr>\n",
       "      <th rowspan=\"5\" valign=\"top\">VCSG</th>\n",
       "      <th>MVT-1</th>\n",
       "      <td>175088</td>\n",
       "      <td>0</td>\n",
       "      <td>0</td>\n",
       "      <td>180043</td>\n",
       "    </tr>\n",
       "    <tr>\n",
       "      <th>MVT-2</th>\n",
       "      <td>282375</td>\n",
       "      <td>0</td>\n",
       "      <td>0</td>\n",
       "      <td>295141</td>\n",
       "    </tr>\n",
       "    <tr>\n",
       "      <th>MVT-3</th>\n",
       "      <td>237981</td>\n",
       "      <td>0</td>\n",
       "      <td>0</td>\n",
       "      <td>197598</td>\n",
       "    </tr>\n",
       "    <tr>\n",
       "      <th>MVT-4</th>\n",
       "      <td>66141</td>\n",
       "      <td>0</td>\n",
       "      <td>0</td>\n",
       "      <td>110067</td>\n",
       "    </tr>\n",
       "    <tr>\n",
       "      <th>MVT-5</th>\n",
       "      <td>103115</td>\n",
       "      <td>0</td>\n",
       "      <td>0</td>\n",
       "      <td>140582</td>\n",
       "    </tr>\n",
       "    <tr>\n",
       "      <th rowspan=\"5\" valign=\"top\">DDIO</th>\n",
       "      <th>MVT-1</th>\n",
       "      <td>187599</td>\n",
       "      <td>0</td>\n",
       "      <td>53738</td>\n",
       "      <td>0</td>\n",
       "    </tr>\n",
       "    <tr>\n",
       "      <th>MVT-2</th>\n",
       "      <td>295254</td>\n",
       "      <td>0</td>\n",
       "      <td>320840</td>\n",
       "      <td>0</td>\n",
       "    </tr>\n",
       "    <tr>\n",
       "      <th>MVT-3</th>\n",
       "      <td>144008</td>\n",
       "      <td>0</td>\n",
       "      <td>171006</td>\n",
       "      <td>0</td>\n",
       "    </tr>\n",
       "    <tr>\n",
       "      <th>MVT-4</th>\n",
       "      <td>178211</td>\n",
       "      <td>0</td>\n",
       "      <td>68498</td>\n",
       "      <td>0</td>\n",
       "    </tr>\n",
       "    <tr>\n",
       "      <th>MVT-5</th>\n",
       "      <td>124972</td>\n",
       "      <td>0</td>\n",
       "      <td>92300</td>\n",
       "      <td>0</td>\n",
       "    </tr>\n",
       "    <tr>\n",
       "      <th rowspan=\"5\" valign=\"top\">OXLH</th>\n",
       "      <th>MVT-1</th>\n",
       "      <td>145761</td>\n",
       "      <td>160305</td>\n",
       "      <td>0</td>\n",
       "      <td>0</td>\n",
       "    </tr>\n",
       "    <tr>\n",
       "      <th>MVT-2</th>\n",
       "      <td>162028</td>\n",
       "      <td>139964</td>\n",
       "      <td>0</td>\n",
       "      <td>0</td>\n",
       "    </tr>\n",
       "    <tr>\n",
       "      <th>MVT-3</th>\n",
       "      <td>162066</td>\n",
       "      <td>191389</td>\n",
       "      <td>0</td>\n",
       "      <td>0</td>\n",
       "    </tr>\n",
       "    <tr>\n",
       "      <th>MVT-4</th>\n",
       "      <td>108998</td>\n",
       "      <td>104008</td>\n",
       "      <td>0</td>\n",
       "      <td>0</td>\n",
       "    </tr>\n",
       "    <tr>\n",
       "      <th>MVT-5</th>\n",
       "      <td>110786</td>\n",
       "      <td>90099</td>\n",
       "      <td>0</td>\n",
       "      <td>0</td>\n",
       "    </tr>\n",
       "  </tbody>\n",
       "</table>\n",
       "</div>"
      ],
      "text/plain": [
       "User         User 1  User 2  User 3  User 4\n",
       "Team2 Heat                                 \n",
       "SZEI  MVT-1  182449       0  110936       0\n",
       "      MVT-2  342578       0  266007       0\n",
       "      MVT-3  348945       0  329991       0\n",
       "      MVT-4  206233       0  -12234       0\n",
       "      MVT-5  185869       0  183952       0\n",
       "IVPJ  MVT-1       0       0  204502  197672\n",
       "      MVT-2       0       0  275096  317206\n",
       "      MVT-3       0       0  202394  248210\n",
       "      MVT-4       0       0   38493   74690\n",
       "      MVT-5       0       0  105585  116071\n",
       "VCSG  MVT-1  175088       0       0  180043\n",
       "      MVT-2  282375       0       0  295141\n",
       "      MVT-3  237981       0       0  197598\n",
       "      MVT-4   66141       0       0  110067\n",
       "      MVT-5  103115       0       0  140582\n",
       "DDIO  MVT-1  187599       0   53738       0\n",
       "      MVT-2  295254       0  320840       0\n",
       "      MVT-3  144008       0  171006       0\n",
       "      MVT-4  178211       0   68498       0\n",
       "      MVT-5  124972       0   92300       0\n",
       "OXLH  MVT-1  145761  160305       0       0\n",
       "      MVT-2  162028  139964       0       0\n",
       "      MVT-3  162066  191389       0       0\n",
       "      MVT-4  108998  104008       0       0\n",
       "      MVT-5  110786   90099       0       0"
      ]
     },
     "execution_count": 36,
     "metadata": {},
     "output_type": "execute_result"
    }
   ],
   "source": [
    "DF_SUBHEATS_top5_pivot = DF_SUBHEATS_top5.pivot_table(index=['Team2', 'Heat'], columns='User', values='NLV', aggfunc='sum')\n",
    "DF_SUBHEATS_top5_pivot.fillna(0).astype(int)"
   ]
  },
  {
   "cell_type": "code",
   "execution_count": 37,
   "id": "0f4f2f05-90fe-4f02-a42e-b81da1c42410",
   "metadata": {
    "execution": {
     "iopub.execute_input": "2023-11-14T17:10:39.426498Z",
     "iopub.status.busy": "2023-11-14T17:10:39.426168Z",
     "iopub.status.idle": "2023-11-14T17:10:39.429300Z",
     "shell.execute_reply": "2023-11-14T17:10:39.428943Z"
    },
    "papermill": {
     "duration": 0.014491,
     "end_time": "2023-11-14T17:10:39.430479",
     "exception": false,
     "start_time": "2023-11-14T17:10:39.415988",
     "status": "completed"
    },
    "tags": []
   },
   "outputs": [
    {
     "data": {
      "text/markdown": [
       "<font size = 4> It can be visuaized in the following way: </b></font><br>"
      ],
      "text/plain": [
       "<IPython.core.display.Markdown object>"
      ]
     },
     "execution_count": 37,
     "metadata": {},
     "output_type": "execute_result"
    }
   ],
   "source": [
    "md(f\"<font size = 4> It can be visuaized in the following way: </b></font><br>\")  "
   ]
  },
  {
   "cell_type": "code",
   "execution_count": 38,
   "id": "d41d6bb9",
   "metadata": {
    "execution": {
     "iopub.execute_input": "2023-11-14T17:10:39.450344Z",
     "iopub.status.busy": "2023-11-14T17:10:39.450163Z",
     "iopub.status.idle": "2023-11-14T17:10:39.457884Z",
     "shell.execute_reply": "2023-11-14T17:10:39.457522Z"
    },
    "papermill": {
     "duration": 0.018882,
     "end_time": "2023-11-14T17:10:39.459076",
     "exception": false,
     "start_time": "2023-11-14T17:10:39.440194",
     "status": "completed"
    },
    "tags": []
   },
   "outputs": [],
   "source": [
    "DF_SUBHEATS_RZQO = DF_SUBHEATS.loc[DF_SUBHEATS['Team2']=='RZQO'].pivot_table(index=['Team2', 'Heat'], columns='User', values='NLV', aggfunc='sum')"
   ]
  },
  {
   "cell_type": "code",
   "execution_count": 39,
   "id": "649618f4",
   "metadata": {
    "execution": {
     "iopub.execute_input": "2023-11-14T17:10:39.478748Z",
     "iopub.status.busy": "2023-11-14T17:10:39.478571Z",
     "iopub.status.idle": "2023-11-14T17:10:39.870680Z",
     "shell.execute_reply": "2023-11-14T17:10:39.870281Z"
    },
    "papermill": {
     "duration": 0.403665,
     "end_time": "2023-11-14T17:10:39.872279",
     "exception": false,
     "start_time": "2023-11-14T17:10:39.468614",
     "status": "completed"
    },
    "tags": []
   },
   "outputs": [
    {
     "data": {
      "image/png": "[encoded data removed]",
      "text/plain": [
       "<Figure size 1000x800 with 2 Axes>"
      ]
     },
     "metadata": {},
     "output_type": "display_data"
    }
   ],
   "source": [
    "# Plot a horizontal bar chart\n",
    "fig, axes = plt.subplots(nrows=2, ncols=1, figsize=(10, 8), gridspec_kw={'height_ratios': [6, 1]})\n",
    "\n",
    "DF_SUBHEATS_top5_pivot.plot(kind='barh', stacked=True, ax=axes[0])\n",
    "DF_SUBHEATS_RZQO.plot(kind='barh', stacked=True, ax=axes[1])\n",
    "\n",
    "axes[0].set_title('NLV by Team, MVT, and User')\n",
    "axes[1].set_xlabel('NLV')\n",
    "\n",
    "axes[0].legend(title='User')\n",
    "\n",
    "plt.show()"
   ]
  },
  {
   "cell_type": "code",
   "execution_count": 40,
   "id": "45172253-1c58-43a3-b54a-c05047f5ce11",
   "metadata": {
    "execution": {
     "iopub.execute_input": "2023-11-14T17:10:39.894830Z",
     "iopub.status.busy": "2023-11-14T17:10:39.894607Z",
     "iopub.status.idle": "2023-11-14T17:10:39.897900Z",
     "shell.execute_reply": "2023-11-14T17:10:39.897474Z"
    },
    "papermill": {
     "duration": 0.016382,
     "end_time": "2023-11-14T17:10:39.899093",
     "exception": false,
     "start_time": "2023-11-14T17:10:39.882711",
     "status": "completed"
    },
    "tags": []
   },
   "outputs": [
    {
     "data": {
      "text/markdown": [
       "<font size = 4> Average of Users per Heat for top rank teams: </b></font><br>"
      ],
      "text/plain": [
       "<IPython.core.display.Markdown object>"
      ]
     },
     "execution_count": 40,
     "metadata": {},
     "output_type": "execute_result"
    }
   ],
   "source": [
    "md(f\"<font size = 4> Average of Users per Heat for top rank teams: </b></font><br>\")  "
   ]
  },
  {
   "cell_type": "code",
   "execution_count": 41,
   "id": "9948813a-24c6-4690-931c-c8a217f6aed9",
   "metadata": {
    "execution": {
     "iopub.execute_input": "2023-11-14T17:10:39.921022Z",
     "iopub.status.busy": "2023-11-14T17:10:39.920716Z",
     "iopub.status.idle": "2023-11-14T17:10:39.933147Z",
     "shell.execute_reply": "2023-11-14T17:10:39.932756Z"
    },
    "papermill": {
     "duration": 0.024483,
     "end_time": "2023-11-14T17:10:39.934406",
     "exception": false,
     "start_time": "2023-11-14T17:10:39.909923",
     "status": "completed"
    },
    "scrolled": true,
    "tags": []
   },
   "outputs": [
    {
     "data": {
      "text/html": [
       "<div>\n",
       "<style scoped>\n",
       "    .dataframe tbody tr th:only-of-type {\n",
       "        vertical-align: middle;\n",
       "    }\n",
       "\n",
       "    .dataframe tbody tr th {\n",
       "        vertical-align: top;\n",
       "    }\n",
       "\n",
       "    .dataframe thead th {\n",
       "        text-align: right;\n",
       "    }\n",
       "</style>\n",
       "<table border=\"1\" class=\"dataframe\">\n",
       "  <thead>\n",
       "    <tr style=\"text-align: right;\">\n",
       "      <th>Heat</th>\n",
       "      <th>MVT-1</th>\n",
       "      <th>MVT-2</th>\n",
       "      <th>MVT-3</th>\n",
       "      <th>MVT-4</th>\n",
       "      <th>MVT-5</th>\n",
       "    </tr>\n",
       "    <tr>\n",
       "      <th>Team2</th>\n",
       "      <th></th>\n",
       "      <th></th>\n",
       "      <th></th>\n",
       "      <th></th>\n",
       "      <th></th>\n",
       "    </tr>\n",
       "  </thead>\n",
       "  <tbody>\n",
       "    <tr>\n",
       "      <th>DDIO</th>\n",
       "      <td>120669</td>\n",
       "      <td>308047</td>\n",
       "      <td>157507</td>\n",
       "      <td>123355</td>\n",
       "      <td>108636</td>\n",
       "    </tr>\n",
       "    <tr>\n",
       "      <th>IVPJ</th>\n",
       "      <td>201087</td>\n",
       "      <td>296151</td>\n",
       "      <td>225302</td>\n",
       "      <td>56592</td>\n",
       "      <td>110828</td>\n",
       "    </tr>\n",
       "    <tr>\n",
       "      <th>OXLH</th>\n",
       "      <td>153033</td>\n",
       "      <td>150996</td>\n",
       "      <td>176728</td>\n",
       "      <td>106503</td>\n",
       "      <td>100443</td>\n",
       "    </tr>\n",
       "    <tr>\n",
       "      <th>SZEI</th>\n",
       "      <td>146692</td>\n",
       "      <td>304292</td>\n",
       "      <td>339468</td>\n",
       "      <td>96999</td>\n",
       "      <td>184911</td>\n",
       "    </tr>\n",
       "    <tr>\n",
       "      <th>VCSG</th>\n",
       "      <td>177565</td>\n",
       "      <td>288758</td>\n",
       "      <td>217790</td>\n",
       "      <td>88104</td>\n",
       "      <td>121848</td>\n",
       "    </tr>\n",
       "  </tbody>\n",
       "</table>\n",
       "</div>"
      ],
      "text/plain": [
       "Heat    MVT-1   MVT-2   MVT-3   MVT-4   MVT-5\n",
       "Team2                                        \n",
       "DDIO   120669  308047  157507  123355  108636\n",
       "IVPJ   201087  296151  225302   56592  110828\n",
       "OXLH   153033  150996  176728  106503  100443\n",
       "SZEI   146692  304292  339468   96999  184911\n",
       "VCSG   177565  288758  217790   88104  121848"
      ]
     },
     "execution_count": 41,
     "metadata": {},
     "output_type": "execute_result"
    }
   ],
   "source": [
    "DF_SUBHEATS_top5_mean = pd.DataFrame(DF_SUBHEATS_top5.groupby(['Team2','Heat'])['NLV'].mean())\n",
    "\n",
    "DF_SUBHEATS_top5_mean[\"Team2\"] = [ind[0] for ind in DF_SUBHEATS_top5_mean.index]\n",
    "DF_SUBHEATS_top5_mean[\"Heat\"] = [ind[1] for ind in DF_SUBHEATS_top5_mean.index]\n",
    "\n",
    "DF_SUBHEATS_top5_mean_pivot = DF_SUBHEATS_top5_mean.pivot(index='Team2', columns='Heat', values='NLV').astype(int)\n",
    "DF_SUBHEATS_top5_mean_pivot"
   ]
  },
  {
   "cell_type": "code",
   "execution_count": 42,
   "id": "6a806404",
   "metadata": {
    "execution": {
     "iopub.execute_input": "2023-11-14T17:10:39.956145Z",
     "iopub.status.busy": "2023-11-14T17:10:39.955958Z",
     "iopub.status.idle": "2023-11-14T17:10:39.964776Z",
     "shell.execute_reply": "2023-11-14T17:10:39.964321Z"
    },
    "papermill": {
     "duration": 0.021173,
     "end_time": "2023-11-14T17:10:39.966124",
     "exception": false,
     "start_time": "2023-11-14T17:10:39.944951",
     "status": "completed"
    },
    "tags": []
   },
   "outputs": [
    {
     "data": {
      "text/html": [
       "<div>\n",
       "<style scoped>\n",
       "    .dataframe tbody tr th:only-of-type {\n",
       "        vertical-align: middle;\n",
       "    }\n",
       "\n",
       "    .dataframe tbody tr th {\n",
       "        vertical-align: top;\n",
       "    }\n",
       "\n",
       "    .dataframe thead th {\n",
       "        text-align: right;\n",
       "    }\n",
       "</style>\n",
       "<table border=\"1\" class=\"dataframe\">\n",
       "  <thead>\n",
       "    <tr style=\"text-align: right;\">\n",
       "      <th>Heat</th>\n",
       "      <th>MVT-1</th>\n",
       "      <th>MVT-2</th>\n",
       "      <th>MVT-3</th>\n",
       "      <th>MVT-4</th>\n",
       "      <th>MVT-5</th>\n",
       "    </tr>\n",
       "    <tr>\n",
       "      <th>Team2</th>\n",
       "      <th></th>\n",
       "      <th></th>\n",
       "      <th></th>\n",
       "      <th></th>\n",
       "      <th></th>\n",
       "    </tr>\n",
       "  </thead>\n",
       "  <tbody>\n",
       "    <tr>\n",
       "      <th>RZQO</th>\n",
       "      <td>170418</td>\n",
       "      <td>110753</td>\n",
       "      <td>160833</td>\n",
       "      <td>-6331</td>\n",
       "      <td>51302</td>\n",
       "    </tr>\n",
       "  </tbody>\n",
       "</table>\n",
       "</div>"
      ],
      "text/plain": [
       "Heat    MVT-1   MVT-2   MVT-3  MVT-4  MVT-5\n",
       "Team2                                      \n",
       "RZQO   170418  110753  160833  -6331  51302"
      ]
     },
     "execution_count": 42,
     "metadata": {},
     "output_type": "execute_result"
    }
   ],
   "source": [
    "DF_SUBHEATS_RZQO_mean = pd.DataFrame(DF_SUBHEATS.loc[DF_SUBHEATS['Team2']=='RZQO'].groupby(['Team2', 'Heat'])['NLV'].mean())\n",
    "\n",
    "DF_SUBHEATS_RZQO_mean[\"Team2\"] = [ind[0] for ind in DF_SUBHEATS_RZQO_mean.index]\n",
    "DF_SUBHEATS_RZQO_mean[\"Heat\"] = [ind[1] for ind in DF_SUBHEATS_RZQO_mean.index]\n",
    "\n",
    "DF_SUBHEATS_RZQO_mean_pivot = DF_SUBHEATS_RZQO_mean.pivot(index='Team2', columns='Heat', values='NLV').astype(int)\n",
    "DF_SUBHEATS_RZQO_mean_pivot"
   ]
  },
  {
   "cell_type": "code",
   "execution_count": 43,
   "id": "224fb0a3",
   "metadata": {
    "execution": {
     "iopub.execute_input": "2023-11-14T17:10:39.988016Z",
     "iopub.status.busy": "2023-11-14T17:10:39.987844Z",
     "iopub.status.idle": "2023-11-14T17:10:40.190972Z",
     "shell.execute_reply": "2023-11-14T17:10:40.190514Z"
    },
    "papermill": {
     "duration": 0.215647,
     "end_time": "2023-11-14T17:10:40.192480",
     "exception": false,
     "start_time": "2023-11-14T17:10:39.976833",
     "status": "completed"
    },
    "tags": []
   },
   "outputs": [
    {
     "data": {
      "image/png": "[encoded data removed]",
      "text/plain": [
       "<Figure size 1000x800 with 2 Axes>"
      ]
     },
     "metadata": {},
     "output_type": "display_data"
    }
   ],
   "source": [
    "fig, [ax1, ax2] = plt.subplots(nrows=2, ncols=1, figsize=(10, 8), gridspec_kw={'height_ratios': [5, 2]})\n",
    "\n",
    "for team in DF_SUBHEATS_top5_mean_pivot.index:\n",
    "    ax1.plot(DF_SUBHEATS_top5_mean_pivot.columns, DF_SUBHEATS_top5_mean_pivot.loc[team].values, label=team)\n",
    "\n",
    "ax2.plot(DF_SUBHEATS_RZQO_mean_pivot.columns, DF_SUBHEATS_RZQO_mean_pivot.loc['RZQO'].values, label='RZQO')\n",
    "\n",
    "\n",
    "plt.xlabel('Heat')\n",
    "plt.ylabel('NLV')\n",
    "\n",
    "ax1.set_title('Plot to visualize the flow of movement between each Heat')\n",
    "\n",
    "ax1.legend(loc = 'upper right')\n",
    "ax2.legend(loc = 'upper right')\n",
    "plt.show()"
   ]
  },
  {
   "cell_type": "markdown",
   "id": "e707184f-ef30-48b5-9993-2dbc75733f57",
   "metadata": {
    "papermill": {
     "duration": 0.011428,
     "end_time": "2023-11-14T17:10:40.215489",
     "exception": false,
     "start_time": "2023-11-14T17:10:40.204061",
     "status": "completed"
    },
    "tags": []
   },
   "source": [
    "### Simulation with DF_ALL"
   ]
  },
  {
   "cell_type": "code",
   "execution_count": 44,
   "id": "033c5325-d86c-422d-92e4-c46af9622d40",
   "metadata": {
    "execution": {
     "iopub.execute_input": "2023-11-14T17:10:40.239618Z",
     "iopub.status.busy": "2023-11-14T17:10:40.239402Z",
     "iopub.status.idle": "2023-11-14T17:10:40.241866Z",
     "shell.execute_reply": "2023-11-14T17:10:40.241392Z"
    },
    "papermill": {
     "duration": 0.016364,
     "end_time": "2023-11-14T17:10:40.243103",
     "exception": false,
     "start_time": "2023-11-14T17:10:40.226739",
     "status": "completed"
    },
    "tags": []
   },
   "outputs": [],
   "source": [
    "# UNDERSTAND THIS"
   ]
  },
  {
   "cell_type": "code",
   "execution_count": 45,
   "id": "12a7117f-39ff-420e-a445-86ce6bcfa628",
   "metadata": {
    "execution": {
     "iopub.execute_input": "2023-11-14T17:10:40.266179Z",
     "iopub.status.busy": "2023-11-14T17:10:40.266009Z",
     "iopub.status.idle": "2023-11-14T17:10:40.287622Z",
     "shell.execute_reply": "2023-11-14T17:10:40.287203Z"
    },
    "papermill": {
     "duration": 0.034702,
     "end_time": "2023-11-14T17:10:40.289018",
     "exception": false,
     "start_time": "2023-11-14T17:10:40.254316",
     "status": "completed"
    },
    "scrolled": true,
    "tags": []
   },
   "outputs": [
    {
     "name": "stdout",
     "output_type": "stream",
     "text": [
      "1 True\n",
      "2 True\n",
      "3 True\n",
      "4 False\n"
     ]
    }
   ],
   "source": [
    "for place in range(1, 20):\n",
    "    DF_ALL_NEW = DF_ALL.copy()\n",
    "    DF_ALL_NEW = DF_ALL_NEW.loc[~DF_ALL_NEW[\"Team\"].str.contains(\"RZQO\"),:] # Removing WNE\n",
    "    \n",
    "    subheats = DF_ALL_NEW.columns[DF_ALL_NEW.columns.str.contains(\"Details\")] # Getting the Subheats\n",
    "    # zeby zalatac dziurę po usunieciu WWA\n",
    "    DF_ALL_NEW[subheats] = DF_ALL_NEW[subheats].rank()\n",
    "    \n",
    "    for subheat in subheats:\n",
    "        DF_ALL_NEW.loc[DF_ALL_NEW[subheat]>=place, subheat] +=1\n",
    "    \n",
    "    DF_ALL_NEW[\"Mean\"] = DF_ALL_NEW[subheats].mean(axis = 1)\n",
    "    \n",
    "    print(place, DF_ALL_NEW.loc[1,\"Mean\"]>=place)\n",
    "    \n",
    "    if ~(DF_ALL_NEW.loc[1,\"Mean\"]>=place):\n",
    "        break"
   ]
  },
  {
   "cell_type": "markdown",
   "id": "48920d5b-98f5-45c2-9817-755639e9719e",
   "metadata": {
    "papermill": {
     "duration": 0.010937,
     "end_time": "2023-11-14T17:10:40.311469",
     "exception": false,
     "start_time": "2023-11-14T17:10:40.300532",
     "status": "completed"
    },
    "tags": []
   },
   "source": [
    "##"
   ]
  },
  {
   "cell_type": "markdown",
   "id": "a9811138-f07a-4ecb-8057-a410650c298c",
   "metadata": {
    "papermill": {
     "duration": 0.010998,
     "end_time": "2023-11-14T17:10:40.333603",
     "exception": false,
     "start_time": "2023-11-14T17:10:40.322605",
     "status": "completed"
    },
    "tags": []
   },
   "source": [
    "##"
   ]
  }
 ],
 "metadata": {
  "kernelspec": {
   "display_name": "Python 3 (ipykernel)",
   "language": "python",
   "name": "python3"
  },
  "language_info": {
   "codemirror_mode": {
    "name": "ipython",
    "version": 3
   },
   "file_extension": ".py",
   "mimetype": "text/x-python",
   "name": "python",
   "nbconvert_exporter": "python",
   "pygments_lexer": "ipython3",
   "version": "3.11.5"
  },
  "papermill": {
   "default_parameters": {},
   "duration": 6.644113,
   "end_time": "2023-11-14T17:10:40.664729",
   "environment_variables": {},
   "exception": null,
   "input_path": "/Users/kamilkashif/Documents/Python/RITC/templates/CASE_TEMPLATE_MVT.ipynb",
   "output_path": "/Users/kamilkashif/Documents/Python/RITC/outputs/Matlab_Volatility_Trading_Case_Score_Analysis.ipynb",
   "parameters": {
    "case_name": "Matlab_Volatility_Trading_Case",
    "file_name": "/Users/kamilkashif/Documents/Python/RITC/inputs/Final_Resuts_from_RITC_2022",
    "sheet_name_all": "MVT",
    "subheats_list": [
     "MVT-1",
     "MVT-2",
     "MVT-3",
     "MVT-4",
     "MVT-5"
    ]
   },
   "start_time": "2023-11-14T17:10:34.020616",
   "version": "2.5.0"
  }
 },
 "nbformat": 4,
 "nbformat_minor": 5
}